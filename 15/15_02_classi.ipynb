{
  "nbformat": 4,
  "nbformat_minor": 0,
  "metadata": {
    "colab": {
      "provenance": []
    },
    "kernelspec": {
      "name": "python3",
      "display_name": "Python 3"
    },
    "language_info": {
      "name": "python"
    }
  },
  "cells": [
    {
      "cell_type": "markdown",
      "source": [
        "# Classi\n",
        "Abbiamo visto che Python è un linguaggio orientato agli oggetti, è quindi possibile definire delle classi.\n",
        "\n",
        "Una classe è un modello che può essere utilizzato per creare degli oggetti, ossia istanze di quella classe, che condividono proprietà e metodi comuni.\n",
        "\n",
        "Dentro una classe si possono definire degli attributi (delle variabili) e dei metodi, ossia funzioni che potranno essere richiamate sugli oggetti di quella classe.\n",
        "\n",
        "Per definire una classe la sintassi è:\n",
        "```\n",
        "class <nome della classe>:\n",
        "     <definizione dei metodi e degli attributi>\n",
        "```\n",
        "\n",
        "Dentro ad una classe è presente una variabile speciale chiamata **self** che contiene un riferimento allo specifico oggetto che rappresenta l'istanza di quella classe.\n",
        "\n",
        "Dentro una classe i metodi sono definiti esattamente come una funzione, quindi con l'istruzione **def**, ogni metodo non statico (vedremo successivamente cosa significa) deve contenere come primo parametro la variabile **self**.\n",
        "\n",
        "Il metodo costruttore, ossia quello che viene chiamato quando si crea un nuovo oggetto, viene definito come una funzione chiamata `__init__`.\n"
      ],
      "metadata": {
        "id": "a7xMt4tBKyE7"
      }
    },
    {
      "cell_type": "code",
      "source": [
        "class Persona:\n",
        "   def __init__(self, cf, nome, cognome): # Costruttore\n",
        "      self.cf = cf           # Attributi di persona\n",
        "      self.nome = nome\n",
        "      self.cognome = cognome\n",
        "\n",
        "   def get_nominativo(self):\n",
        "      return self.nome + \" \" + self.cognome\n",
        "\n",
        "p = Persona(\"MRS123\", \"Mario\", \"Rossi\")\n",
        "print(p.get_nominativo()) # Visualizza Mario Rossi"
      ],
      "metadata": {
        "colab": {
          "base_uri": "https://localhost:8080/"
        },
        "id": "oLK19gsbLPjz",
        "outputId": "58823918-3b4c-4c94-d161-3990d04770f6"
      },
      "execution_count": 1,
      "outputs": [
        {
          "output_type": "stream",
          "name": "stdout",
          "text": [
            "Mario Rossi\n"
          ]
        }
      ]
    },
    {
      "cell_type": "markdown",
      "source": [
        "In linguaggi come Java possiamo definire attributi pubblici o privati, gli attributi pubblici sono accessibili dall'esterno di una classe, gli attributi privati solo dal suo interno (quindi dai metodi che definisce).\n",
        "\n",
        "In Python non esiste il concetto di attributo privato: è sempre possibile accedere ad un attributo usando la notazione nomeOggetto.nomeAttributo.\n",
        "Per notazione gli attributi privati sono indicati precedendo il loro nome con l'underscore, però dal punto di vista dell'interprete non vengono considerati come privati e quindi ne lascia comunque libero l'accesso (anche in modifica)\n"
      ],
      "metadata": {
        "id": "NhlZHR0DLSj7"
      }
    },
    {
      "cell_type": "code",
      "source": [
        "class Persona:\n",
        "   def __init__(self, cf, nome, cognome): # Costruttore\n",
        "      self._cf = cf      # Indichiamo come privato il cf\n",
        "      self.nome = nome\n",
        "      self.cognome = cognome\n",
        "\n",
        "   def get_nominativo(self):\n",
        "      return self.nome + \" \" + self.cognome\n",
        "\n",
        "p = Persona(\"MRS123\", \"Mario\", \"Rossi\")\n",
        "print(p._cf) # Si può comunque accedervi, non dà errore\n",
        "p._cf = 123  # Anche in scrittura\n",
        "print(p._cf) # Visualizza 123"
      ],
      "metadata": {
        "colab": {
          "base_uri": "https://localhost:8080/"
        },
        "id": "tCh6doHyLgr5",
        "outputId": "60fb3fc4-29f8-41a0-fd1d-cc4e901dad0d"
      },
      "execution_count": 2,
      "outputs": [
        {
          "output_type": "stream",
          "name": "stdout",
          "text": [
            "MRS123\n",
            "123\n"
          ]
        }
      ]
    },
    {
      "cell_type": "markdown",
      "source": [
        "## Metodi statici\n",
        "Abbiamo visto che ogni metodo non statico deve contenere come primo parametro self, esistono anche metodi statici. Sono metodi che non sono legati ad un oggetto (quindi all'istanza della classe), ma sono solo contenuti nella classe e possono essere richiamati come NomeClasse.NomeMetodo.\n",
        "\n",
        "Sono utili, ad esempio, se vogliamo definire una libreria di funzioni contenuta in una classe, o comunque funzioni che fanno parte di quella classe ma che non dipendono da una specifica istanza.\n",
        "\n",
        "Per indicare che un metodo di una classe è statico e  non inizia con il parametro self, deve essere preceduto dal decoratore **@staticmethod**.\n"
      ],
      "metadata": {
        "id": "_2K0D1xmLjGi"
      }
    },
    {
      "cell_type": "code",
      "source": [
        "from datetime import datetime\n",
        "from dateutil.relativedelta import relativedelta\n",
        "\n",
        "class Persona:\n",
        "   @staticmethod\n",
        "   def calcola_eta(data_nascita):\n",
        "      # Converte la data da stringa a data\n",
        "      dn = datetime.strptime(data_nascita, \"%d/%m/%Y\")\n",
        "      # Prende la data di oggi\n",
        "      oggi = datetime.today()\n",
        "      # Calcola gli anni tra le due date\n",
        "      return relativedelta (oggi,  dn).years\n",
        "\n",
        "   def __init__(self, cf, nome, cognome, dataN):\n",
        "      self._cf = cf      # Indichiamo come privato il cf\n",
        "      self.nome = nome\n",
        "      self.cognome = cognome\n",
        "      self.dataN = dataN\n",
        "\n",
        "   def get_nominativo(self):\n",
        "      return self.nome + \" \" + self.cognome\n",
        "\n",
        "   def get_eta(self):\n",
        "      return Persona.calcola_eta(self.dataN)\n",
        "\n",
        "print(Persona.calcola_eta(\"20/06/2006\"))\n",
        "\n",
        "p = Persona(\"MRS123\", \"Mario\", \"Rossi\", \"20/06/2006\")\n",
        "print(p.get_eta())"
      ],
      "metadata": {
        "colab": {
          "base_uri": "https://localhost:8080/"
        },
        "id": "GyC2CMOsLuRi",
        "outputId": "bc2c54e3-d8eb-4a59-ec33-0bc1fc7ab864"
      },
      "execution_count": 4,
      "outputs": [
        {
          "output_type": "stream",
          "name": "stdout",
          "text": [
            "19\n",
            "19\n"
          ]
        }
      ]
    }
  ]
}