{
  "nbformat": 4,
  "nbformat_minor": 0,
  "metadata": {
    "colab": {
      "provenance": []
    },
    "kernelspec": {
      "name": "python3",
      "display_name": "Python 3"
    },
    "language_info": {
      "name": "python"
    }
  },
  "cells": [
    {
      "cell_type": "markdown",
      "source": [
        "# Introduzione\n",
        "Concetti di uso comune"
      ],
      "metadata": {
        "id": "5x3Jv3JmxDC7"
      }
    },
    {
      "cell_type": "markdown",
      "source": [
        "## Commenti\n",
        "\n",
        "In Python i commenti su linea singola sono preceduti dal cancelletto (#), mentre commenti multilinea possono essere aperti e chiusi con tre virgolette (\"\"\")."
      ],
      "metadata": {
        "id": "AqB9k-Y84VHd"
      }
    },
    {
      "cell_type": "code",
      "execution_count": null,
      "metadata": {
        "id": "eso9IimRw8iJ",
        "colab": {
          "base_uri": "https://localhost:8080/",
          "height": 35
        },
        "outputId": "d7ad0a7f-c04a-4d77-a388-20bbcab47ed5"
      },
      "outputs": [
        {
          "output_type": "execute_result",
          "data": {
            "text/plain": [
              "'\\n   Questo è un commento\\n   su più\\n   linee\\n'"
            ],
            "application/vnd.google.colaboratory.intrinsic+json": {
              "type": "string"
            }
          },
          "metadata": {},
          "execution_count": 7
        }
      ],
      "source": [
        "# Questo è un commento su una linea\n",
        "\n",
        "\"\"\"\n",
        "   Questo è un commento\n",
        "   su più\n",
        "   linee\n",
        "\"\"\""
      ]
    },
    {
      "cell_type": "markdown",
      "source": [
        "## Istruzioni e blocchi di codice\n",
        "\n",
        "In Python il terminatore di riga, quindi quello che termina un'istruzione, è il carattere '\\n', ossia il ritorno a capo.\n",
        "Un blocco di codice è indicato tramite indentazione, quindi l'indentazione in Python è obbligatoria. L’indentazione può essere fatta tramite tab (carattere '\\t'), oppure utilizzando 4 spazi (metodo consigliato dallo standard, tipicamente gli editor Python sostituiscono il tab che facciamo da tastiera con 4 spazi)."
      ],
      "metadata": {
        "id": "_og6ziJQxVCB"
      }
    },
    {
      "cell_type": "code",
      "source": [
        "variabile = 5\n",
        "if variabile > 1: # Il fatto che la print sia contenuta all'interno dell'if è rappresentato dall'indentazione\n",
        "    print(\"La variabile è maggiore di uno\")"
      ],
      "metadata": {
        "colab": {
          "base_uri": "https://localhost:8080/"
        },
        "id": "V5bUvxgnxaEJ",
        "outputId": "43a70843-721f-4712-8156-e911558e5427"
      },
      "execution_count": null,
      "outputs": [
        {
          "output_type": "stream",
          "name": "stdout",
          "text": [
            "La variabile è maggiore di uno\n"
          ]
        }
      ]
    },
    {
      "cell_type": "markdown",
      "source": [
        "## Importare e gestire librerie\n",
        "\n",
        "Le librerie contengono funzioni di uso comune (es. leggere/scrivere un file) già implementate da terze parti.\n",
        "Per importare una libreria si utilizza il comando import il comando può essere usato con alcune varianti presentate di seguito utilizzando una libreria chiamata pandas.\n",
        "\n",
        "Importa la libreria con il suo nome originale, ogni volta che si vuole usare una funzione della libreria bisogna richiamarla con nomeLibreria.nomeFunzione\n"
      ],
      "metadata": {
        "id": "q_aqkN0uxczh"
      }
    },
    {
      "cell_type": "code",
      "source": [
        "# Importa la libreria math\n",
        "import math\n",
        "\n",
        "# Usa una funzione della libreria\n",
        "# Calcola il logaritmo in base 2 di 8\n",
        "math.log2(8)"
      ],
      "metadata": {
        "colab": {
          "base_uri": "https://localhost:8080/"
        },
        "id": "q2XdJZWj5EOk",
        "outputId": "98d9a195-b75d-44d3-932c-6439ccfcb1ba"
      },
      "execution_count": null,
      "outputs": [
        {
          "output_type": "execute_result",
          "data": {
            "text/plain": [
              "3.0"
            ]
          },
          "metadata": {},
          "execution_count": 16
        }
      ]
    },
    {
      "cell_type": "markdown",
      "source": [
        "Importa la libreria assegnandogli un alias, ogni volta che si vuole usare una funzione della libreria bisogna richiamarla con nomeAlias.nomeFunzione"
      ],
      "metadata": {
        "id": "YKueGszb5XS0"
      }
    },
    {
      "cell_type": "code",
      "source": [
        "#Importa la libreria math rinominandola in m\n",
        "import math as m\n",
        "\n",
        "#Usa una funzione della libreria richiamando l’alias\n",
        "# Calcola il logaritmo in base 2 di 8\n",
        "m.log2(8)"
      ],
      "metadata": {
        "colab": {
          "base_uri": "https://localhost:8080/"
        },
        "id": "o8WIMCpl5qtK",
        "outputId": "41bf9f2d-1069-4840-a889-0c3fdf74e151"
      },
      "execution_count": null,
      "outputs": [
        {
          "output_type": "execute_result",
          "data": {
            "text/plain": [
              "3.0"
            ]
          },
          "metadata": {},
          "execution_count": 17
        }
      ]
    },
    {
      "cell_type": "markdown",
      "source": [
        "Importa solo una funzione da una libreria assegnandogli un alias, ogni volta che si vuole usare la funzione importata bisogna richiamarla con nomeFunzione"
      ],
      "metadata": {
        "id": "tdPlXHfH5y2b"
      }
    },
    {
      "cell_type": "code",
      "source": [
        "#Importa la funzione log2 dalla libreria math\n",
        "from math import log2\n",
        "\n",
        "#Usa una funzione importata\n",
        "log2(8)"
      ],
      "metadata": {
        "colab": {
          "base_uri": "https://localhost:8080/"
        },
        "id": "w_DvwgcX56it",
        "outputId": "9bd78498-2971-4f1a-af00-146b8db4e5fe"
      },
      "execution_count": null,
      "outputs": [
        {
          "output_type": "execute_result",
          "data": {
            "text/plain": [
              "3.0"
            ]
          },
          "metadata": {},
          "execution_count": 18
        }
      ]
    },
    {
      "cell_type": "markdown",
      "source": [
        "Importa solo una funzione da una libreria assegnandogli un alias, ogni volta che si vuole usare una funzione della libreria bisogna richiamarla con nomeAliasFunzione"
      ],
      "metadata": {
        "id": "fg1H58YX6DhU"
      }
    },
    {
      "cell_type": "code",
      "source": [
        "#Importa la funzione log2 dalla libreria math\n",
        "#Rinominandola in l2\n",
        "from math import log2 as l2\n",
        "\n",
        "#Usa una funzione importata usando l’alias assegnato\n",
        "l2(8)"
      ],
      "metadata": {
        "colab": {
          "base_uri": "https://localhost:8080/"
        },
        "id": "VJysAVoR6F5-",
        "outputId": "f5f3a3af-4ef0-436a-bda6-048ef02fbd00"
      },
      "execution_count": null,
      "outputs": [
        {
          "output_type": "execute_result",
          "data": {
            "text/plain": [
              "3.0"
            ]
          },
          "metadata": {},
          "execution_count": 20
        }
      ]
    },
    {
      "cell_type": "markdown",
      "source": [
        "## Installare librerie\n",
        "Le librerie in Python sono gestite tramite un gestore di pacchetti chiamato pip (Package Installer for Python) che consente di installare in modo automatico le librerie rilasciate su PyPI (Python Package Index https://pypi.org/). Chiunque può aggiungere una libreria a questo repository. Per installare una libreria è sufficiente conoscerne il nome ed eseguire il comando pip install nomeLibreria.\n",
        "\n",
        "L'elenco delle librerie standard può essere trovato qui https://docs.python.org/3/library/index.html\n",
        "\n",
        "In Colab per eseguire dei comandi come fossero da shell bisogna precederli con il punto esclamativo."
      ],
      "metadata": {
        "id": "sA1Cb7CT6T5P"
      }
    },
    {
      "cell_type": "code",
      "source": [
        "# Installiamo una libreria di Python per la gestione di grafi\n",
        "# In questo caso esiste già su Colab e non la installa\n",
        "!pip install networkx"
      ],
      "metadata": {
        "colab": {
          "base_uri": "https://localhost:8080/"
        },
        "id": "Y2SFv6zJ6Qd2",
        "outputId": "79bf1b29-4a87-4dce-e187-381dc8713393"
      },
      "execution_count": null,
      "outputs": [
        {
          "output_type": "stream",
          "name": "stdout",
          "text": [
            "Requirement already satisfied: networkx in /usr/local/lib/python3.11/dist-packages (3.5)\n"
          ]
        }
      ]
    },
    {
      "cell_type": "markdown",
      "source": [
        "## Virtual environments\n",
        "\n",
        "Virtual environments\n",
        "Quando si installano molte librerie, queste potrebbero andare in conflitto tra di loro. Ad esempio, potrebbe succedere che la libreria X richieda una certa versione della libreria Y, ma la libreria Z ne richieda un’altra e quindi va in conflitto con X.\n",
        "\n",
        "Se X e Z ci servono, ma in progetti diversi, è possibile gestire la loro installazione tenendole separate in diversi contenitori detti virtual environments (venv), ogni venv è un ambiente Python isolato dagli altri.\n",
        "Per creare un nuovo venv l'istruzione è` python -m venv [percorso in cui crearlo]`.\n",
        "\n",
        "Il percorso è inteso come una cartella in cui verrà creato il venv e verranno poi messe tutte le librerie quando si installano.\n",
        "\n",
        "Per usare uno specifico venv questo va attivato prima di eseguire l'installazione delle librerie e l'esecuzione di codice.\n",
        "\n",
        "Su Windows l'attivazione si fa:\n",
        "  * Da terminale: eseguendo lo script `activate.bat` contenuto nella cartella Scripts dove è stato creato il venv\n",
        "  * Da power shell: eseguendo lo script `activate.ps1` contenuto nella cartella Scripts dove è stato creato il venv.\n",
        "  * Su Linux/Mac eseguendo il comando `source percorso_venv/bin/activate`\n"
      ],
      "metadata": {
        "id": "9tk1EcUY6zXy"
      }
    }
  ]
}