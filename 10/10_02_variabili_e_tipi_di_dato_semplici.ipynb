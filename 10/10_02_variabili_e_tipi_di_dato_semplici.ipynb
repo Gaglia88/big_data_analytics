{
  "nbformat": 4,
  "nbformat_minor": 0,
  "metadata": {
    "colab": {
      "provenance": []
    },
    "kernelspec": {
      "name": "python3",
      "display_name": "Python 3"
    },
    "language_info": {
      "name": "python"
    }
  },
  "cells": [
    {
      "cell_type": "markdown",
      "source": [
        "# Variabili e tipi di dato\n",
        "Una variabile è un contenitore che conserva un determinato valore a cui è associato un nome."
      ],
      "metadata": {
        "id": "yTBDfW9IPq6H"
      }
    },
    {
      "cell_type": "code",
      "source": [
        "variabile = 10"
      ],
      "metadata": {
        "id": "mXwCPzRdP4fu"
      },
      "execution_count": 1,
      "outputs": []
    },
    {
      "cell_type": "markdown",
      "source": [
        "\n",
        "Ad ogni variabile è associato un tipo di dato, che però non viene definito in fase di scrittura del codice, ma viene \"calcolato\" dall'interprete in fase di esecuzione della variabile sulla base di ciò che le viene assegnato.\n",
        "\n",
        "Possiamo vedere il tipo di dato di una variabile con la funzione nativa *type(variabile)*"
      ],
      "metadata": {
        "id": "I4ysiRv3P6F9"
      }
    },
    {
      "cell_type": "code",
      "source": [
        "type(variabile)"
      ],
      "metadata": {
        "colab": {
          "base_uri": "https://localhost:8080/"
        },
        "id": "GFxnX6gYQX33",
        "outputId": "66f004fd-5f77-4368-e501-21473c6bf704"
      },
      "execution_count": 2,
      "outputs": [
        {
          "output_type": "execute_result",
          "data": {
            "text/plain": [
              "int"
            ]
          },
          "metadata": {},
          "execution_count": 2
        }
      ]
    },
    {
      "cell_type": "markdown",
      "source": [
        "Il tipo di dato di una variabile può cambiare durante l'esecuzione, per questo Python è un linguaggio a tipizzazione dinamica."
      ],
      "metadata": {
        "id": "S1xqoDAeQNAt"
      }
    },
    {
      "cell_type": "code",
      "source": [
        "variabile = \"stringa\"\n",
        "type(variabile)"
      ],
      "metadata": {
        "colab": {
          "base_uri": "https://localhost:8080/"
        },
        "id": "6lKAEby9QbTH",
        "outputId": "c4f007b1-cc59-48ae-913c-a1a5474fe465"
      },
      "execution_count": 3,
      "outputs": [
        {
          "output_type": "execute_result",
          "data": {
            "text/plain": [
              "str"
            ]
          },
          "metadata": {},
          "execution_count": 3
        }
      ]
    },
    {
      "cell_type": "markdown",
      "source": [
        "Inoltre, essendo Python un linguaggio orientato agli oggetti, ogni tipo di dato è una classe e di conseguenza ogni variabile è un oggetto che implementa quella classe e avrà i suoi metodi."
      ],
      "metadata": {
        "id": "QdMzl6EIQg6J"
      }
    },
    {
      "cell_type": "code",
      "source": [
        "variabile.upper()"
      ],
      "metadata": {
        "colab": {
          "base_uri": "https://localhost:8080/",
          "height": 35
        },
        "id": "OsJBHb3-QkVw",
        "outputId": "f3b69fdc-1ec6-4ce4-d5ca-9697393d6ec8"
      },
      "execution_count": 4,
      "outputs": [
        {
          "output_type": "execute_result",
          "data": {
            "text/plain": [
              "'STRINGA'"
            ],
            "application/vnd.google.colaboratory.intrinsic+json": {
              "type": "string"
            }
          },
          "metadata": {},
          "execution_count": 4
        }
      ]
    },
    {
      "cell_type": "markdown",
      "source": [
        "## Numeri\n",
        "Non hanno un'occupazione fissa in byte (come ad esempio in C/C++), ma cambia in base ai bit richiesti per memorizzare il valore associato.\n",
        "*\tint: numeri interi;\n",
        "*\tfloat: numeri con la virgola;"
      ],
      "metadata": {
        "id": "op8rF1J6QIgg"
      }
    },
    {
      "cell_type": "code",
      "source": [
        "a = 5 # a è di tipo intero\n",
        "b = 1.5 # b è di tipo decimale\n",
        "print(type(a))\n",
        "print(type(b))"
      ],
      "metadata": {
        "colab": {
          "base_uri": "https://localhost:8080/"
        },
        "id": "qhZGWGKZQ2N_",
        "outputId": "ccc08d59-2f91-437d-dcb1-419ff6ecc439"
      },
      "execution_count": 6,
      "outputs": [
        {
          "output_type": "stream",
          "name": "stdout",
          "text": [
            "<class 'int'>\n",
            "<class 'float'>\n"
          ]
        }
      ]
    },
    {
      "cell_type": "markdown",
      "source": [
        "## Stringhe\n",
        "Sequenze di caratteri, il tipo di dato è str. Si può definire una stringa includendola nei doppi apici (\") oppure tra apici singoli (')."
      ],
      "metadata": {
        "id": "an7o7--DRBj4"
      }
    },
    {
      "cell_type": "code",
      "source": [
        "str1 = \"questa è una stringa\"\n",
        "str2 = 'anche questa'\n",
        "print(type(str1))\n",
        "print(type(str2))"
      ],
      "metadata": {
        "colab": {
          "base_uri": "https://localhost:8080/"
        },
        "id": "nE6ES42WRQ_Q",
        "outputId": "68622135-12c6-4ae9-db3c-b33097d2e8aa"
      },
      "execution_count": 13,
      "outputs": [
        {
          "output_type": "stream",
          "name": "stdout",
          "text": [
            "<class 'str'>\n",
            "<class 'str'>\n"
          ]
        }
      ]
    },
    {
      "cell_type": "markdown",
      "source": [
        "## Booleani\n",
        "Indicano il valore vero (True) o falso (False). Il tipo di dato è bool."
      ],
      "metadata": {
        "id": "kkm_Jo0MRH22"
      }
    },
    {
      "cell_type": "code",
      "source": [
        "vero = True\n",
        "falso = False\n",
        "print(type(vero))\n",
        "print(type(falso))"
      ],
      "metadata": {
        "colab": {
          "base_uri": "https://localhost:8080/"
        },
        "id": "VODW8OcWRj8-",
        "outputId": "698bb70f-edfd-441f-c12b-08308cd7f5ca"
      },
      "execution_count": 11,
      "outputs": [
        {
          "output_type": "stream",
          "name": "stdout",
          "text": [
            "<class 'bool'>\n",
            "<class 'bool'>\n"
          ]
        }
      ]
    },
    {
      "cell_type": "markdown",
      "source": [
        "## Assenza di valore\n",
        "\n",
        "L'assenza di valore è indicata con un tipo di dato speciale chiamato NoneType e si ottiene assegnando ad una variabile il valore None."
      ],
      "metadata": {
        "id": "M8mbV38ASRYu"
      }
    },
    {
      "cell_type": "code",
      "source": [
        "valore_mancante = None\n",
        "print(type(valore_mancante))"
      ],
      "metadata": {
        "colab": {
          "base_uri": "https://localhost:8080/"
        },
        "id": "QjmHfw9RSZq5",
        "outputId": "131d4463-de6e-4265-ee54-cecc2e4a5ec8"
      },
      "execution_count": 14,
      "outputs": [
        {
          "output_type": "stream",
          "name": "stdout",
          "text": [
            "<class 'NoneType'>\n"
          ]
        }
      ]
    },
    {
      "cell_type": "markdown",
      "source": [
        "## Conversione da un tipo ad un altro\n",
        "Si può fare il cast esplicito da un tipo di dato ad un altro (eventualmente si ottiene un errore se questo non è possibile) facendo variabile2 = tipo_dato(variabile1)."
      ],
      "metadata": {
        "id": "xaMDIOJUTAoW"
      }
    },
    {
      "cell_type": "code",
      "source": [
        "a = \"5.5\" # Valore decimale memorizzato come stringa\n",
        "print(type(a))\n",
        "a = float(a) # Conversione del valore in float\n",
        "print(type(a))"
      ],
      "metadata": {
        "colab": {
          "base_uri": "https://localhost:8080/"
        },
        "id": "QdIjFn2mTLDN",
        "outputId": "5eecf18e-428d-4bb8-e41d-e3603b11f641"
      },
      "execution_count": 15,
      "outputs": [
        {
          "output_type": "stream",
          "name": "stdout",
          "text": [
            "<class 'str'>\n",
            "<class 'float'>\n"
          ]
        }
      ]
    },
    {
      "cell_type": "code",
      "source": [],
      "metadata": {
        "id": "EsNkZIrCRjvy"
      },
      "execution_count": null,
      "outputs": []
    }
  ]
}