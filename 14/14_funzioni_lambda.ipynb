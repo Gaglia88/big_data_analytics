{
  "nbformat": 4,
  "nbformat_minor": 0,
  "metadata": {
    "colab": {
      "provenance": []
    },
    "kernelspec": {
      "name": "python3",
      "display_name": "Python 3"
    },
    "language_info": {
      "name": "python"
    }
  },
  "cells": [
    {
      "cell_type": "markdown",
      "source": [
        "# Funzioni lambda\n",
        "Abbiamo visto che in Python possiamo trattare le funzioni come se fossero variabili, in questo contesto hanno un’ampia applicabilità le funzioni lambda.\n",
        "Una funzione lambda è una funzione senza nome (anonima) definita al momento che prende in ingresso uno o più valori e calcola un'espressione. La sintassi per definirla è:\n",
        "`lambda <parametri in ingresso> : <espressione>`\n",
        "\n",
        "\n",
        "Ad esempio, possiamo definire una funzione lambda che esegue il prodotto tra due numeri, oppure che calcola il quadrato di un numero."
      ],
      "metadata": {
        "id": "uDWqUJUG0y89"
      }
    },
    {
      "cell_type": "code",
      "source": [
        "prodotto = lambda x, y: x*y\n",
        "quadrato = lambda x : x*x\n",
        "print(prodotto(2, 3)) # Visualizza 6\n",
        "print(quadrato(2)) # Visualizza 4"
      ],
      "metadata": {
        "colab": {
          "base_uri": "https://localhost:8080/"
        },
        "id": "lnb6j8_V06ex",
        "outputId": "fcb89763-2b4d-45fa-e925-1ec6b8d7c93e"
      },
      "execution_count": 1,
      "outputs": [
        {
          "output_type": "stream",
          "name": "stdout",
          "text": [
            "6\n",
            "4\n"
          ]
        }
      ]
    },
    {
      "cell_type": "markdown",
      "source": [
        "Si possono anche combinare funzioni lambda con funzioni normali.\n",
        "Ad esempio, possiamo definire una funzione generica moltiplicatore(n) che ritorna una funzione lambda che moltiplica un numero in ingresso per n.\n",
        "In questo modo possiamo definire varie funzioni.\n"
      ],
      "metadata": {
        "id": "3pqOjXiV0_ai"
      }
    },
    {
      "cell_type": "code",
      "source": [
        "def moltiplicatore(n):\n",
        "   return lambda x: x*n\n",
        "\n",
        "duplica = moltiplicatore(2)\n",
        "triplica = moltiplicatore(3)\n",
        "\n",
        "print(duplica(2)) # Visualizza 4\n",
        "print(triplica(2)) # Visualizza 6"
      ],
      "metadata": {
        "colab": {
          "base_uri": "https://localhost:8080/"
        },
        "id": "SS4NXWDH1IRy",
        "outputId": "56eb0b13-6a9c-44b3-b70e-d1d9cb6b41c0"
      },
      "execution_count": 2,
      "outputs": [
        {
          "output_type": "stream",
          "name": "stdout",
          "text": [
            "4\n",
            "6\n"
          ]
        }
      ]
    },
    {
      "cell_type": "markdown",
      "source": [
        "# Programmazione funzionale\n",
        "Python implementa tre metodi tipici della programmazione funzionale: map, filter e reduce.\n",
        "\n",
        "Questi consentono di compiere operazioni ripetibili su elenchi di valori senza dover utilizzare esplicitamente i cicli for o while.\n",
        "\n",
        "È in questo ambito che le funzioni lambda hanno la loro massima applicabilità.\n",
        "\n",
        "## Map\n",
        "Dato un elemento iterabile (es. lista, dizionario, set, tupla), applica una funzione ad ognuno degli elementi dell'elemento iterabile.\n",
        "La sintassi di utilizzo è: `map(funzione, elemento iterabile)`\n",
        "\n",
        "Ad esempio, possiamo incrementare di 1 i valori in una lista.\n",
        "\n"
      ],
      "metadata": {
        "id": "oEsfJaM-1KER"
      }
    },
    {
      "cell_type": "code",
      "source": [
        "lista = [1, 2, 3]\n",
        "risultato = list(map(lambda x: x+1, lista))\n",
        "print(risultato)"
      ],
      "metadata": {
        "colab": {
          "base_uri": "https://localhost:8080/"
        },
        "id": "uD5cMy5a1Qfo",
        "outputId": "c83fe2c7-60e6-4adf-c97a-722ef484e224"
      },
      "execution_count": 3,
      "outputs": [
        {
          "output_type": "stream",
          "name": "stdout",
          "text": [
            "[2, 3, 4]\n"
          ]
        }
      ]
    },
    {
      "cell_type": "markdown",
      "source": [
        "## Filter\n",
        "Dato un elemento iterabile (es. lista, dizionario, set, tupla), applica una funzione booleana ad ognuno degli elementi dell’elemento iterabile mantenendo solo quelli per cui la funzione ritorna True.\n",
        "La sintassi di utilizzo è: `filter(funzione, elemento iterabile)`\n",
        "\n",
        "Ad esempio, possiamo mantenere solo i valori positivi in una lista.\n"
      ],
      "metadata": {
        "id": "2UTEpkPh1Yo4"
      }
    },
    {
      "cell_type": "code",
      "source": [
        "lista = [1, -2, 3, -4]\n",
        "risultato = list(filter(lambda x: x > 0, lista))\n",
        "print(risultato) # Visualizza: 1, 3"
      ],
      "metadata": {
        "colab": {
          "base_uri": "https://localhost:8080/"
        },
        "id": "IstlZzsK1eZJ",
        "outputId": "29279dc9-a9af-46b8-a94f-e4964cc51961"
      },
      "execution_count": 4,
      "outputs": [
        {
          "output_type": "stream",
          "name": "stdout",
          "text": [
            "[1, 3]\n"
          ]
        }
      ]
    },
    {
      "cell_type": "markdown",
      "source": [
        "Se si notano gli esempi è stata applicata la funzione list dopo aver applicato map o filter, questo perché queste funzioni sono **lazy**: quando viene chiamato map o filter su di un elemento iterabile Python non esegue niente finché non si vuole visualizzare il risultato convertendolo in una lista oppure scorrendolo con un ciclo.\n",
        "\n",
        "Il vantaggio è che se si applicano più filter o map in sequenza, **non viene materializzata la lista più volte**, ma viene creata una sola lista alla fine applicando le operazioni in sequenza su ogni singolo elemento.\n",
        "\n",
        "Una volta “consumato” il risultato di un map o di un filter (cioè convertendolo in una lista o scorrendolo con un for), questo non può essere ricalcolato\n"
      ],
      "metadata": {
        "id": "EfPUZXia1ftw"
      }
    },
    {
      "cell_type": "code",
      "source": [
        "lista = [1, -2, 3, -4]\n",
        "lista_filtrata = filter(lambda x: x > 0, lista)\n",
        "print(lista_filtrata) # Visualizza <filter object>\n",
        "print(list(lista_filtrata)) # Visualizza [1, 3]\n",
        "print(list(lista_filtrata)) # Visualizza []"
      ],
      "metadata": {
        "colab": {
          "base_uri": "https://localhost:8080/"
        },
        "id": "zs0juIQL1yH_",
        "outputId": "18ab7650-e3e0-4e9d-a38e-d7988c5d6697"
      },
      "execution_count": 5,
      "outputs": [
        {
          "output_type": "stream",
          "name": "stdout",
          "text": [
            "<filter object at 0x7b8c38d6ce20>\n",
            "[1, 3]\n",
            "[]\n"
          ]
        }
      ]
    },
    {
      "cell_type": "markdown",
      "source": [
        "Si può verificare il comportamento lazy di map/filter introducendo una funzione volutamente sbagliata.\n",
        "Il seguente codice è sbagliato perché la variabile y usata nella riga 2 non è definita."
      ],
      "metadata": {
        "id": "APyld3k_14tJ"
      }
    },
    {
      "cell_type": "code",
      "source": [
        "lista = [1, -2, 3, -4]\n",
        "risultato = map(lambda x: x+y, lista)  # y non è definita\n",
        "print('Il codice prosegue, nessun errore')\n",
        "risultato2 = map(lambda x: x+1, risultato)\n",
        "print('Il codice prosegue ancora, nessun errore')"
      ],
      "metadata": {
        "colab": {
          "base_uri": "https://localhost:8080/"
        },
        "id": "mhcMPMe91976",
        "outputId": "112010ae-b3e2-4ad2-c942-bbcbf9bf46b3"
      },
      "execution_count": 15,
      "outputs": [
        {
          "output_type": "stream",
          "name": "stdout",
          "text": [
            "Il codice prosegue, nessun errore\n",
            "Il codice prosegue ancora, nessun errore\n"
          ]
        }
      ]
    },
    {
      "cell_type": "markdown",
      "source": [
        "Però non si vede l'errore finché non si calcola il risultato del map, anche se componiamo più operazioni di map."
      ],
      "metadata": {
        "id": "ispZyXZ81-HR"
      }
    },
    {
      "cell_type": "code",
      "source": [
        "print(list(risultato2)) # ora darà errore"
      ],
      "metadata": {
        "colab": {
          "base_uri": "https://localhost:8080/",
          "height": 267
        },
        "id": "kUvzkXwe2DbP",
        "outputId": "c1fe4eca-7f1b-4f2d-8874-3b72a4be34c2"
      },
      "execution_count": 16,
      "outputs": [
        {
          "output_type": "error",
          "ename": "NameError",
          "evalue": "name 'y' is not defined",
          "traceback": [
            "\u001b[0;31m---------------------------------------------------------------------------\u001b[0m",
            "\u001b[0;31mNameError\u001b[0m                                 Traceback (most recent call last)",
            "\u001b[0;32m/tmp/ipython-input-16-1268401135.py\u001b[0m in \u001b[0;36m<cell line: 0>\u001b[0;34m()\u001b[0m\n\u001b[0;32m----> 1\u001b[0;31m \u001b[0mprint\u001b[0m\u001b[0;34m(\u001b[0m\u001b[0mlist\u001b[0m\u001b[0;34m(\u001b[0m\u001b[0mrisultato2\u001b[0m\u001b[0;34m)\u001b[0m\u001b[0;34m)\u001b[0m \u001b[0;31m# ora darà errore\u001b[0m\u001b[0;34m\u001b[0m\u001b[0;34m\u001b[0m\u001b[0m\n\u001b[0m",
            "\u001b[0;32m/tmp/ipython-input-15-998454430.py\u001b[0m in \u001b[0;36m<lambda>\u001b[0;34m(x)\u001b[0m\n\u001b[1;32m      1\u001b[0m \u001b[0mlista\u001b[0m \u001b[0;34m=\u001b[0m \u001b[0;34m[\u001b[0m\u001b[0;36m1\u001b[0m\u001b[0;34m,\u001b[0m \u001b[0;34m-\u001b[0m\u001b[0;36m2\u001b[0m\u001b[0;34m,\u001b[0m \u001b[0;36m3\u001b[0m\u001b[0;34m,\u001b[0m \u001b[0;34m-\u001b[0m\u001b[0;36m4\u001b[0m\u001b[0;34m]\u001b[0m\u001b[0;34m\u001b[0m\u001b[0;34m\u001b[0m\u001b[0m\n\u001b[0;32m----> 2\u001b[0;31m \u001b[0mrisultato\u001b[0m \u001b[0;34m=\u001b[0m \u001b[0mmap\u001b[0m\u001b[0;34m(\u001b[0m\u001b[0;32mlambda\u001b[0m \u001b[0mx\u001b[0m\u001b[0;34m:\u001b[0m \u001b[0mx\u001b[0m\u001b[0;34m+\u001b[0m\u001b[0my\u001b[0m\u001b[0;34m,\u001b[0m \u001b[0mlista\u001b[0m\u001b[0;34m)\u001b[0m  \u001b[0;31m# y non è definita\u001b[0m\u001b[0;34m\u001b[0m\u001b[0;34m\u001b[0m\u001b[0m\n\u001b[0m\u001b[1;32m      3\u001b[0m \u001b[0mprint\u001b[0m\u001b[0;34m(\u001b[0m\u001b[0;34m'Il codice prosegue, nessun errore'\u001b[0m\u001b[0;34m)\u001b[0m\u001b[0;34m\u001b[0m\u001b[0;34m\u001b[0m\u001b[0m\n\u001b[1;32m      4\u001b[0m \u001b[0mrisultato2\u001b[0m \u001b[0;34m=\u001b[0m \u001b[0mmap\u001b[0m\u001b[0;34m(\u001b[0m\u001b[0;32mlambda\u001b[0m \u001b[0mx\u001b[0m\u001b[0;34m:\u001b[0m \u001b[0mx\u001b[0m\u001b[0;34m+\u001b[0m\u001b[0;36m1\u001b[0m\u001b[0;34m,\u001b[0m \u001b[0mrisultato\u001b[0m\u001b[0;34m)\u001b[0m\u001b[0;34m\u001b[0m\u001b[0;34m\u001b[0m\u001b[0m\n\u001b[1;32m      5\u001b[0m \u001b[0mprint\u001b[0m\u001b[0;34m(\u001b[0m\u001b[0;34m'Il codice prosegue ancora, nessun errore'\u001b[0m\u001b[0;34m)\u001b[0m\u001b[0;34m\u001b[0m\u001b[0;34m\u001b[0m\u001b[0m\n",
            "\u001b[0;31mNameError\u001b[0m: name 'y' is not defined"
          ]
        }
      ]
    },
    {
      "cell_type": "markdown",
      "source": [
        "## Reduce\n",
        "Mentre map e filter sono disponibili direttamente senza dover includere alcuna libreria, la funzione reduce è inclusa nella libreria functools.\n",
        "\n",
        "Va quindi importata con l'istruzione: `from functools import reduce`\n",
        "\n",
        "Reduce consente di applicare una funzione che prende in ingresso due valori e ne restituisce uno solo. La funzione viene applicata in sequenza partendo dai primi due elementi, aggiungendo poi al risultato parziale l'elemento successivo e così via, ottenendo un’aggregazione degli elementi.\n",
        "\n",
        "La sintassi è: `reduce(funzione, elemento iterabile)`\n",
        "\n",
        "A differenza di map e filter non è lazy, ma viene calcolata immediatamente.\n",
        "\n"
      ],
      "metadata": {
        "id": "VG_3tZgm2aeE"
      }
    },
    {
      "cell_type": "code",
      "source": [
        "from functools import reduce\n",
        "\n",
        "l = [1, 2, 3]\n",
        "print(reduce(lambda x, y: x+y, l))"
      ],
      "metadata": {
        "colab": {
          "base_uri": "https://localhost:8080/"
        },
        "id": "gkqBpBtX2m29",
        "outputId": "4e7d3e96-c044-49a2-a537-8e4fa5bbb764"
      },
      "execution_count": 17,
      "outputs": [
        {
          "output_type": "stream",
          "name": "stdout",
          "text": [
            "6\n"
          ]
        }
      ]
    },
    {
      "cell_type": "markdown",
      "source": [
        "Siccome la funzione viene applicata da sinistra a destra, anche se questa non è commutativa (come ad esempio la sottrazione) il risultato è deterministico a patto che l'elenco di elementi sia ordinabile e abbia sempre lo stesso ordine.\n",
        "\n",
        "Ad esempio, con un set in cui non vi è un ordinamento non si ha la garanzia di avere sempre lo stesso risultato se la funzione non è commutativa, poiché l'ordine cambia il risultato.\n"
      ],
      "metadata": {
        "id": "5NHwMcIG2wWw"
      }
    },
    {
      "cell_type": "code",
      "source": [
        "l = [1, 2, 3]\n",
        "print(reduce(lambda x, y: x-y, l)) # Visualizza -4"
      ],
      "metadata": {
        "colab": {
          "base_uri": "https://localhost:8080/"
        },
        "id": "RI_ix_fu2phI",
        "outputId": "53d29f63-fb89-49b6-8cda-ebc701cc0d08"
      },
      "execution_count": 18,
      "outputs": [
        {
          "output_type": "stream",
          "name": "stdout",
          "text": [
            "-4\n"
          ]
        }
      ]
    },
    {
      "cell_type": "markdown",
      "source": [
        "## Generatori"
      ],
      "metadata": {
        "id": "serP2_0m2reG"
      }
    },
    {
      "cell_type": "markdown",
      "source": [
        "In Python è possibile creare in modo dinamico un elemento iterabile utilizzando un ciclo tramite l'istruzione yield che mantiene in memoria ogni elemento passatogli.\n",
        "\n",
        "Come per map e filter anche questo metodo è lazy e fornisce un oggetto iterabile che una volta consumato (trasformato in lista/set oppure scorso con un for) non può essere riutilizzato.\n",
        "\n",
        "Se utilizzato dentro ad una funzione a differenza dell’istruzione return che interrompe l'esecuzione della funzione, yield lascia continuare l'esecuzione memorizzando i valori da ritornare.\n",
        "\n"
      ],
      "metadata": {
        "id": "PRK0e1T122Vf"
      }
    },
    {
      "cell_type": "code",
      "source": [
        "def inc(lista, i=1):\n",
        "   for e in lista:\n",
        "       yield e+i\n",
        "\n",
        "l = [1, 2, 3]\n",
        "l1 = inc(l, 2)  # Incrementa gli elementi della lista di 2\n",
        "print(l1)       # Visualizza <generator object>\n",
        "print(list(l1)) # Visualizza [3, 4, 5]\n",
        "print(list(l1)) # Visualizza [] perché è già stato consumato"
      ],
      "metadata": {
        "colab": {
          "base_uri": "https://localhost:8080/"
        },
        "id": "IglgbVQD29bA",
        "outputId": "2e02c173-ac2e-41f9-d1ef-f6cc06fd9759"
      },
      "execution_count": 19,
      "outputs": [
        {
          "output_type": "stream",
          "name": "stdout",
          "text": [
            "<generator object inc at 0x7b8c034f84a0>\n",
            "[3, 4, 5]\n",
            "[]\n"
          ]
        }
      ]
    },
    {
      "cell_type": "markdown",
      "source": [
        "Altri metodi **non lazy** per generare una nuova lista tramite il for sono:\n",
        "*\tSe si vuole generare una lista di dimensione n con tutti gli elementi uguali a e si può fare: `[e]*n`\n",
        "*\tSi vuole calcolare un’espressione sulla base di un elemento iterabile e mettere il risultato in una lista: `[<espressione che usa e> for e in <iterabile>]`\n",
        "*\tUna variante del metodo precedente che considera solo gli elementi che soddisfano una determinata condizione è:\n",
        "`[<espressione che usa e> for e in <iterabile> if <condizione>]`\n"
      ],
      "metadata": {
        "id": "sPJzOzmR3A_5"
      }
    },
    {
      "cell_type": "code",
      "source": [
        "l = [0]*3\n",
        "print(l) # Visualizza [0 0 0]\n",
        "\n",
        "l = [1, 2, 3]\n",
        "l1 = [e+1 for e in l]\n",
        "print(l1) # Visualizza [2, 3, 4]\n",
        "\n",
        "l2 = [e+1 for e in l if e > 2]\n",
        "print(l2) # Visualizza [4] perché il filtro mantiene solo e=3"
      ],
      "metadata": {
        "colab": {
          "base_uri": "https://localhost:8080/"
        },
        "id": "IkkscXYp3Ku3",
        "outputId": "61f5fdc4-2e66-42b5-8f4a-a62cb967453d"
      },
      "execution_count": 21,
      "outputs": [
        {
          "output_type": "stream",
          "name": "stdout",
          "text": [
            "[0, 0, 0]\n",
            "[2, 3, 4]\n",
            "[4]\n"
          ]
        }
      ]
    }
  ]
}