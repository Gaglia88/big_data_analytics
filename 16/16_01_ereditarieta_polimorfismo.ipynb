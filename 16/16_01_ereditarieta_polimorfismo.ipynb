{
  "nbformat": 4,
  "nbformat_minor": 0,
  "metadata": {
    "colab": {
      "provenance": []
    },
    "kernelspec": {
      "name": "python3",
      "display_name": "Python 3"
    },
    "language_info": {
      "name": "python"
    }
  },
  "cells": [
    {
      "cell_type": "markdown",
      "source": [
        "#Ereditarietà\n",
        "Nella lezione precedente abbiamo visto come definire una classe. In Python è possibile estendere una classe partendo da una classe già definita.\n",
        "\n",
        "La classe estesa viene detta padre, mentre la nuova classe figlia. La classe figlia eredita tutti i metodi e tutte le proprietà della classe padre.\n",
        "\n",
        "La classe figlia estende la classe padre aggiungendo nuovi metodi e proprietà.\n",
        "All'interno della classe figlia è possibile accedere ai metodi e alle proprietà della classe padre tramite una funzione speciale chiamata **super()**.\n",
        "\n",
        "Per estendere una classe la sintassi è:\n",
        "```\n",
        "class <nome classe figlia>(<nome classe padre>):\n",
        "    <definizione nuova classe>\n",
        "```"
      ],
      "metadata": {
        "id": "8HECkRa8j7fe"
      }
    },
    {
      "cell_type": "code",
      "source": [
        "class Persona:\n",
        "   def __init__(self, cf, nome, cognome): # Costruttore\n",
        "      self._cf = cf\n",
        "      self.nome = nome\n",
        "      self.cognome = cognome\n",
        "\n",
        "   def get_nominativo(self):\n",
        "      return self.nome + \" \" + self.cognome\n",
        "\n",
        "class Studente(Persona):\n",
        "   def __init__(self, matricola, cf, nome, cognome):\n",
        "      super().__init__(cf, nome, cognome)\n",
        "      self._matricola = matricola\n",
        "\n",
        "   def get_matricola(self):\n",
        "      return self._matricola\n",
        "\n",
        "s = Studente(\"12345\", \"MRS123\", \"Mario\", \"Rossi\")\n",
        "print(s.get_nominativo()) # Visualizza Mario Rossi\n",
        "print(s.get_matricola()) # Visualizza 12345"
      ],
      "metadata": {
        "colab": {
          "base_uri": "https://localhost:8080/"
        },
        "id": "t8EmKMhPkF8W",
        "outputId": "9740ca7f-2494-49c4-b20e-dfd408876fe6"
      },
      "execution_count": 1,
      "outputs": [
        {
          "output_type": "stream",
          "name": "stdout",
          "text": [
            "Mario Rossi\n",
            "12345\n"
          ]
        }
      ]
    },
    {
      "cell_type": "markdown",
      "source": [
        "# Polimorfismo\n",
        "Quando estendiamo una classe padre possiamo ridefinire un metodo con lo stesso nome di quello presente nella classe padre, che però ha un suo comportamento specifico per la classe figlia che stiamo creando.\n",
        "\n",
        "Questo concetto è chiamato polimorfismo: uno stesso metodo si comporta in modo diverso sulla base del tipo di oggetto su cui viene invocato.\n"
      ],
      "metadata": {
        "id": "08YpAzQ-kM6H"
      }
    },
    {
      "cell_type": "code",
      "source": [
        "class Animale:\n",
        "   # Definisce un metodo che non fa nulla\n",
        "   def verso(self):\n",
        "      pass\n",
        "\n",
        "class Gatto(Animale):\n",
        "   # Ridefinisce il metodo verso\n",
        "   def verso(self):\n",
        "      return \"Miao\"\n",
        "\n",
        "class Cane(Animale):\n",
        "   # Ridefinisce il metodo verso\n",
        "   def verso(self):\n",
        "      return \"Bau\"\n",
        "\n",
        "g = Gatto()\n",
        "c = Cane()\n",
        "print(\"Il gatto fa \"+g.verso()) # Visualizza il gatto fa Miao\n",
        "print(\"Il cane fa \"+c.verso())# Visualizza il cane fa Bau"
      ],
      "metadata": {
        "colab": {
          "base_uri": "https://localhost:8080/"
        },
        "id": "gWh8UYizkf6_",
        "outputId": "db53598f-8cdb-4d8e-bae2-51258ad3d180"
      },
      "execution_count": 3,
      "outputs": [
        {
          "output_type": "stream",
          "name": "stdout",
          "text": [
            "Il gatto fa Miao\n",
            "Il cane fa Bau\n"
          ]
        }
      ]
    },
    {
      "cell_type": "markdown",
      "source": [
        "In generale, in Python grazie al concetto di polimorfismo possiamo richiamare lo stesso metodo su oggetti di tipo diverso, basta che abbiano un metodo con quel nome."
      ],
      "metadata": {
        "id": "GknpOJRskjR-"
      }
    },
    {
      "cell_type": "code",
      "source": [
        "l = [Gatto(), Cane(), Gatto()]\n",
        "\n",
        "for e in l:\n",
        "   print(e.verso())"
      ],
      "metadata": {
        "colab": {
          "base_uri": "https://localhost:8080/"
        },
        "id": "uftbH1I_kyMe",
        "outputId": "c34bf83f-bd79-4e91-b1ec-a5e9d233ace2"
      },
      "execution_count": 4,
      "outputs": [
        {
          "output_type": "stream",
          "name": "stdout",
          "text": [
            "Miao\n",
            "Bau\n",
            "Miao\n"
          ]
        }
      ]
    }
  ]
}