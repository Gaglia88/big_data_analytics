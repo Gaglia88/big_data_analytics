{
  "nbformat": 4,
  "nbformat_minor": 0,
  "metadata": {
    "colab": {
      "provenance": []
    },
    "kernelspec": {
      "name": "python3",
      "display_name": "Python 3"
    },
    "language_info": {
      "name": "python"
    }
  },
  "cells": [
    {
      "cell_type": "markdown",
      "source": [
        "# Leggere e scrivere un file\n",
        "Per aprire un file il comando è `open(<path>, <modalità apertura>)`, il comando ritorna un file handler che consente di gestire la lettura/scrittura sul file; path specifica il percorso del file a aprire e la modalità di apertura come aprire il file.\n",
        "\n",
        "\n",
        "Le modalità di apertura possono essere trovate nella dispensa.\n",
        "Le modalità più usate sono\n",
        "* 'r'\tLettura (default): apre il file per leggere. Errore se il file non esiste.\n",
        "* 'w'\tScrittura: crea un nuovo file o sovrascrive quello esistente.\n",
        "* 'a'\tAggiunta: apre il file per aggiungere contenuto alla fine. Se non esiste, lo crea.\n",
        "\n",
        "\n",
        "Di default il file viene aperto in modalità testo, quindi i byte letti/scritti vengono convertiti in caratteri, di default utilizza 'utf-8', ma tramite il parametro encoding definito all'interno della funzione open è possibile utilizzarne di diversi come ascii, latin1, etc.\n",
        "\n",
        "In modalità binaria vengono letti/scritti dei byte grezzi (ad esempio per leggere immagini, video, etc.), la loro gestione è poi demandata all'utente o comunque alla libreria che si utilizzerà per gestirli.\n",
        "\n",
        "Il file handler fornisce i principali metodi mostrati nella seguente tabella per gestire i file (supponendo di avere un file handler denominato f):\n",
        "\n",
        "* f.read()\tLegge tutto il contenuto del file\n",
        "* f.readline()\tLegge una riga, in modalità text fino a \\n (includendolo). Se si è raggiunta la fine del file ritorna una stringa vuota, non genera errori.\n",
        "* f.readlines()\tLegge tutte le righe ritornando una lista.\n",
        "* f.write(stringa)\tScrive una stringa sul file in modalità testo, altrimenti dei byte.\n",
        "* f.writelines([…])\tData una lista di stringhe/byte li scrive sul file.\n",
        "* f.closed\tRitorna True se il file è chiuso\n",
        "* f.close()\tChiude l'handler del file.\n",
        "\n",
        "\n",
        "Il contenuto di un file può anche essere letto utilizzando l’istruzione for, con la sintassi:\n",
        "```\n",
        "for linea in f:\n",
        "    <blocco di codice>\n",
        "```\n"
      ],
      "metadata": {
        "id": "tuIXymwuk4vf"
      }
    },
    {
      "cell_type": "code",
      "source": [
        "pf = open('drive/MyDrive/testo.txt', 'r')\n",
        "\n",
        "# Visualizza il contenuto riga per riga\n",
        "for r in pf:\n",
        "   print(r)\n",
        "\n",
        "pf.close()"
      ],
      "metadata": {
        "id": "FufRHqNXlJ8V",
        "colab": {
          "base_uri": "https://localhost:8080/"
        },
        "outputId": "360ce57d-3518-4a73-a258-9a5474d9b0bb"
      },
      "execution_count": 3,
      "outputs": [
        {
          "output_type": "stream",
          "name": "stdout",
          "text": [
            "questo\n",
            "\n",
            "è\n",
            "\n",
            "un testo\n",
            "\n",
            "di prova\n"
          ]
        }
      ]
    },
    {
      "cell_type": "markdown",
      "source": [
        "Quando si è finito di lavorare su un file, bisogna chiuderlo con l'istruzione close(), nel caso si verifichino degli errori e il programma termini in modo inaspettato, non è detto che il file venga chiuso correttamente.\n",
        "\n",
        "Bisognerebbe sempre utilizzare il costrutto try/except/finally per la gestione degli errori, come già mostrato nelle lezioni precedenti.\n"
      ],
      "metadata": {
        "id": "eHFGdnOmpRx7"
      }
    },
    {
      "cell_type": "code",
      "source": [
        "pf = open('drive/MyDrive/testo.txt', 'r')\n",
        "try:\n",
        "    # Visualizza il contenuto riga per riga\n",
        "    for r in pf:\n",
        "        print(r)\n",
        "except Exception as e:\n",
        "    print('Si è verificato un errore')\n",
        "    print(e)\n",
        "finally:\n",
        "    pf.close()"
      ],
      "metadata": {
        "colab": {
          "base_uri": "https://localhost:8080/"
        },
        "id": "5mIueyX0pbas",
        "outputId": "b55f92ab-50c2-4703-faf0-67fda6b3eb78"
      },
      "execution_count": 4,
      "outputs": [
        {
          "output_type": "stream",
          "name": "stdout",
          "text": [
            "questo\n",
            "\n",
            "è\n",
            "\n",
            "un testo\n",
            "\n",
            "di prova\n"
          ]
        }
      ]
    },
    {
      "cell_type": "markdown",
      "source": [
        "Per evitare di scrivere ogni volta try/except/finally, un modo più elegante è utilizzare l'istruzione with.\n",
        "\n",
        "L'istruzione with gestisce automaticamente l’entrata e l’uscita da un blocco di codice che lavora con una risorsa, assicurandosi che venga rilasciata correttamente, anche in caso di errore.\n",
        "\n",
        "Un oggetto usato con with deve implementare due metodi speciali:\n",
        "*\t__enter__() → entra nel contesto\n",
        "*\t__exit__() → esce dal contesto, gestisce errori e chiusura\n",
        "\n",
        "Gli oggetti file (come quello restituito da **open()**) implementano questi metodi, ed è per questo che funzionano con with.\n",
        "\n",
        "Quindi quando si usa with non è necessario chiude esplicitamente il file, perché se ne occupa lui."
      ],
      "metadata": {
        "id": "r4ECbmhIpgtD"
      }
    },
    {
      "cell_type": "code",
      "source": [
        "with open('drive/MyDrive/testo.txt', 'r') as pf:\n",
        "    # Visualizza il contenuto riga per riga\n",
        "    for r in pf:\n",
        "        print(r)"
      ],
      "metadata": {
        "colab": {
          "base_uri": "https://localhost:8080/"
        },
        "id": "AGOBw0UOpoBb",
        "outputId": "b03ad2cb-424a-430e-8338-c2e43dcf6781"
      },
      "execution_count": 5,
      "outputs": [
        {
          "output_type": "stream",
          "name": "stdout",
          "text": [
            "questo\n",
            "\n",
            "è\n",
            "\n",
            "un testo\n",
            "\n",
            "di prova\n"
          ]
        }
      ]
    },
    {
      "cell_type": "markdown",
      "source": [
        "Esempio di scrittura"
      ],
      "metadata": {
        "id": "lBIw7YIjpwdA"
      }
    },
    {
      "cell_type": "code",
      "source": [
        "dati = [\"msg1\", \"msg2\", \"msg3\"]\n",
        "with open(\"drive/MyDrive/output.txt\", \"wt\") as pf:\n",
        "  for d in dati:\n",
        "    pf.write(f\"{d}\\n\")"
      ],
      "metadata": {
        "id": "Wu917pfIpx_i"
      },
      "execution_count": 7,
      "outputs": []
    }
  ]
}