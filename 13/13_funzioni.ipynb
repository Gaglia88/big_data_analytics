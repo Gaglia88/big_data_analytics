{
  "nbformat": 4,
  "nbformat_minor": 0,
  "metadata": {
    "colab": {
      "provenance": []
    },
    "kernelspec": {
      "name": "python3",
      "display_name": "Python 3"
    },
    "language_info": {
      "name": "python"
    }
  },
  "cells": [
    {
      "cell_type": "markdown",
      "source": [
        "# Funzioni\n",
        "\n",
        "In Python, come in altri linguaggi, è possibile definire procedure e funzioni (una procedura non ha un valore di ritorno e/o parametri in ingresso, mentre una funzione ha sempre almeno un parametro in ingresso e un parametro in uscita).\n",
        "In Python una funzione/procedura prende in ingresso da zero a più parametri e restituisce da zero a più valori di ritorno.\n",
        "\n",
        "**A differenza di C/C++/Java una funzione può restituire più valori: restituisce una tupla di valori**\n",
        "\n",
        "La sintassi per la definizione di una funzione è:\n",
        "\n",
        "```\n",
        "def nomeFunzione([parametro1, parametro2, …, parametroN]):\n",
        "    <blocco di codice>\n",
        "    [return valore1, valore2, …, valoreN]\n",
        "```\n",
        "\n",
        "La seguente funzione prende in ingresso due numeri e ne restituisce la somma\n"
      ],
      "metadata": {
        "id": "bDcTXq41vbS4"
      }
    },
    {
      "cell_type": "code",
      "source": [
        "def somma(a, b):\n",
        "   return a+b\n",
        "\n",
        "print(somma(1, 2)) # Visualizza 3"
      ],
      "metadata": {
        "colab": {
          "base_uri": "https://localhost:8080/"
        },
        "id": "TjvxKtQ3wjxz",
        "outputId": "0a2f2dc4-e9fd-433e-ee81-37b9a0e01d4c"
      },
      "execution_count": 1,
      "outputs": [
        {
          "output_type": "stream",
          "name": "stdout",
          "text": [
            "3\n"
          ]
        }
      ]
    },
    {
      "cell_type": "markdown",
      "source": [
        "La seguente funzione incrementa i due valori di 1"
      ],
      "metadata": {
        "id": "z0f7CFhnwv1s"
      }
    },
    {
      "cell_type": "code",
      "source": [
        "def inc(a, b):\n",
        "   return (a+1), (b+1)\n",
        "\n",
        "print(inc(1, 2))\n",
        "v1, v2 = inc(1, 2) # Assegna 2 a v1 e 3 a v2\n",
        "print(v1)\n",
        "print(v2)"
      ],
      "metadata": {
        "colab": {
          "base_uri": "https://localhost:8080/"
        },
        "id": "WHAJHBOBwygy",
        "outputId": "6ea42125-8616-4564-bc89-7a20bbdc1b80"
      },
      "execution_count": 2,
      "outputs": [
        {
          "output_type": "stream",
          "name": "stdout",
          "text": [
            "(2, 3)\n",
            "2\n",
            "3\n"
          ]
        }
      ]
    },
    {
      "cell_type": "markdown",
      "source": [
        "Volendo è possibile definire esplicitamente i tipi di dato che si aspetta la funzione, questa però è solo una funzionalità sintattica per facilitare chi utilizzerà la funzione, l'interprete non li considera (nella versione attuale di Python).\n",
        "La sintassi è:\n",
        "\n",
        "```\n",
        "def nomeFunzione([parametro1: tipoDato,…, parametroN: tipoDato]) -> tipoValoreRitorno1, …, tipoValoreRitornoN:\n",
        "    <blocco di codice>\n",
        "    [return valore1, valore2, …, valoreN]\n",
        "\n",
        "```"
      ],
      "metadata": {
        "id": "6Ugcbr4Zw3R7"
      }
    },
    {
      "cell_type": "code",
      "source": [
        "def somma(a: int, b: int) -> int:\n",
        "   return a+b\n",
        "\n",
        "print(somma(1, 2)) # Visualizza 3\n",
        "\"\"\"\n",
        "Visualizza 3.5 e non dà errore anche se 1.5 è un float\n",
        "\"\"\"\n",
        "print(somma(1.5, 2))"
      ],
      "metadata": {
        "colab": {
          "base_uri": "https://localhost:8080/"
        },
        "id": "GFQpqsuvw_iM",
        "outputId": "a63c6533-2ea3-4595-ca6d-5724bd24dc43"
      },
      "execution_count": 3,
      "outputs": [
        {
          "output_type": "stream",
          "name": "stdout",
          "text": [
            "3\n",
            "3.5\n"
          ]
        }
      ]
    },
    {
      "cell_type": "markdown",
      "source": [
        "È possibile indicare anche un valore di default per un parametro, i parametri con valore di default vanno sempre indicati dopo quelli che non lo hanno.\n",
        "Quando si chiama la funzione se non si mette il parametro, verrà usato il valore di default.\n",
        "\n",
        "Ad esempio, invece di 1 mettiamo un valore di default per l’incremento. Se non si specifica i quando si chiama la funzione, sarà impostato ad 1.\n"
      ],
      "metadata": {
        "id": "lvNVTLyhxCnk"
      }
    },
    {
      "cell_type": "code",
      "source": [
        "def inc(a, b, i=1):\n",
        "   return (a+i), (b+i)\n",
        "\n",
        "print(inc(1, 2))    # Visualizza (2, 3)\n",
        "print(inc(1, 2, 2)) # Visualizza (3, 4)"
      ],
      "metadata": {
        "colab": {
          "base_uri": "https://localhost:8080/"
        },
        "id": "KKVYDH4PxF_c",
        "outputId": "85e60933-7ac3-4358-e190-9066da9ccd47"
      },
      "execution_count": 4,
      "outputs": [
        {
          "output_type": "stream",
          "name": "stdout",
          "text": [
            "(2, 3)\n",
            "(3, 4)\n"
          ]
        }
      ]
    },
    {
      "cell_type": "markdown",
      "source": [
        "È anche possibile passare i parametri non nell’ordine in cui sono indicati nella definizione della funzione indicandoli con nomeParametro=valore"
      ],
      "metadata": {
        "id": "sMexj1KSxIpQ"
      }
    },
    {
      "cell_type": "code",
      "source": [
        "def inc(a, b, i=1):\n",
        "   return (a+i), (b+i)\n",
        "\n",
        "print(inc(i=3, b=1, a=2))    # Visualizza (5, 4)"
      ],
      "metadata": {
        "colab": {
          "base_uri": "https://localhost:8080/"
        },
        "id": "rOpSfB0HxLPc",
        "outputId": "bb5b84cd-3a5b-4e20-f9b2-e7890c44aef0"
      },
      "execution_count": 5,
      "outputs": [
        {
          "output_type": "stream",
          "name": "stdout",
          "text": [
            "(5, 4)\n"
          ]
        }
      ]
    },
    {
      "cell_type": "markdown",
      "source": [
        "Passaggio parametri per indirizzo o per valore?\n",
        "\n",
        "In linguaggi come il C è possibile scegliere se passare i parametri ad una funzione per indirizzo (by reference) o per valore (by value):\n",
        "*\tPassaggio per indirizzo: si passa alla funzione l'indirizzo di memoria in cui è memorizzata la variabile (ossia il suo riferimento), quindi se si cambia il valore contenuto in quell'indirizzo di memoria dentro alla funzione, anche la variabile esterna verrà modificata;\n",
        "*\tPassaggio per copia: il valore viene copiato in una nuova variabile utilizzabile solo all'interno della funzione. Se si modifica il valore di questa variabile, quella originale esternamente alla funzione non subisce modifiche.\n",
        "\n",
        "Ricordiamo che Python è un linguaggio orientato alla programmazione ad oggetti e ogni variabile è un oggetto istanza della classe che rappresenta il tipo di un oggetto.\n",
        "\n",
        "In Python non è possibile scegliere in modo esplicito questo comportamento, sceglie automaticamente come passare una variabile ad una funzione sulla base del tipo di dato.\n",
        "\n",
        "Tipi di dato che generano oggetti immutabili (ossia di cui non si può modificare il valore, ogni modifica genera un nuovo oggetto) sono passati per copia, mentre oggetti mutabili per indirizzo.\n",
        "\n",
        "*\tOggetti immutabili: stringhe (string), interi (int), float, tuple, booleani (bool).\n",
        "*\tOggetti mutabili: liste (list), set, dizionari (dict).\n"
      ],
      "metadata": {
        "id": "Z-fFNxVUxRlI"
      }
    },
    {
      "cell_type": "code",
      "source": [
        "def edit(s):\n",
        "   s = \"prova\"\n",
        "   print(s) # Visualizza prova\n",
        "\n",
        "stringa = \"ciao\"\n",
        "edit(stringa) # Viene creata una copia di stringa in edit\n",
        "print(stringa) # Visualizza ancora ciao"
      ],
      "metadata": {
        "colab": {
          "base_uri": "https://localhost:8080/"
        },
        "id": "FGzFe_V0xhf9",
        "outputId": "07a731d2-ecbf-4a91-831d-66a3cf9dcd94"
      },
      "execution_count": 6,
      "outputs": [
        {
          "output_type": "stream",
          "name": "stdout",
          "text": [
            "prova\n",
            "ciao\n"
          ]
        }
      ]
    },
    {
      "cell_type": "code",
      "source": [
        "def edit(s):\n",
        "   s.add(10) # Questa modifica si vedrà anche esternamente\n",
        "\n",
        "s = {1, 2}\n",
        "edit(s) # Viene passato per indirizzo\n",
        "print(s) # Visualizza {1, 2, 10}"
      ],
      "metadata": {
        "colab": {
          "base_uri": "https://localhost:8080/"
        },
        "id": "oXkaFUpuxn3k",
        "outputId": "44591115-b296-4347-8480-0b557866961a"
      },
      "execution_count": 7,
      "outputs": [
        {
          "output_type": "stream",
          "name": "stdout",
          "text": [
            "{1, 2, 10}\n"
          ]
        }
      ]
    },
    {
      "cell_type": "markdown",
      "source": [
        "Se si vuole passare un oggetto mutabile per copia, bisogna crearne esplicitamente una copia con il metodo .copy().\n",
        "\n",
        "In generale, copy() può essere applicato su qualsiasi oggetto mutabile per generarne una nuova copia."
      ],
      "metadata": {
        "id": "jnWajThWxrvz"
      }
    },
    {
      "cell_type": "code",
      "source": [
        "s = {1, 2}\n",
        "edit(s.copy()) # Viene creata una copia di s e poi passata\n",
        "               # sempre per indirizzo\n",
        "print(s) # Visualizza {1, 2}"
      ],
      "metadata": {
        "colab": {
          "base_uri": "https://localhost:8080/"
        },
        "id": "4dzGcbXZxy2N",
        "outputId": "73b3940c-02f1-4938-834a-aed97a930e83"
      },
      "execution_count": 9,
      "outputs": [
        {
          "output_type": "stream",
          "name": "stdout",
          "text": [
            "{1, 2}\n"
          ]
        }
      ]
    },
    {
      "cell_type": "markdown",
      "source": [
        "Supportando anche la programmazione funzionale in Python è possibile passare come parametro di una funzione un'altra funzione.\n",
        "Una funzione è vista esattamente come una variabile.\n",
        "\n",
        "\n",
        "Ad esempio, la funzione apply prende in ingresso una variabile s, una funzione f e applica f su s.\n",
        "Questo esempio non è molto utile, ma vedremo casi in cui risulta molto conveniente poter passare una funzione come parametro.\n"
      ],
      "metadata": {
        "id": "RWviPcrGx0z9"
      }
    },
    {
      "cell_type": "code",
      "source": [
        "def somma(s):\n",
        "    acc = 0\n",
        "    for e in s:\n",
        "        acc += e\n",
        "    return acc\n",
        "\n",
        "def moltiplicazione(s):\n",
        "  acc = 1\n",
        "  for e in s:\n",
        "    acc *= e\n",
        "  return acc\n",
        "\n",
        "def apply(s, f):\n",
        "    return f(s)\n",
        "\n",
        "s = {1, 2, 3, 4}\n",
        "print(apply(s, somma))\n",
        "print(apply(s, moltiplicazione))"
      ],
      "metadata": {
        "colab": {
          "base_uri": "https://localhost:8080/"
        },
        "id": "cMy4RiK1yI_D",
        "outputId": "1effa050-dd1e-4da4-b2a9-38e9babf7b8f"
      },
      "execution_count": 12,
      "outputs": [
        {
          "output_type": "stream",
          "name": "stdout",
          "text": [
            "10\n",
            "24\n"
          ]
        }
      ]
    },
    {
      "cell_type": "markdown",
      "source": [
        "Per concludere, la documentazione di una funzione tipicamente si mette subito dopo la sua definizione come commento multilinea (quindi con i tre apici che aprono e chiudono) fatta come nell'esempio che segue, mettendo quindi una descrizione della funzione, dei parametri che prende in input e degli eventuali valori di ritorno."
      ],
      "metadata": {
        "id": "hKws-gF1yMqz"
      }
    },
    {
      "cell_type": "code",
      "source": [
        "def somma(s: list[int]):\n",
        "    \"\"\"\n",
        "    Esegue la somma dei valori di una lista di interi.\n",
        "\n",
        "    Parameters\n",
        "    ----------\n",
        "    s : list\n",
        "       elenco di valori numerici interi\n",
        "    acc = 0\n",
        "\n",
        "    Returns\n",
        "    -------\n",
        "    int\n",
        "       la somma dei valori contenuti nella lista\n",
        "    \"\"\"\n",
        "    for e in s:\n",
        "        acc += e\n",
        "    return acc"
      ],
      "metadata": {
        "id": "aOfSHa11ytp5"
      },
      "execution_count": 14,
      "outputs": []
    }
  ]
}