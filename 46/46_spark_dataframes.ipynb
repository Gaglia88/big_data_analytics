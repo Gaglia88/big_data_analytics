{
 "cells": [
  {
   "cell_type": "markdown",
   "metadata": {
    "id": "8iOfRh5hfeO7"
   },
   "source": [
    "# Introduzione ai DataFrame\n",
    "In questo notebook verranno illustrate diverse funzionalità di Spark sui dati strutturati tramite semplici esempi. Per la documentazione fare riferimento a [questa pagina](https://spark.apache.org/docs/latest/api/python/reference/pyspark.sql/dataframe.html).\n",
    "\n",
    "\n",
    "Spark può essere utilizzato in Colab installando, oltre pyspark, findspark una libreria che consente di importare pyspark come una normale libreria."
   ]
  },
  {
   "cell_type": "code",
   "execution_count": 1,
   "metadata": {
    "colab": {
     "base_uri": "https://localhost:8080/"
    },
    "id": "xEttNomrhI17",
    "outputId": "9d05e7cd-f48e-47fc-af3c-c656f4361008"
   },
   "outputs": [
    {
     "name": "stdout",
     "output_type": "stream",
     "text": [
      "Requirement already satisfied: pyspark in /usr/local/lib/python3.11/dist-packages (3.5.1)\n",
      "Requirement already satisfied: py4j==0.10.9.7 in /usr/local/lib/python3.11/dist-packages (from pyspark) (0.10.9.7)\n",
      "Requirement already satisfied: findspark in /usr/local/lib/python3.11/dist-packages (2.0.1)\n"
     ]
    }
   ],
   "source": [
    "# Installa le due librerie\n",
    "!pip install pyspark\n",
    "!pip install findspark"
   ]
  },
  {
   "cell_type": "markdown",
   "metadata": {
    "id": "tcgnLP1EhXp6"
   },
   "source": [
    "Per lavorare con i dati strutturati è necessario importare e definire l'SQLContext"
   ]
  },
  {
   "cell_type": "code",
   "execution_count": 2,
   "metadata": {
    "id": "oBiFjzCChMBz"
   },
   "outputs": [],
   "source": [
    "import pyspark\n",
    "import findspark\n",
    "findspark.init()"
   ]
  },
  {
   "cell_type": "code",
   "execution_count": 3,
   "metadata": {
    "id": "JDhiwOS_m3GH"
   },
   "outputs": [],
   "source": [
    "from pyspark.sql import SparkSession\n",
    "\n",
    "sqlContext = SparkSession.builder.getOrCreate()"
   ]
  },
  {
   "cell_type": "markdown",
   "metadata": {
    "id": "YyiAneT5fePB"
   },
   "source": [
    "Come prima cosa carichiamo dei dati, questo dataset contiene diversi brani musicali.\n",
    "Ne visualizziamo alcuni record."
   ]
  },
  {
   "cell_type": "code",
   "execution_count": 4,
   "metadata": {
    "colab": {
     "base_uri": "https://localhost:8080/"
    },
    "id": "Qaw-3HJsfePC",
    "outputId": "c88004a3-a057-4724-99a7-6b6755841708"
   },
   "outputs": [
    {
     "name": "stdout",
     "output_type": "stream",
     "text": [
      "+---+--------------------+--------------------+--------------------+---------+------------------+-----------------+----+\n",
      "| id|               title|             release|         artist_name| duration|artist_familiarity|artist_hotttnesss|year|\n",
      "+---+--------------------+--------------------+--------------------+---------+------------------+-----------------+----+\n",
      "|  1|        Silent Night|Monster Ballads X...|    Faster Pussy cat|252.05506|    0.649822100201|   0.394031892714|2003|\n",
      "|  2|         Tanssi vaan|         Karkuteillä|    Karkkiautomaatti|156.55138|    0.439603966677|   0.356992107756|1995|\n",
      "|  3|   No One Could Ever|              Butter|      Hudson Mohawke|138.97098|    0.643680572058|   0.437503836595|2006|\n",
      "|  4|       Si Vos Querés|             De Culo|         Yerba Brava|145.05751|    0.448501159656|   0.372349068517|2003|\n",
      "|  5|    Tangle Of Aspens|Rene Ablaze Prese...|          Der Mystic|514.29832|               0.0|              0.0|   0|\n",
      "|  6|\"Symphony No. 1 G...|Berwald: Symphoni...|    David Montgomery|816.53506|    0.361286979628|   0.109625847059|   0|\n",
      "|  7|    We Have Got Love|Strictly The Best...|  Sasha / Turbulence|212.37506|    0.692922730576|   0.453731585999|   0|\n",
      "|  8|   2 Da Beat Ch'yall|             Da Bomb|          Kris Kross|221.20444|    0.588156187675|   0.401092425177|1993|\n",
      "|  9|             Goodbye|           Danny Boy|        Joseph Locke|139.17995|    0.408465463469|   0.285901196045|   0|\n",
      "| 10|Mama_ mama can't ...|March to cadence ...|The Sun Harbor's ...|104.48934|     0.41994127477|    0.24913722954|   0|\n",
      "+---+--------------------+--------------------+--------------------+---------+------------------+-----------------+----+\n",
      "only showing top 10 rows\n",
      "\n"
     ]
    }
   ],
   "source": [
    "df = sqlContext.read.csv('msd.csv', header=True)\n",
    "df.show(10)"
   ]
  },
  {
   "cell_type": "markdown",
   "metadata": {
    "id": "acb2VyZ8fePG"
   },
   "source": [
    "Possiamo visualizzare lo schema del dataframe. Si può notare che tutti i dati sono stati caricati come stringhe."
   ]
  },
  {
   "cell_type": "code",
   "execution_count": 13,
   "metadata": {
    "colab": {
     "base_uri": "https://localhost:8080/"
    },
    "id": "JGI0iMSYfePI",
    "outputId": "28feacaf-a777-4976-e549-690241afb5a4"
   },
   "outputs": [
    {
     "name": "stdout",
     "output_type": "stream",
     "text": [
      "root\n",
      " |-- id: integer (nullable = true)\n",
      " |-- title: string (nullable = true)\n",
      " |-- release: string (nullable = true)\n",
      " |-- artist_name: string (nullable = true)\n",
      " |-- duration: double (nullable = true)\n",
      " |-- artist_familiarity: double (nullable = true)\n",
      " |-- artist_hotttnesss: double (nullable = true)\n",
      " |-- year: integer (nullable = true)\n",
      "\n"
     ]
    }
   ],
   "source": [
    "df.printSchema()"
   ]
  },
  {
   "cell_type": "markdown",
   "metadata": {
    "id": "FQJzN00yfePJ"
   },
   "source": [
    "Questo accade perché di default Spark non fa l'inferenza del tipo di dato, si può attivare aggiungendo l'opzione *option(\"inferSchema\", \"true\")*\n",
    "\n",
    "Ora ogni colonna ha il corretto tipo di dato."
   ]
  },
  {
   "cell_type": "code",
   "execution_count": 14,
   "metadata": {
    "colab": {
     "base_uri": "https://localhost:8080/"
    },
    "id": "WlaLl894fePK",
    "outputId": "2c552a12-cd7c-4e2f-dbf5-19c3c28341c0"
   },
   "outputs": [
    {
     "name": "stdout",
     "output_type": "stream",
     "text": [
      "root\n",
      " |-- id: integer (nullable = true)\n",
      " |-- title: string (nullable = true)\n",
      " |-- release: string (nullable = true)\n",
      " |-- artist_name: string (nullable = true)\n",
      " |-- duration: double (nullable = true)\n",
      " |-- artist_familiarity: double (nullable = true)\n",
      " |-- artist_hotttnesss: double (nullable = true)\n",
      " |-- year: integer (nullable = true)\n",
      "\n"
     ]
    }
   ],
   "source": [
    "df = sqlContext.read.option(\"inferSchema\", \"true\").csv('msd.csv', header=True)\n",
    "df.printSchema()"
   ]
  },
  {
   "cell_type": "markdown",
   "metadata": {
    "id": "POcbHUrhfePL"
   },
   "source": [
    "Possiamo contare il numero di record nel dataframe."
   ]
  },
  {
   "cell_type": "code",
   "execution_count": 15,
   "metadata": {
    "colab": {
     "base_uri": "https://localhost:8080/"
    },
    "id": "KvxOl7L-fePM",
    "outputId": "f978e94a-1bb5-4f86-9cea-5d554ed3dc35"
   },
   "outputs": [
    {
     "data": {
      "text/plain": [
       "39050"
      ]
     },
     "execution_count": 15,
     "metadata": {},
     "output_type": "execute_result"
    }
   ],
   "source": [
    "df.count()"
   ]
  },
  {
   "cell_type": "markdown",
   "metadata": {
    "id": "58fs3yM6fePN"
   },
   "source": [
    "Possiamo usare select per selezionare alcune colonne e wher eper aggiungere un filtro che prenda solo i record con l'anno specificato."
   ]
  },
  {
   "cell_type": "code",
   "execution_count": 16,
   "metadata": {
    "id": "l2-rlC5DfePN"
   },
   "outputs": [],
   "source": [
    "df1 = df.select('id', 'title', 'year', 'artist_name', 'duration').where('year > 0')"
   ]
  },
  {
   "cell_type": "code",
   "execution_count": 17,
   "metadata": {
    "colab": {
     "base_uri": "https://localhost:8080/"
    },
    "id": "Yn5oeG5sfePN",
    "outputId": "d4a97e79-49f7-4015-f595-4fcacdcfb8f4"
   },
   "outputs": [
    {
     "name": "stdout",
     "output_type": "stream",
     "text": [
      "+---+--------------------+----+-----------------+---------+\n",
      "| id|               title|year|      artist_name| duration|\n",
      "+---+--------------------+----+-----------------+---------+\n",
      "|  1|        Silent Night|2003| Faster Pussy cat|252.05506|\n",
      "|  2|         Tanssi vaan|1995| Karkkiautomaatti|156.55138|\n",
      "|  3|   No One Could Ever|2006|   Hudson Mohawke|138.97098|\n",
      "|  4|       Si Vos Querés|2003|      Yerba Brava|145.05751|\n",
      "|  8|   2 Da Beat Ch'yall|1993|       Kris Kross|221.20444|\n",
      "| 11|       L'antarctique|2007| 3 Gars Su'l Sofa| 68.96281|\n",
      "| 12|  El hijo del pueblo|1997|    Jorge Negrete|168.22812|\n",
      "| 14|              Pilots|2005|        Tiger Lou|318.45832|\n",
      "| 16|                 006|1998|  Lena Philipsson|262.26893|\n",
      "| 17|(Looking For) The...|1994|     Shawn Colvin|216.47628|\n",
      "| 18|   Ethos of Coercion|2009|      Dying Fetus| 196.0224|\n",
      "| 19|         Rock-N-Rule|2007|            Emery|217.57342|\n",
      "| 23|             Nervous|1996|        Nicolette| 213.4722|\n",
      "| 24|      In The Journey|2001|    Martin Sexton|319.81669|\n",
      "| 27|           I'm Ready|2004|        Aerosmith|253.70077|\n",
      "| 28|      Take As Needed|2002|          Skinlab|210.93832|\n",
      "| 34|All of the same b...|2001|          Kreator| 372.4273|\n",
      "| 35|One Little Too Li...|1996|     Hall Of Fame| 92.73424|\n",
      "| 36|  Cockleshell Heroes|2007|Frank Chacksfield|155.19302|\n",
      "| 38|     Wonderful Stash|1998|     Wishbone Ash| 437.7073|\n",
      "+---+--------------------+----+-----------------+---------+\n",
      "only showing top 20 rows\n",
      "\n"
     ]
    }
   ],
   "source": [
    "df1.show()"
   ]
  },
  {
   "cell_type": "markdown",
   "metadata": {
    "id": "wZxj_fSSfePO"
   },
   "source": [
    "Possiamo usare groupBy per fare aggregazioni. Ad esempio, possiamo vedere quante canzoni ci sono in un anno."
   ]
  },
  {
   "cell_type": "code",
   "execution_count": 18,
   "metadata": {
    "colab": {
     "base_uri": "https://localhost:8080/"
    },
    "id": "afx2rqlafePO",
    "outputId": "2d8c4869-74bf-49e7-ef07-629d8a731f69"
   },
   "outputs": [
    {
     "name": "stdout",
     "output_type": "stream",
     "text": [
      "+----+-----+\n",
      "|year|count|\n",
      "+----+-----+\n",
      "|1959|   21|\n",
      "|1990|  261|\n",
      "|1975|  109|\n",
      "|1977|   87|\n",
      "|2003| 1102|\n",
      "|2007| 1607|\n",
      "|1974|   88|\n",
      "|1955|    8|\n",
      "|2006| 1467|\n",
      "|1978|  111|\n",
      "|1961|   19|\n",
      "|1939|    2|\n",
      "|1922|    1|\n",
      "|1952|    1|\n",
      "|1956|   15|\n",
      "|1934|    1|\n",
      "|1997|  599|\n",
      "|1988|  200|\n",
      "|1994|  458|\n",
      "|1968|   84|\n",
      "+----+-----+\n",
      "only showing top 20 rows\n",
      "\n"
     ]
    }
   ],
   "source": [
    "df2 = df1.groupBy('year').count()\n",
    "df2.show()"
   ]
  },
  {
   "cell_type": "markdown",
   "metadata": {
    "id": "203e5XLCfePP"
   },
   "source": [
    "Ora possiamo ordinare il DataFrame in modo decrescente per il numero di brani."
   ]
  },
  {
   "cell_type": "code",
   "execution_count": 19,
   "metadata": {
    "colab": {
     "base_uri": "https://localhost:8080/"
    },
    "id": "RY3UNtAGfePP",
    "outputId": "5b6db5cc-c1bc-4187-a082-0e89720b5389"
   },
   "outputs": [
    {
     "name": "stdout",
     "output_type": "stream",
     "text": [
      "+----+-----+\n",
      "|year|count|\n",
      "+----+-----+\n",
      "|2007| 1607|\n",
      "|2006| 1467|\n",
      "|2005| 1371|\n",
      "|2008| 1357|\n",
      "|2009| 1206|\n",
      "|2004| 1176|\n",
      "|2003| 1102|\n",
      "|2001|  896|\n",
      "|2002|  896|\n",
      "|1999|  695|\n",
      "|2000|  691|\n",
      "|1997|  599|\n",
      "|1996|  582|\n",
      "|1998|  566|\n",
      "|1995|  489|\n",
      "|1994|  458|\n",
      "|1993|  393|\n",
      "|2010|  382|\n",
      "|1992|  372|\n",
      "|1991|  342|\n",
      "+----+-----+\n",
      "only showing top 20 rows\n",
      "\n"
     ]
    }
   ],
   "source": [
    "df3 = df2.orderBy('count', ascending=False)\n",
    "df3.show()"
   ]
  },
  {
   "cell_type": "markdown",
   "metadata": {
    "id": "QzJ4sN0qjDBF"
   },
   "source": [
    "Ora potremmo convertire il dataframe in uno di Pandas e visualizzare in un grafico i risultati."
   ]
  },
  {
   "cell_type": "code",
   "execution_count": 20,
   "metadata": {
    "colab": {
     "base_uri": "https://localhost:8080/",
     "height": 504
    },
    "id": "95oiFNppi-ce",
    "outputId": "d5cef31d-7c38-4f56-9de6-dba05889fd46"
   },
   "outputs": [
    {
     "data": {
      "text/plain": [
       "<Axes: xlabel='year'>"
      ]
     },
     "execution_count": 20,
     "metadata": {},
     "output_type": "execute_result"
    },
    {
     "data": {
      "image/png": "[encoded data removed]",
      "text/plain": [
       "<Figure size 1500x500 with 1 Axes>"
      ]
     },
     "metadata": {},
     "output_type": "display_data"
    }
   ],
   "source": [
    "df3.toPandas().plot(x='year', y='count', kind='bar', figsize=(15,5))"
   ]
  },
  {
   "cell_type": "markdown",
   "metadata": {
    "id": "esg1ypbKfePP"
   },
   "source": [
    "Potremmo calcolare per ogni artista la durata media dei brani"
   ]
  },
  {
   "cell_type": "code",
   "execution_count": 21,
   "metadata": {
    "colab": {
     "base_uri": "https://localhost:8080/"
    },
    "id": "FAG0yyj_fePP",
    "outputId": "6414d483-169c-43c8-d317-28ad8329030a"
   },
   "outputs": [
    {
     "name": "stdout",
     "output_type": "stream",
     "text": [
      "+--------------------+------------------+\n",
      "|         artist_name|     avg(duration)|\n",
      "+--------------------+------------------+\n",
      "|       Rhian Sheehan|230.94289199999997|\n",
      "|        Boyd Tinsley|         172.40771|\n",
      "|Dashboard Confess...|214.96988666666667|\n",
      "|     Patrik Isaksson|        270.680365|\n",
      "|        Yann Tiersen|         120.39791|\n",
      "|        This Is Hell|         150.72608|\n",
      "|       Black Debbath|        284.283625|\n",
      "|    The Flower Kings|313.00526249999996|\n",
      "|     Big John Patton|         404.50567|\n",
      "|     Shannon McNally|        283.075465|\n",
      "|        Elvis Crespo|         238.75873|\n",
      "|          Leng Tch'e|         94.066485|\n",
      "|     Robyn Hitchcock|223.43138249999998|\n",
      "|          Eurythmics|        258.000528|\n",
      "|          Sound Team|        224.926895|\n",
      "|The Partridge Family|         172.56444|\n",
      "|         Silverstein|         237.68771|\n",
      "|              SINNER|245.52444666666665|\n",
      "|         Brian Tyler|         148.63628|\n",
      "|     Chalee Tennison|         241.47546|\n",
      "+--------------------+------------------+\n",
      "only showing top 20 rows\n",
      "\n"
     ]
    }
   ],
   "source": [
    "df4 = df1.groupBy('artist_name').avg('duration')\n",
    "df4.show()"
   ]
  },
  {
   "cell_type": "markdown",
   "metadata": {
    "id": "SqilgxzUfePP"
   },
   "source": [
    "La durata è in secondi, se volessimo convertirla in minuti, potremmo applicare una UDF."
   ]
  },
  {
   "cell_type": "code",
   "execution_count": 22,
   "metadata": {
    "id": "wDuN-akZfePQ"
   },
   "outputs": [],
   "source": [
    "from pyspark.sql.types import DoubleType\n",
    "from pyspark.sql.functions import udf\n",
    "\n",
    "toMin = udf(lambda sec: sec/60.0, DoubleType())\n",
    "df5 = df1.select('id', 'title', 'year', 'artist_name', toMin('duration').alias('duration_min'))"
   ]
  },
  {
   "cell_type": "code",
   "execution_count": 23,
   "metadata": {
    "colab": {
     "base_uri": "https://localhost:8080/"
    },
    "id": "-NPeVXRdfePQ",
    "outputId": "8f6bef03-c775-42f7-ab0c-9a841ae1bd57"
   },
   "outputs": [
    {
     "name": "stdout",
     "output_type": "stream",
     "text": [
      "+---+--------------------+----+-----------------+------------------+\n",
      "| id|               title|year|      artist_name|      duration_min|\n",
      "+---+--------------------+----+-----------------+------------------+\n",
      "|  1|        Silent Night|2003| Faster Pussy cat| 4.200917666666666|\n",
      "|  2|         Tanssi vaan|1995| Karkkiautomaatti|2.6091896666666665|\n",
      "|  3|   No One Could Ever|2006|   Hudson Mohawke|          2.316183|\n",
      "|  4|       Si Vos Querés|2003|      Yerba Brava| 2.417625166666667|\n",
      "|  8|   2 Da Beat Ch'yall|1993|       Kris Kross|3.6867406666666667|\n",
      "| 11|       L'antarctique|2007| 3 Gars Su'l Sofa|1.1493801666666668|\n",
      "| 12|  El hijo del pueblo|1997|    Jorge Negrete|2.8038019999999997|\n",
      "| 14|              Pilots|2005|        Tiger Lou| 5.307638666666667|\n",
      "| 16|                 006|1998|  Lena Philipsson| 4.371148833333334|\n",
      "| 17|(Looking For) The...|1994|     Shawn Colvin|          3.607938|\n",
      "| 18|   Ethos of Coercion|2009|      Dying Fetus|           3.26704|\n",
      "| 19|         Rock-N-Rule|2007|            Emery|3.6262236666666667|\n",
      "| 23|             Nervous|1996|        Nicolette|           3.55787|\n",
      "| 24|      In The Journey|2001|    Martin Sexton| 5.330278166666667|\n",
      "| 27|           I'm Ready|2004|        Aerosmith| 4.228346166666666|\n",
      "| 28|      Take As Needed|2002|          Skinlab| 3.515638666666667|\n",
      "| 34|All of the same b...|2001|          Kreator| 6.207121666666667|\n",
      "| 35|One Little Too Li...|1996|     Hall Of Fame|1.5455706666666666|\n",
      "| 36|  Cockleshell Heroes|2007|Frank Chacksfield|2.5865503333333333|\n",
      "| 38|     Wonderful Stash|1998|     Wishbone Ash| 7.295121666666666|\n",
      "+---+--------------------+----+-----------------+------------------+\n",
      "only showing top 20 rows\n",
      "\n"
     ]
    }
   ],
   "source": [
    "df5.show()"
   ]
  },
  {
   "cell_type": "markdown",
   "metadata": {
    "id": "KRpmLPPXfePR"
   },
   "source": [
    "Possiamo eseguire anche il join tra più dataframe.\n",
    "Dati i seguenti dataframe:<br />\n",
    "<b>students</b>: elenco di studenti con formato (nome studente, matricola)<br />\n",
    "<b>courses</b>: elenco di corsi con formato (nome corso, identificatore corso)<br />\n",
    "  <b>exams</b>: elenco degli esami sostenuti da uno studente per un corso con formato (identificatore corso, matricola, data esame, voto esame)<br /><br />\n",
    "\n",
    "Spark supporta i vari tipi di join (inner/outer)"
   ]
  },
  {
   "cell_type": "code",
   "execution_count": 24,
   "metadata": {
    "colab": {
     "base_uri": "https://localhost:8080/"
    },
    "id": "5bpHPn3XfePS",
    "outputId": "aa3f35f2-65e2-405c-a302-676c9d101d61"
   },
   "outputs": [
    {
     "name": "stdout",
     "output_type": "stream",
     "text": [
      "+------+----+\n",
      "|s_name|s_id|\n",
      "+------+----+\n",
      "| Alice|1231|\n",
      "|   Bob|4561|\n",
      "|   Sam|7893|\n",
      "|  Alex|1894|\n",
      "+------+----+\n",
      "\n",
      "+------+----+\n",
      "|c_name|c_id|\n",
      "+------+----+\n",
      "|  Math|  c1|\n",
      "|  Info|  c2|\n",
      "+------+----+\n",
      "\n",
      "+----+----+----------+-----+\n",
      "|c_id|s_id|      date|grade|\n",
      "+----+----+----------+-----+\n",
      "|  c1|1231|10/01/2018|    A|\n",
      "|  c1|4561|10/01/2018|    C|\n",
      "|  c1|4561|08/02/2018|   B+|\n",
      "|  c2|7893|18/02/2018|    D|\n",
      "+----+----+----------+-----+\n",
      "\n"
     ]
    }
   ],
   "source": [
    "studentsData = [('Alice', 1231), ('Bob', 4561), ('Sam', 7893), ('Alex', 1894)]\n",
    "coursesData = [('Math', 'c1'), ('Info', 'c2')]\n",
    "examsData = [('c1', 1231, '10/01/2018', 'A'), ('c1', 4561, '10/01/2018', 'C'), ('c1', 4561, '08/02/2018', 'B+'), ('c2', 7893, '18/02/2018', 'D')]\n",
    "\n",
    "students = sqlContext.createDataFrame(studentsData, ['s_name', 's_id'])\n",
    "courses = sqlContext.createDataFrame(coursesData, ['c_name', 'c_id'])\n",
    "exams = sqlContext.createDataFrame(examsData, ['c_id', 's_id', 'date', 'grade'])\n",
    "\n",
    "students.show()\n",
    "courses.show()\n",
    "exams.show()"
   ]
  },
  {
   "cell_type": "code",
   "execution_count": 25,
   "metadata": {
    "colab": {
     "base_uri": "https://localhost:8080/"
    },
    "id": "hh7IKj9vfePS",
    "outputId": "7d19732b-13c0-4457-e314-5d80d7ba8767"
   },
   "outputs": [
    {
     "name": "stdout",
     "output_type": "stream",
     "text": [
      "+------+----+----+----+----------+-----+------+----+\n",
      "|s_name|s_id|c_id|s_id|      date|grade|c_name|c_id|\n",
      "+------+----+----+----+----------+-----+------+----+\n",
      "|   Bob|4561|  c1|4561|08/02/2018|   B+|  Math|  c1|\n",
      "|   Bob|4561|  c1|4561|10/01/2018|    C|  Math|  c1|\n",
      "| Alice|1231|  c1|1231|10/01/2018|    A|  Math|  c1|\n",
      "|   Sam|7893|  c2|7893|18/02/2018|    D|  Info|  c2|\n",
      "+------+----+----+----+----------+-----+------+----+\n",
      "\n"
     ]
    }
   ],
   "source": [
    "#Con l'inner join vengono mantenuti solo i record che sono associati ad un altro record\n",
    "#Nello specifico, Alex non ha sostenuto nessun esame e quindi non compare nel risultato\n",
    "students.join(exams, students.s_id == exams.s_id, how=\"inner\").join(courses, courses.c_id == exams.c_id, how=\"inner\").show()"
   ]
  },
  {
   "cell_type": "code",
   "execution_count": 26,
   "metadata": {
    "colab": {
     "base_uri": "https://localhost:8080/"
    },
    "id": "bIXEYTRZfePS",
    "outputId": "3a180f3f-14fd-48b7-9cb4-0da50ca05e16"
   },
   "outputs": [
    {
     "name": "stdout",
     "output_type": "stream",
     "text": [
      "+------+----+----+----+----------+-----+------+----+\n",
      "|s_name|s_id|c_id|s_id|      date|grade|c_name|c_id|\n",
      "+------+----+----+----+----------+-----+------+----+\n",
      "|  Alex|1894|NULL|NULL|      NULL| NULL|  NULL|NULL|\n",
      "| Alice|1231|  c1|1231|10/01/2018|    A|  Math|  c1|\n",
      "|   Bob|4561|  c1|4561|10/01/2018|    C|  Math|  c1|\n",
      "|   Bob|4561|  c1|4561|08/02/2018|   B+|  Math|  c1|\n",
      "|   Sam|7893|  c2|7893|18/02/2018|    D|  Info|  c2|\n",
      "+------+----+----+----+----------+-----+------+----+\n",
      "\n"
     ]
    }
   ],
   "source": [
    "#Con l'outer join, invece, vengono mantenuti tutti i record\n",
    "#Quindi compare anche Alex\n",
    "students.join(exams, students.s_id == exams.s_id, how=\"outer\").join(courses, courses.c_id == exams.c_id, how=\"outer\").show()"
   ]
  },
  {
   "cell_type": "markdown",
   "metadata": {
    "id": "iXrZjCjBfePT"
   },
   "source": [
    "# Spark SQL\n",
    "\n",
    "Si possono registrare i dataframe come tabelle ed eseguire le operazioni direttamente in SQL.\n",
    "\n",
    "Proviamo a rifare le operazioni sulle canzoni con SQL.\n",
    "\n",
    "Registriamo il dataframe come tabella chiamata *songs*"
   ]
  },
  {
   "cell_type": "code",
   "execution_count": 27,
   "metadata": {
    "id": "0YJFXbJBlOXw"
   },
   "outputs": [],
   "source": [
    "df.createOrReplaceTempView(\"songs\")"
   ]
  },
  {
   "cell_type": "markdown",
   "metadata": {
    "id": "DJDwSDLWokY-"
   },
   "source": [
    "Ora possiamo interagire con la tabella usando direttamente l'SQL, quindi potremmo calcolare il numero di canzoni per anno"
   ]
  },
  {
   "cell_type": "code",
   "execution_count": 28,
   "metadata": {
    "colab": {
     "base_uri": "https://localhost:8080/"
    },
    "id": "6ud0wR0llmgf",
    "outputId": "e131621b-fc44-4f7d-cb90-cae30158c6e9"
   },
   "outputs": [
    {
     "name": "stdout",
     "output_type": "stream",
     "text": [
      "+----+-----------+\n",
      "|year|num_canzoni|\n",
      "+----+-----------+\n",
      "|2007|       1607|\n",
      "|2006|       1467|\n",
      "|2005|       1371|\n",
      "|2008|       1357|\n",
      "|2009|       1206|\n",
      "|2004|       1176|\n",
      "|2003|       1102|\n",
      "|2001|        896|\n",
      "|2002|        896|\n",
      "|1999|        695|\n",
      "|2000|        691|\n",
      "|1997|        599|\n",
      "|1996|        582|\n",
      "|1998|        566|\n",
      "|1995|        489|\n",
      "|1994|        458|\n",
      "|1993|        393|\n",
      "|2010|        382|\n",
      "|1992|        372|\n",
      "|1991|        342|\n",
      "+----+-----------+\n",
      "only showing top 20 rows\n",
      "\n"
     ]
    }
   ],
   "source": [
    "sqlContext.sql(\"SELECT year, COUNT(*) AS num_canzoni FROM songs WHERE year > 0 GROUP BY year ORDER BY num_canzoni DESC\").show()"
   ]
  },
  {
   "cell_type": "markdown",
   "metadata": {
    "id": "DxHXjyaLlsi_"
   },
   "source": [
    "Oppure convertire direttamente la durata da secondi a minuti"
   ]
  },
  {
   "cell_type": "code",
   "execution_count": 29,
   "metadata": {
    "colab": {
     "base_uri": "https://localhost:8080/"
    },
    "id": "EdQFoO5Sorxk",
    "outputId": "6e7f4a26-d155-470b-b9a0-172bd8933775"
   },
   "outputs": [
    {
     "name": "stdout",
     "output_type": "stream",
     "text": [
      "+---+--------------------+--------------------+--------------------+---------+------------------+-----------------+----+------------------+\n",
      "| id|               title|             release|         artist_name| duration|artist_familiarity|artist_hotttnesss|year|        durata_min|\n",
      "+---+--------------------+--------------------+--------------------+---------+------------------+-----------------+----+------------------+\n",
      "|  1|        Silent Night|Monster Ballads X...|    Faster Pussy cat|252.05506|    0.649822100201|   0.394031892714|2003| 4.200917666666666|\n",
      "|  2|         Tanssi vaan|         Karkuteillä|    Karkkiautomaatti|156.55138|    0.439603966677|   0.356992107756|1995|2.6091896666666665|\n",
      "|  3|   No One Could Ever|              Butter|      Hudson Mohawke|138.97098|    0.643680572058|   0.437503836595|2006|          2.316183|\n",
      "|  4|       Si Vos Querés|             De Culo|         Yerba Brava|145.05751|    0.448501159656|   0.372349068517|2003| 2.417625166666667|\n",
      "|  5|    Tangle Of Aspens|Rene Ablaze Prese...|          Der Mystic|514.29832|               0.0|              0.0|   0| 8.571638666666667|\n",
      "|  6|\"Symphony No. 1 G...|Berwald: Symphoni...|    David Montgomery|816.53506|    0.361286979628|   0.109625847059|   0|13.608917666666667|\n",
      "|  7|    We Have Got Love|Strictly The Best...|  Sasha / Turbulence|212.37506|    0.692922730576|   0.453731585999|   0| 3.539584333333333|\n",
      "|  8|   2 Da Beat Ch'yall|             Da Bomb|          Kris Kross|221.20444|    0.588156187675|   0.401092425177|1993|3.6867406666666667|\n",
      "|  9|             Goodbye|           Danny Boy|        Joseph Locke|139.17995|    0.408465463469|   0.285901196045|   0| 2.319665833333333|\n",
      "| 10|Mama_ mama can't ...|March to cadence ...|The Sun Harbor's ...|104.48934|     0.41994127477|    0.24913722954|   0|          1.741489|\n",
      "| 11|       L'antarctique|Des cobras des ta...|    3 Gars Su'l Sofa| 68.96281|    0.555013966104|   0.352948913868|2007|1.1493801666666668|\n",
      "| 12|  El hijo del pueblo|32 Grandes Éxitos...|       Jorge Negrete|168.22812|    0.541389764483|   0.369096249987|1997|2.8038019999999997|\n",
      "| 13|Cold Beer feat. P...|International Har...|        Danny Diablo|301.60934|    0.622005388118|   0.451578962861|   0| 5.026822333333333|\n",
      "| 14|              Pilots|           The Loyal|           Tiger Lou|318.45832|    0.621826485807|   0.406984727155|2005| 5.307638666666667|\n",
      "| 15|              N Gana|Afropea 3 - Telli...|     Waldemar Bastos|273.18812|    0.543689917453|   0.373679185802|   0|4.5531353333333335|\n",
      "| 16|                 006|          Lena 20 År|     Lena Philipsson|262.26893|    0.529819134567|   0.410228511159|1998| 4.371148833333334|\n",
      "| 17|(Looking For) The...|          Cover Girl|        Shawn Colvin|216.47628|    0.685502832087|    0.44673296759|1994|          3.607938|\n",
      "| 18|   Ethos of Coercion|Descend Into Depr...|         Dying Fetus| 196.0224|    0.734471413543|   0.511975832943|2009|           3.26704|\n",
      "| 19|         Rock-N-Rule|I'm Only A Man (B...|               Emery|217.57342|    0.738995906455|   0.563366896149|2007|3.6262236666666667|\n",
      "| 20|       La bola extra|       La bola extra|        Los Ronaldos|355.60444|    0.467144844943|   0.409127079449|   0| 5.926740666666666|\n",
      "+---+--------------------+--------------------+--------------------+---------+------------------+-----------------+----+------------------+\n",
      "only showing top 20 rows\n",
      "\n"
     ]
    }
   ],
   "source": [
    "sqlContext.sql(\"SELECT *, (duration/60) AS durata_min FROM songs\").show()"
   ]
  },
  {
   "cell_type": "markdown",
   "metadata": {
    "id": "M2B2MTHBpMCU"
   },
   "source": [
    "Si possono eseguire sub queries.\n",
    "\n",
    "Ad esempio, selezionare gli artisti che non hanno mai fatto una canzone più lunga di 500 secondi."
   ]
  },
  {
   "cell_type": "code",
   "execution_count": 30,
   "metadata": {
    "colab": {
     "base_uri": "https://localhost:8080/"
    },
    "id": "-iW9sRWCpKZ-",
    "outputId": "30d4abd6-6da2-4904-c03b-641cb9811970"
   },
   "outputs": [
    {
     "name": "stdout",
     "output_type": "stream",
     "text": [
      "+--------------------+\n",
      "|         artist_name|\n",
      "+--------------------+\n",
      "|         Finis Tasby|\n",
      "|       Rhian Sheehan|\n",
      "|        Boyd Tinsley|\n",
      "|Dashboard Confess...|\n",
      "|     Patrik Isaksson|\n",
      "|Natural Born Groo...|\n",
      "|        Yann Tiersen|\n",
      "|      ROBERT MIRABAL|\n",
      "|             Delfins|\n",
      "|          Jade Leary|\n",
      "|      The Bumblebeez|\n",
      "|        This Is Hell|\n",
      "|       Black Debbath|\n",
      "|    The Flower Kings|\n",
      "|     Big John Patton|\n",
      "|     Shannon McNally|\n",
      "|        Elvis Crespo|\n",
      "|          No Gravity|\n",
      "|          Leng Tch'e|\n",
      "|                  DZ|\n",
      "+--------------------+\n",
      "only showing top 20 rows\n",
      "\n"
     ]
    }
   ],
   "source": [
    "sqlContext.sql(\"SELECT DISTINCT artist_name FROM songs WHERE artist_name NOT IN (SELECT artist_name FROM songs WHERE duration > 500)\").show()"
   ]
  },
  {
   "cell_type": "markdown",
   "metadata": {
    "id": "d2ua_w0towQO"
   },
   "source": [
    "Si può anche registrare più tabelle ed eseguire il join tra di esse."
   ]
  },
  {
   "cell_type": "code",
   "execution_count": 31,
   "metadata": {
    "id": "Sif2ply9po7R"
   },
   "outputs": [],
   "source": [
    "students.createOrReplaceTempView(\"students\")\n",
    "courses.createOrReplaceTempView(\"courses\")\n",
    "exams.createOrReplaceTempView(\"exams\")"
   ]
  },
  {
   "cell_type": "code",
   "execution_count": 32,
   "metadata": {
    "colab": {
     "base_uri": "https://localhost:8080/"
    },
    "id": "hjYjjbEvp0eu",
    "outputId": "1b61a411-08e0-4087-e9d6-87f43e58cf29"
   },
   "outputs": [
    {
     "name": "stdout",
     "output_type": "stream",
     "text": [
      "+------+----+----+----+----------+-----+------+----+\n",
      "|s_name|s_id|c_id|s_id|      date|grade|c_name|c_id|\n",
      "+------+----+----+----+----------+-----+------+----+\n",
      "|   Bob|4561|  c1|4561|08/02/2018|   B+|  Math|  c1|\n",
      "|   Bob|4561|  c1|4561|10/01/2018|    C|  Math|  c1|\n",
      "| Alice|1231|  c1|1231|10/01/2018|    A|  Math|  c1|\n",
      "|   Sam|7893|  c2|7893|18/02/2018|    D|  Info|  c2|\n",
      "+------+----+----+----+----------+-----+------+----+\n",
      "\n"
     ]
    }
   ],
   "source": [
    "sqlContext.sql(\"SELECT * FROM students JOIN exams ON students.s_id = exams.s_id JOIN courses ON courses.c_id = exams.c_id\").show()"
   ]
  },
  {
   "cell_type": "markdown",
   "metadata": {
    "id": "3851ZBwfp3SU"
   },
   "source": [
    "# Pandas API on Spark\n",
    "Spark ha anche un'estensione che consente di utilizzare la maggior parte delle API di Pandas sui propri dataframe.\n",
    "\n",
    "Si può attivare importando *import pyspark.pandas as ps*\n",
    "\n",
    "Nota: potrebbe dare un errore dicendo che non trova np.NaN, questo dipende dalle versioni dei pacchetti installati su colab. Si può risolvere eseguendo la seguente cella che cambia la versione di numpy"
   ]
  },
  {
   "cell_type": "code",
   "execution_count": null,
   "metadata": {
    "collapsed": true,
    "id": "WG6TeKaustS5"
   },
   "outputs": [],
   "source": [
    "!pip uninstall numpy --y\n",
    "!pip install numpy==1.26.3"
   ]
  },
  {
   "cell_type": "code",
   "execution_count": 44,
   "metadata": {
    "id": "hkJMuVPQqKpb"
   },
   "outputs": [],
   "source": [
    "import pyspark.pandas as ps"
   ]
  },
  {
   "cell_type": "markdown",
   "metadata": {
    "id": "8Ct82ZE1u1LX"
   },
   "source": [
    "Una volta fatto questo, possiamo utilizzare *ps* al posto di *pd* e usare la libreria esattamente come se fosse Pandas."
   ]
  },
  {
   "cell_type": "code",
   "execution_count": 39,
   "metadata": {
    "id": "eaExlJ40qR4o"
   },
   "outputs": [],
   "source": [
    "df = ps.read_csv('msd.csv', index_col='id')\n",
    "df.head()"
   ]
  },
  {
   "cell_type": "markdown",
   "metadata": {
    "id": "6PLmMaFzuh_e"
   },
   "source": [
    "Selezionare i dati con l'anno maggiore di 0"
   ]
  },
  {
   "cell_type": "code",
   "execution_count": 52,
   "metadata": {
    "id": "tmDfnQ-pujN4"
   },
   "outputs": [],
   "source": [
    "df1 = df[df['year']>0]"
   ]
  },
  {
   "cell_type": "markdown",
   "metadata": {
    "id": "zsmSt4uTve0C"
   },
   "source": [
    "Calcolare il numero di canzoni per anno esattamente come faremmo con Pandas"
   ]
  },
  {
   "cell_type": "code",
   "execution_count": 53,
   "metadata": {
    "colab": {
     "base_uri": "https://localhost:8080/",
     "height": 237
    },
    "id": "POs2iug2vIw2",
    "outputId": "88cfb457-c772-48c1-c3f9-4ab587559e67"
   },
   "outputs": [
    {
     "data": {
      "text/html": [
       "<div>\n",
       "<style scoped>\n",
       "    .dataframe tbody tr th:only-of-type {\n",
       "        vertical-align: middle;\n",
       "    }\n",
       "\n",
       "    .dataframe tbody tr th {\n",
       "        vertical-align: top;\n",
       "    }\n",
       "\n",
       "    .dataframe thead th {\n",
       "        text-align: right;\n",
       "    }\n",
       "</style>\n",
       "<table border=\"1\" class=\"dataframe\">\n",
       "  <thead>\n",
       "    <tr style=\"text-align: right;\">\n",
       "      <th></th>\n",
       "      <th>title</th>\n",
       "    </tr>\n",
       "    <tr>\n",
       "      <th>year</th>\n",
       "      <th></th>\n",
       "    </tr>\n",
       "  </thead>\n",
       "  <tbody>\n",
       "    <tr>\n",
       "      <th>2007</th>\n",
       "      <td>1607</td>\n",
       "    </tr>\n",
       "    <tr>\n",
       "      <th>2006</th>\n",
       "      <td>1467</td>\n",
       "    </tr>\n",
       "    <tr>\n",
       "      <th>2005</th>\n",
       "      <td>1371</td>\n",
       "    </tr>\n",
       "    <tr>\n",
       "      <th>2008</th>\n",
       "      <td>1357</td>\n",
       "    </tr>\n",
       "    <tr>\n",
       "      <th>2009</th>\n",
       "      <td>1206</td>\n",
       "    </tr>\n",
       "  </tbody>\n",
       "</table>\n",
       "</div>"
      ],
      "text/plain": [
       "      title\n",
       "year       \n",
       "2007   1607\n",
       "2006   1467\n",
       "2005   1371\n",
       "2008   1357\n",
       "2009   1206"
      ]
     },
     "execution_count": 53,
     "metadata": {},
     "output_type": "execute_result"
    }
   ],
   "source": [
    "canzoni_anno = df1.groupby('year').agg({'title': 'count'}).sort_values(by='title', ascending=False)\n",
    "canzoni_anno.head()"
   ]
  },
  {
   "cell_type": "markdown",
   "metadata": {
    "id": "0pOUX7tnvmNK"
   },
   "source": [
    "Creare una visualizzazione dei dati"
   ]
  },
  {
   "cell_type": "code",
   "execution_count": 55,
   "metadata": {
    "colab": {
     "base_uri": "https://localhost:8080/",
     "height": 542
    },
    "id": "LursaEn7urJG",
    "outputId": "a2b8689f-0509-4769-f5ca-79f4e3772a57"
   },
   "outputs": [
    {
     "data": {
      "text/html": [
       "<html>\n",
       "<head><meta charset=\"utf-8\" /></head>\n",
       "<body>\n",
       "    <div>            <script src=\"https://cdnjs.cloudflare.com/ajax/libs/mathjax/2.7.5/MathJax.js?config=TeX-AMS-MML_SVG\"></script><script type=\"text/javascript\">if (window.MathJax && window.MathJax.Hub && window.MathJax.Hub.Config) {window.MathJax.Hub.Config({SVG: {font: \"STIX-Web\"}});}</script>                <script type=\"text/javascript\">window.PlotlyConfig = {MathJaxConfig: 'local'};</script>\n",
       "        <script charset=\"utf-8\" src=\"https://cdn.plot.ly/plotly-2.35.2.min.js\"></script>                <div id=\"99331146-1802-4755-bf22-3c5bca7e1c08\" class=\"plotly-graph-div\" style=\"height:525px; width:100%;\"></div>            <script type=\"text/javascript\">                                    window.PLOTLYENV=window.PLOTLYENV || {};                                    if (document.getElementById(\"99331146-1802-4755-bf22-3c5bca7e1c08\")) {                    Plotly.newPlot(                        \"99331146-1802-4755-bf22-3c5bca7e1c08\",                        [{\"alignmentgroup\":\"True\",\"hovertemplate\":\"variable=title\\u003cbr\\u003eyear=%{x}\\u003cbr\\u003evalue=%{y}\\u003cextra\\u003e\\u003c\\u002fextra\\u003e\",\"legendgroup\":\"title\",\"marker\":{\"color\":\"#636efa\",\"pattern\":{\"shape\":\"\"}},\"name\":\"title\",\"offsetgroup\":\"title\",\"orientation\":\"v\",\"showlegend\":true,\"textposition\":\"auto\",\"x\":[2007,2006,2005,2008,2009,2004,2003,2001,2002,1999,2000,1997,1996,1998,1995,1994,1993,2010,1992,1991,1990,1989,1988,1987,1986,1982,1985,1983,1984,1980,1981,1979,1978,1975,1973,1970,1974,1977,1972,1969,1968,1971,1976,1967,1966,1965,1963,1964,1957,1958,1959,1962,1961,1960,1956,1955,1954,1953,1929,1928,1950,1949,1945,1931,1939,1951,1947,1937,1922,1952,1934,1938,1932,1943,1926,1941,1935,1940,1948],\"xaxis\":\"x\",\"y\":[1607,1467,1371,1357,1206,1176,1102,896,896,695,691,599,582,566,489,458,393,382,372,342,261,230,200,187,176,137,136,129,129,128,124,114,111,109,99,98,88,87,86,85,84,83,81,80,61,45,41,33,24,22,21,21,19,17,15,8,7,6,5,5,4,3,3,3,2,2,2,2,1,1,1,1,1,1,1,1,1,1,1],\"yaxis\":\"y\",\"type\":\"bar\"}],                        {\"template\":{\"data\":{\"histogram2dcontour\":[{\"type\":\"histogram2dcontour\",\"colorbar\":{\"outlinewidth\":0,\"ticks\":\"\"},\"colorscale\":[[0.0,\"#0d0887\"],[0.1111111111111111,\"#46039f\"],[0.2222222222222222,\"#7201a8\"],[0.3333333333333333,\"#9c179e\"],[0.4444444444444444,\"#bd3786\"],[0.5555555555555556,\"#d8576b\"],[0.6666666666666666,\"#ed7953\"],[0.7777777777777778,\"#fb9f3a\"],[0.8888888888888888,\"#fdca26\"],[1.0,\"#f0f921\"]]}],\"choropleth\":[{\"type\":\"choropleth\",\"colorbar\":{\"outlinewidth\":0,\"ticks\":\"\"}}],\"histogram2d\":[{\"type\":\"histogram2d\",\"colorbar\":{\"outlinewidth\":0,\"ticks\":\"\"},\"colorscale\":[[0.0,\"#0d0887\"],[0.1111111111111111,\"#46039f\"],[0.2222222222222222,\"#7201a8\"],[0.3333333333333333,\"#9c179e\"],[0.4444444444444444,\"#bd3786\"],[0.5555555555555556,\"#d8576b\"],[0.6666666666666666,\"#ed7953\"],[0.7777777777777778,\"#fb9f3a\"],[0.8888888888888888,\"#fdca26\"],[1.0,\"#f0f921\"]]}],\"heatmap\":[{\"type\":\"heatmap\",\"colorbar\":{\"outlinewidth\":0,\"ticks\":\"\"},\"colorscale\":[[0.0,\"#0d0887\"],[0.1111111111111111,\"#46039f\"],[0.2222222222222222,\"#7201a8\"],[0.3333333333333333,\"#9c179e\"],[0.4444444444444444,\"#bd3786\"],[0.5555555555555556,\"#d8576b\"],[0.6666666666666666,\"#ed7953\"],[0.7777777777777778,\"#fb9f3a\"],[0.8888888888888888,\"#fdca26\"],[1.0,\"#f0f921\"]]}],\"heatmapgl\":[{\"type\":\"heatmapgl\",\"colorbar\":{\"outlinewidth\":0,\"ticks\":\"\"},\"colorscale\":[[0.0,\"#0d0887\"],[0.1111111111111111,\"#46039f\"],[0.2222222222222222,\"#7201a8\"],[0.3333333333333333,\"#9c179e\"],[0.4444444444444444,\"#bd3786\"],[0.5555555555555556,\"#d8576b\"],[0.6666666666666666,\"#ed7953\"],[0.7777777777777778,\"#fb9f3a\"],[0.8888888888888888,\"#fdca26\"],[1.0,\"#f0f921\"]]}],\"contourcarpet\":[{\"type\":\"contourcarpet\",\"colorbar\":{\"outlinewidth\":0,\"ticks\":\"\"}}],\"contour\":[{\"type\":\"contour\",\"colorbar\":{\"outlinewidth\":0,\"ticks\":\"\"},\"colorscale\":[[0.0,\"#0d0887\"],[0.1111111111111111,\"#46039f\"],[0.2222222222222222,\"#7201a8\"],[0.3333333333333333,\"#9c179e\"],[0.4444444444444444,\"#bd3786\"],[0.5555555555555556,\"#d8576b\"],[0.6666666666666666,\"#ed7953\"],[0.7777777777777778,\"#fb9f3a\"],[0.8888888888888888,\"#fdca26\"],[1.0,\"#f0f921\"]]}],\"surface\":[{\"type\":\"surface\",\"colorbar\":{\"outlinewidth\":0,\"ticks\":\"\"},\"colorscale\":[[0.0,\"#0d0887\"],[0.1111111111111111,\"#46039f\"],[0.2222222222222222,\"#7201a8\"],[0.3333333333333333,\"#9c179e\"],[0.4444444444444444,\"#bd3786\"],[0.5555555555555556,\"#d8576b\"],[0.6666666666666666,\"#ed7953\"],[0.7777777777777778,\"#fb9f3a\"],[0.8888888888888888,\"#fdca26\"],[1.0,\"#f0f921\"]]}],\"mesh3d\":[{\"type\":\"mesh3d\",\"colorbar\":{\"outlinewidth\":0,\"ticks\":\"\"}}],\"scatter\":[{\"fillpattern\":{\"fillmode\":\"overlay\",\"size\":10,\"solidity\":0.2},\"type\":\"scatter\"}],\"parcoords\":[{\"type\":\"parcoords\",\"line\":{\"colorbar\":{\"outlinewidth\":0,\"ticks\":\"\"}}}],\"scatterpolargl\":[{\"type\":\"scatterpolargl\",\"marker\":{\"colorbar\":{\"outlinewidth\":0,\"ticks\":\"\"}}}],\"bar\":[{\"error_x\":{\"color\":\"#2a3f5f\"},\"error_y\":{\"color\":\"#2a3f5f\"},\"marker\":{\"line\":{\"color\":\"#E5ECF6\",\"width\":0.5},\"pattern\":{\"fillmode\":\"overlay\",\"size\":10,\"solidity\":0.2}},\"type\":\"bar\"}],\"scattergeo\":[{\"type\":\"scattergeo\",\"marker\":{\"colorbar\":{\"outlinewidth\":0,\"ticks\":\"\"}}}],\"scatterpolar\":[{\"type\":\"scatterpolar\",\"marker\":{\"colorbar\":{\"outlinewidth\":0,\"ticks\":\"\"}}}],\"histogram\":[{\"marker\":{\"pattern\":{\"fillmode\":\"overlay\",\"size\":10,\"solidity\":0.2}},\"type\":\"histogram\"}],\"scattergl\":[{\"type\":\"scattergl\",\"marker\":{\"colorbar\":{\"outlinewidth\":0,\"ticks\":\"\"}}}],\"scatter3d\":[{\"type\":\"scatter3d\",\"line\":{\"colorbar\":{\"outlinewidth\":0,\"ticks\":\"\"}},\"marker\":{\"colorbar\":{\"outlinewidth\":0,\"ticks\":\"\"}}}],\"scattermapbox\":[{\"type\":\"scattermapbox\",\"marker\":{\"colorbar\":{\"outlinewidth\":0,\"ticks\":\"\"}}}],\"scatterternary\":[{\"type\":\"scatterternary\",\"marker\":{\"colorbar\":{\"outlinewidth\":0,\"ticks\":\"\"}}}],\"scattercarpet\":[{\"type\":\"scattercarpet\",\"marker\":{\"colorbar\":{\"outlinewidth\":0,\"ticks\":\"\"}}}],\"carpet\":[{\"aaxis\":{\"endlinecolor\":\"#2a3f5f\",\"gridcolor\":\"white\",\"linecolor\":\"white\",\"minorgridcolor\":\"white\",\"startlinecolor\":\"#2a3f5f\"},\"baxis\":{\"endlinecolor\":\"#2a3f5f\",\"gridcolor\":\"white\",\"linecolor\":\"white\",\"minorgridcolor\":\"white\",\"startlinecolor\":\"#2a3f5f\"},\"type\":\"carpet\"}],\"table\":[{\"cells\":{\"fill\":{\"color\":\"#EBF0F8\"},\"line\":{\"color\":\"white\"}},\"header\":{\"fill\":{\"color\":\"#C8D4E3\"},\"line\":{\"color\":\"white\"}},\"type\":\"table\"}],\"barpolar\":[{\"marker\":{\"line\":{\"color\":\"#E5ECF6\",\"width\":0.5},\"pattern\":{\"fillmode\":\"overlay\",\"size\":10,\"solidity\":0.2}},\"type\":\"barpolar\"}],\"pie\":[{\"automargin\":true,\"type\":\"pie\"}]},\"layout\":{\"autotypenumbers\":\"strict\",\"colorway\":[\"#636efa\",\"#EF553B\",\"#00cc96\",\"#ab63fa\",\"#FFA15A\",\"#19d3f3\",\"#FF6692\",\"#B6E880\",\"#FF97FF\",\"#FECB52\"],\"font\":{\"color\":\"#2a3f5f\"},\"hovermode\":\"closest\",\"hoverlabel\":{\"align\":\"left\"},\"paper_bgcolor\":\"white\",\"plot_bgcolor\":\"#E5ECF6\",\"polar\":{\"bgcolor\":\"#E5ECF6\",\"angularaxis\":{\"gridcolor\":\"white\",\"linecolor\":\"white\",\"ticks\":\"\"},\"radialaxis\":{\"gridcolor\":\"white\",\"linecolor\":\"white\",\"ticks\":\"\"}},\"ternary\":{\"bgcolor\":\"#E5ECF6\",\"aaxis\":{\"gridcolor\":\"white\",\"linecolor\":\"white\",\"ticks\":\"\"},\"baxis\":{\"gridcolor\":\"white\",\"linecolor\":\"white\",\"ticks\":\"\"},\"caxis\":{\"gridcolor\":\"white\",\"linecolor\":\"white\",\"ticks\":\"\"}},\"coloraxis\":{\"colorbar\":{\"outlinewidth\":0,\"ticks\":\"\"}},\"colorscale\":{\"sequential\":[[0.0,\"#0d0887\"],[0.1111111111111111,\"#46039f\"],[0.2222222222222222,\"#7201a8\"],[0.3333333333333333,\"#9c179e\"],[0.4444444444444444,\"#bd3786\"],[0.5555555555555556,\"#d8576b\"],[0.6666666666666666,\"#ed7953\"],[0.7777777777777778,\"#fb9f3a\"],[0.8888888888888888,\"#fdca26\"],[1.0,\"#f0f921\"]],\"sequentialminus\":[[0.0,\"#0d0887\"],[0.1111111111111111,\"#46039f\"],[0.2222222222222222,\"#7201a8\"],[0.3333333333333333,\"#9c179e\"],[0.4444444444444444,\"#bd3786\"],[0.5555555555555556,\"#d8576b\"],[0.6666666666666666,\"#ed7953\"],[0.7777777777777778,\"#fb9f3a\"],[0.8888888888888888,\"#fdca26\"],[1.0,\"#f0f921\"]],\"diverging\":[[0,\"#8e0152\"],[0.1,\"#c51b7d\"],[0.2,\"#de77ae\"],[0.3,\"#f1b6da\"],[0.4,\"#fde0ef\"],[0.5,\"#f7f7f7\"],[0.6,\"#e6f5d0\"],[0.7,\"#b8e186\"],[0.8,\"#7fbc41\"],[0.9,\"#4d9221\"],[1,\"#276419\"]]},\"xaxis\":{\"gridcolor\":\"white\",\"linecolor\":\"white\",\"ticks\":\"\",\"title\":{\"standoff\":15},\"zerolinecolor\":\"white\",\"automargin\":true,\"zerolinewidth\":2},\"yaxis\":{\"gridcolor\":\"white\",\"linecolor\":\"white\",\"ticks\":\"\",\"title\":{\"standoff\":15},\"zerolinecolor\":\"white\",\"automargin\":true,\"zerolinewidth\":2},\"scene\":{\"xaxis\":{\"backgroundcolor\":\"#E5ECF6\",\"gridcolor\":\"white\",\"linecolor\":\"white\",\"showbackground\":true,\"ticks\":\"\",\"zerolinecolor\":\"white\",\"gridwidth\":2},\"yaxis\":{\"backgroundcolor\":\"#E5ECF6\",\"gridcolor\":\"white\",\"linecolor\":\"white\",\"showbackground\":true,\"ticks\":\"\",\"zerolinecolor\":\"white\",\"gridwidth\":2},\"zaxis\":{\"backgroundcolor\":\"#E5ECF6\",\"gridcolor\":\"white\",\"linecolor\":\"white\",\"showbackground\":true,\"ticks\":\"\",\"zerolinecolor\":\"white\",\"gridwidth\":2}},\"shapedefaults\":{\"line\":{\"color\":\"#2a3f5f\"}},\"annotationdefaults\":{\"arrowcolor\":\"#2a3f5f\",\"arrowhead\":0,\"arrowwidth\":1},\"geo\":{\"bgcolor\":\"white\",\"landcolor\":\"#E5ECF6\",\"subunitcolor\":\"white\",\"showland\":true,\"showlakes\":true,\"lakecolor\":\"white\"},\"title\":{\"x\":0.05},\"mapbox\":{\"style\":\"light\"}}},\"xaxis\":{\"anchor\":\"y\",\"domain\":[0.0,1.0],\"title\":{\"text\":\"year\"}},\"yaxis\":{\"anchor\":\"x\",\"domain\":[0.0,1.0],\"title\":{\"text\":\"value\"}},\"legend\":{\"title\":{\"text\":\"variable\"},\"tracegroupgap\":0},\"margin\":{\"t\":60},\"barmode\":\"relative\"},                        {\"responsive\": true}                    ).then(function(){\n",
       "                            \n",
       "var gd = document.getElementById('99331146-1802-4755-bf22-3c5bca7e1c08');\n",
       "var x = new MutationObserver(function (mutations, observer) {{\n",
       "        var display = window.getComputedStyle(gd).display;\n",
       "        if (!display || display === 'none') {{\n",
       "            console.log([gd, 'removed!']);\n",
       "            Plotly.purge(gd);\n",
       "            observer.disconnect();\n",
       "        }}\n",
       "}});\n",
       "\n",
       "// Listen for the removal of the full notebook cells\n",
       "var notebookContainer = gd.closest('#notebook-container');\n",
       "if (notebookContainer) {{\n",
       "    x.observe(notebookContainer, {childList: true});\n",
       "}}\n",
       "\n",
       "// Listen for the clearing of the current output cell\n",
       "var outputEl = gd.closest('.output');\n",
       "if (outputEl) {{\n",
       "    x.observe(outputEl, {childList: true});\n",
       "}}\n",
       "\n",
       "                        })                };                            </script>        </div>\n",
       "</body>\n",
       "</html>"
      ]
     },
     "metadata": {},
     "output_type": "display_data"
    }
   ],
   "source": [
    "canzoni_anno.plot(kind='bar')"
   ]
  },
  {
   "cell_type": "code",
   "execution_count": null,
   "metadata": {
    "id": "iIkxUCHsvtbK"
   },
   "outputs": [],
   "source": []
  }
 ],
 "metadata": {
  "colab": {
   "provenance": []
  },
  "kernelspec": {
   "display_name": "Python 3 (ipykernel)",
   "language": "python",
   "name": "python3"
  },
  "language_info": {
   "codemirror_mode": {
    "name": "ipython",
    "version": 3
   },
   "file_extension": ".py",
   "mimetype": "text/x-python",
   "name": "python",
   "nbconvert_exporter": "python",
   "pygments_lexer": "ipython3",
   "version": "3.9.12"
  }
 },
 "nbformat": 4,
 "nbformat_minor": 1
}
