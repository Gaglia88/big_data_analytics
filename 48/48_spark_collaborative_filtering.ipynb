{
  "cells": [
    {
      "cell_type": "markdown",
      "metadata": {
        "id": "_xxsqygcYlmh"
      },
      "source": [
        "# Collaborative filtering\n",
        "Possiamo scaricare i dataset da Kaggle utilizzando la libreria opendatasets.\n",
        "Il metodo od.download consente di scaricare un dataset utilizzando l'url della pagina di Kaggle.\n",
        "\n",
        "Viene richiesto di inserire il proprio username e un'API key.\n",
        "\n",
        "L'API key può essere generata andando nel proprio profilo (icona in alto a destra della pagina), cliccando poi su settings e infine su create new token.\n",
        "\n",
        "Scaricherà un file json che può essere aperto con blocco note contenente le credenziali."
      ]
    },
    {
      "cell_type": "code",
      "execution_count": 1,
      "metadata": {
        "colab": {
          "base_uri": "https://localhost:8080/"
        },
        "id": "lEyxXoUBO9Xn",
        "outputId": "8c5492d6-e2f0-4563-e176-d95d8cb830a4"
      },
      "outputs": [
        {
          "output_type": "stream",
          "name": "stdout",
          "text": [
            "Please provide your Kaggle credentials to download this dataset. Learn more: http://bit.ly/kaggle-creds\n",
            "Your Kaggle username: lucagagliardelli\n",
            "Your Kaggle Key: ··········\n",
            "Dataset URL: https://www.kaggle.com/datasets/parasharmanas/movie-recommendation-system\n",
            "Downloading movie-recommendation-system.zip to ./movie-recommendation-system\n"
          ]
        },
        {
          "output_type": "stream",
          "name": "stderr",
          "text": [
            "100%|██████████| 165M/165M [00:00<00:00, 1.61GB/s]"
          ]
        },
        {
          "output_type": "stream",
          "name": "stdout",
          "text": [
            "\n"
          ]
        },
        {
          "output_type": "stream",
          "name": "stderr",
          "text": [
            "\n"
          ]
        }
      ],
      "source": [
        "!pip install opendatasets -q\n",
        "\n",
        "import opendatasets as od\n",
        "od.download(\"https://www.kaggle.com/datasets/parasharmanas/movie-recommendation-system\")"
      ]
    },
    {
      "cell_type": "markdown",
      "metadata": {
        "id": "pPvqwBWgZKFV"
      },
      "source": [
        "Avviamo la sessione di Spark"
      ]
    },
    {
      "cell_type": "code",
      "execution_count": 1,
      "metadata": {
        "id": "yYXDUi5p9Def"
      },
      "outputs": [],
      "source": [
        "# Installa le due librerie\n",
        "!pip install pyspark -q\n",
        "!pip install findspark -q\n",
        "\n",
        "# Importa spark e findspark\n",
        "import pyspark\n",
        "import findspark\n",
        "findspark.init()\n",
        "\n",
        "# Definisce l'sqlContext\n",
        "from pyspark.sql import SparkSession\n",
        "\n",
        "# Imposta la memoria utilizzabile da Spark a 12GB che è il massimo disponibile in Colab\n",
        "sqlContext = SparkSession.builder\\\n",
        "            .config(\"spark.driver.memory\", \"2g\")\\\n",
        "            .config(\"spark.executor.memory\", \"5g\")\\\n",
        "            .config(\"spark.executor.instances\", \"2\")\\\n",
        "            .config(\"spark.kryoserializer.buffer.max\", \"128m\").getOrCreate()"
      ]
    },
    {
      "cell_type": "markdown",
      "metadata": {
        "id": "83HVdX6nZNLe"
      },
      "source": [
        "Importiamo le librerie necessarie"
      ]
    },
    {
      "cell_type": "code",
      "execution_count": 2,
      "metadata": {
        "id": "YF_pRbuY9E3A"
      },
      "outputs": [],
      "source": [
        "from pyspark.ml.evaluation import RegressionEvaluator\n",
        "from pyspark.ml.recommendation import ALS\n",
        "from pyspark.ml.feature import StringIndexer"
      ]
    },
    {
      "cell_type": "markdown",
      "metadata": {
        "id": "gWNpGQV7ZSYu"
      },
      "source": [
        "Carichiamo i dati scaricati da Kaggle."
      ]
    },
    {
      "cell_type": "code",
      "execution_count": 3,
      "metadata": {
        "colab": {
          "base_uri": "https://localhost:8080/"
        },
        "id": "7Z2wXsBh9GHe",
        "outputId": "3ca6c574-cafc-48a9-a7ac-22c2c00fd9cd"
      },
      "outputs": [
        {
          "output_type": "stream",
          "name": "stdout",
          "text": [
            "+------+-------+------+----------+\n",
            "|userId|movieId|rating| timestamp|\n",
            "+------+-------+------+----------+\n",
            "|     1|    296|   5.0|1147880044|\n",
            "|     1|    306|   3.5|1147868817|\n",
            "|     1|    307|   5.0|1147868828|\n",
            "|     1|    665|   5.0|1147878820|\n",
            "|     1|    899|   3.5|1147868510|\n",
            "|     1|   1088|   4.0|1147868495|\n",
            "|     1|   1175|   3.5|1147868826|\n",
            "|     1|   1217|   3.5|1147878326|\n",
            "|     1|   1237|   5.0|1147868839|\n",
            "|     1|   1250|   4.0|1147868414|\n",
            "+------+-------+------+----------+\n",
            "only showing top 10 rows\n",
            "\n"
          ]
        }
      ],
      "source": [
        "ratings = sqlContext.read.option(\"header\", True).option(\"inferSchema\", True).csv(\"/content/movie-recommendation-system/ratings.csv\")\n",
        "ratings.show(10)"
      ]
    },
    {
      "cell_type": "markdown",
      "metadata": {
        "id": "ZCHyFyVZicv7"
      },
      "source": [
        "Visualizziamo lo schema e il numero di record"
      ]
    },
    {
      "cell_type": "code",
      "execution_count": 6,
      "metadata": {
        "colab": {
          "base_uri": "https://localhost:8080/"
        },
        "id": "S3x3EvizQmre",
        "outputId": "7d4825a8-cae0-4c95-e31f-bed0b966de82"
      },
      "outputs": [
        {
          "output_type": "stream",
          "name": "stdout",
          "text": [
            "root\n",
            " |-- userId: integer (nullable = true)\n",
            " |-- movieId: integer (nullable = true)\n",
            " |-- rating: double (nullable = true)\n",
            " |-- timestamp: integer (nullable = true)\n",
            "\n"
          ]
        }
      ],
      "source": [
        "ratings.printSchema()"
      ]
    },
    {
      "cell_type": "code",
      "source": [
        "ratings.describe().show()"
      ],
      "metadata": {
        "colab": {
          "base_uri": "https://localhost:8080/"
        },
        "id": "7SAmYo6epmt-",
        "outputId": "8cfdf42c-4d76-4ef3-ec59-c62479e7ad4c"
      },
      "execution_count": 7,
      "outputs": [
        {
          "output_type": "stream",
          "name": "stdout",
          "text": [
            "+-------+-----------------+------------------+------------------+--------------------+\n",
            "|summary|           userId|           movieId|            rating|           timestamp|\n",
            "+-------+-----------------+------------------+------------------+--------------------+\n",
            "|  count|         25000095|          25000095|          25000095|            25000095|\n",
            "|   mean|81189.28115381162|21387.981943268616| 3.533854451353085|1.2156014431215513E9|\n",
            "| stddev|46791.71589745776| 39198.86210105973|1.0607439611423535| 2.268758080595386E8|\n",
            "|    min|                1|                 1|               0.5|           789652009|\n",
            "|    max|           162541|            209171|               5.0|          1574327703|\n",
            "+-------+-----------------+------------------+------------------+--------------------+\n",
            "\n"
          ]
        }
      ]
    },
    {
      "cell_type": "code",
      "execution_count": 5,
      "metadata": {
        "colab": {
          "base_uri": "https://localhost:8080/"
        },
        "id": "zcwBrn4iWZiX",
        "outputId": "04d110a9-63b3-4c99-a7c6-f0f36824c481"
      },
      "outputs": [
        {
          "output_type": "execute_result",
          "data": {
            "text/plain": [
              "25000095"
            ]
          },
          "metadata": {},
          "execution_count": 5
        }
      ],
      "source": [
        "ratings.count()"
      ]
    },
    {
      "cell_type": "markdown",
      "metadata": {
        "id": "mDGojLXMihg0"
      },
      "source": [
        "I dati sono troppi per essere gestiti su Google Colab.\n",
        "Teniamo i dati solo dei primi 150 utenti giusto per fare un'esempio."
      ]
    },
    {
      "cell_type": "code",
      "execution_count": null,
      "metadata": {
        "colab": {
          "base_uri": "https://localhost:8080/"
        },
        "id": "rV0k028SWxHI",
        "outputId": "57fe99ca-2e38-4a0b-ef98-d672677f1588"
      },
      "outputs": [
        {
          "data": {
            "text/plain": [
              "18262"
            ]
          },
          "execution_count": 11,
          "metadata": {},
          "output_type": "execute_result"
        }
      ],
      "source": [
        "ratings = ratings.where(ratings.userId <= 150)\n",
        "\n",
        "ratings.count()"
      ]
    },
    {
      "cell_type": "markdown",
      "metadata": {
        "id": "Xj4lvO6Pi9Ss"
      },
      "source": [
        "Ora dividiamo i dati in training e test e alleniamo il modello"
      ]
    },
    {
      "cell_type": "code",
      "execution_count": null,
      "metadata": {
        "id": "7K8-29W2Pbzl"
      },
      "outputs": [],
      "source": [
        "(training, test) = ratings.randomSplit([0.8, 0.2])\n",
        "\n",
        "als = ALS(maxIter=5, regParam=0.01, userCol=\"userId\", itemCol=\"movieId\",\n",
        "          ratingCol=\"rating\",\n",
        "          coldStartStrategy=\"drop\")\n",
        "\n",
        "model = als.fit(training)"
      ]
    },
    {
      "cell_type": "markdown",
      "metadata": {
        "id": "L8hdr8s7jQS0"
      },
      "source": [
        "Valutiamo il modello sui dati di test e vediamo l'errore quadratico medio.\n",
        "\n",
        "Non è bassissimo, bisogna considerare che i voti vanno da 0 a 5 e l'errore medio è 1.7"
      ]
    },
    {
      "cell_type": "code",
      "execution_count": null,
      "metadata": {
        "colab": {
          "base_uri": "https://localhost:8080/"
        },
        "id": "4mRRw8zzbJSF",
        "outputId": "c47cda8d-7d91-40f5-d5c5-ca1fe6d1dcf1"
      },
      "outputs": [
        {
          "name": "stdout",
          "output_type": "stream",
          "text": [
            "Root-mean-square error = 1.7461987538672745\n"
          ]
        }
      ],
      "source": [
        "predictions = model.transform(test)\n",
        "evaluator = RegressionEvaluator(metricName=\"rmse\", labelCol=\"rating\",\n",
        "                                predictionCol=\"prediction\")\n",
        "rmse = evaluator.evaluate(predictions)\n",
        "print(\"Root-mean-square error = \" + str(rmse))"
      ]
    },
    {
      "cell_type": "markdown",
      "metadata": {
        "id": "ZByJprjpjlAp"
      },
      "source": [
        "Ora è possibile fare varie predizioni utilizzando il modello.\n",
        "\n",
        "Si può prevedere il miglior film da consigliare ad ogni utente. Tra tutti quelli che l'utente non ha giudicato, ritorna i primi N (sulla base del valore fornito) con il voto calcolato più alto.\n",
        "\n",
        "Modello user-based."
      ]
    },
    {
      "cell_type": "code",
      "execution_count": null,
      "metadata": {
        "colab": {
          "base_uri": "https://localhost:8080/"
        },
        "id": "1jx2XWQYj1-i",
        "outputId": "a668b6c2-bb4d-4938-b745-420259641e91"
      },
      "outputs": [
        {
          "name": "stdout",
          "output_type": "stream",
          "text": [
            "+------+--------------------+\n",
            "|userId|     recommendations|\n",
            "+------+--------------------+\n",
            "|     1|[{72226, 6.4924927}]|\n",
            "|     2| [{8784, 6.3909955}]|\n",
            "|     3|  [{3421, 6.092199}]|\n",
            "|     4|  [{1407, 5.701938}]|\n",
            "|     5|   [{30749, 6.2793}]|\n",
            "|     6| [{1278, 6.7345967}]|\n",
            "|     7|[{31658, 6.5279164}]|\n",
            "|     8|  [{1243, 6.987815}]|\n",
            "|     9|[{115569, 6.480059}]|\n",
            "|    10| [{3421, 6.6807785}]|\n",
            "|    11|  [{2804, 8.241351}]|\n",
            "|    12| [{2572, 5.9282928}]|\n",
            "|    13| [{2019, 5.9035463}]|\n",
            "|    14|   [{265, 8.485392}]|\n",
            "|    15| [{6016, 7.2264376}]|\n",
            "|    16|  [{912, 6.5533547}]|\n",
            "|    17|  [{509, 5.2396007}]|\n",
            "|    18| [{81591, 5.676386}]|\n",
            "|    19|  [{246, 6.5038114}]|\n",
            "|    20|[{122904, 6.820263}]|\n",
            "+------+--------------------+\n",
            "only showing top 20 rows\n",
            "\n"
          ]
        }
      ],
      "source": [
        "# Il parametro dice il numero di film da ritornare\n",
        "userRecs = model.recommendForAllUsers(1)\n",
        "userRecs.show()"
      ]
    },
    {
      "cell_type": "markdown",
      "metadata": {
        "id": "jWuGq6Zfk5TJ"
      },
      "source": [
        "Oppure per ogni film scegliere l'utente a cui consigliarlo.\n",
        "\n",
        "Modello item-based."
      ]
    },
    {
      "cell_type": "code",
      "execution_count": null,
      "metadata": {
        "colab": {
          "base_uri": "https://localhost:8080/"
        },
        "id": "7qr2w9uwk0SN",
        "outputId": "7af2a5a4-ed9e-40e8-ac28-f3504957201a"
      },
      "outputs": [
        {
          "name": "stdout",
          "output_type": "stream",
          "text": [
            "+-------+------------------+\n",
            "|movieId|   recommendations|\n",
            "+-------+------------------+\n",
            "|      1|  [{49, 7.003292}]|\n",
            "|      3|  [{56, 8.155155}]|\n",
            "|      5|  [{22, 6.075884}]|\n",
            "|      6| [{143, 5.986134}]|\n",
            "|      9|  [{54, 4.955309}]|\n",
            "|     16| [{32, 6.6986012}]|\n",
            "|     17|  [{22, 7.629116}]|\n",
            "|     19|  [{56, 5.877934}]|\n",
            "|     20|[{127, 1.1382544}]|\n",
            "|     22| [{127, 5.213947}]|\n",
            "|     26| [{32, 3.7949572}]|\n",
            "|     27|  [{8, 3.1816194}]|\n",
            "|     28| [{127, 7.084346}]|\n",
            "|     31|  [{56, 6.426809}]|\n",
            "|     34| [{49, 7.3857627}]|\n",
            "|     35| [{56, 4.1258173}]|\n",
            "|     40| [{54, 4.4710474}]|\n",
            "|     44|  [{54, 4.625162}]|\n",
            "|     47| [{129, 7.248899}]|\n",
            "|     48| [{135, 6.855863}]|\n",
            "+-------+------------------+\n",
            "only showing top 20 rows\n",
            "\n"
          ]
        }
      ],
      "source": [
        "# Il parametro dice il numero di utenti da ritornare\n",
        "movieRecs = model.recommendForAllItems(1)\n",
        "movieRecs.show()"
      ]
    },
    {
      "cell_type": "markdown",
      "metadata": {
        "id": "WjrlfnusljUw"
      },
      "source": [
        "è possibile fare predizioni per utenti specifici.\n",
        "\n",
        "Ad esempio, consigliamo 10 film all'utente con id=1"
      ]
    },
    {
      "cell_type": "code",
      "execution_count": null,
      "metadata": {
        "colab": {
          "base_uri": "https://localhost:8080/"
        },
        "id": "HeG6BCBGlnMM",
        "outputId": "0c745c55-eaca-4ed7-eb31-0ba80680c876"
      },
      "outputs": [
        {
          "name": "stdout",
          "output_type": "stream",
          "text": [
            "+------+--------------------+\n",
            "|userId|     recommendations|\n",
            "+------+--------------------+\n",
            "|     1|[{72226, 6.492492...|\n",
            "+------+--------------------+\n",
            "\n"
          ]
        }
      ],
      "source": [
        "users = ratings.select(als.getUserCol()).where(ratings.userId == 1)\n",
        "userSubsetRecs = model.recommendForUserSubset(users, 10)\n",
        "userSubsetRecs.show()"
      ]
    },
    {
      "cell_type": "markdown",
      "metadata": {
        "id": "BId-louylusT"
      },
      "source": [
        "Stessa cosa può essere fatta con i film"
      ]
    },
    {
      "cell_type": "code",
      "execution_count": null,
      "metadata": {
        "colab": {
          "base_uri": "https://localhost:8080/"
        },
        "id": "NBNwI4Dml4Mp",
        "outputId": "f7a49ed1-ce6f-43e5-f733-200be2f1fd09"
      },
      "outputs": [
        {
          "name": "stdout",
          "output_type": "stream",
          "text": [
            "+-------+--------------------+\n",
            "|movieId|     recommendations|\n",
            "+-------+--------------------+\n",
            "|      1|[{49, 7.003292}, ...|\n",
            "+-------+--------------------+\n",
            "\n"
          ]
        }
      ],
      "source": [
        "movies = ratings.select(als.getItemCol()).where(ratings.movieId == 1)\n",
        "movieSubSetRecs = model.recommendForItemSubset(movies, 10)\n",
        "movieSubSetRecs.show()"
      ]
    },
    {
      "cell_type": "markdown",
      "metadata": {
        "id": "fMlB6qoLmQLR"
      },
      "source": [
        "Possiamo visualizzare i titoli dei film consigliati."
      ]
    },
    {
      "cell_type": "code",
      "execution_count": null,
      "metadata": {
        "colab": {
          "base_uri": "https://localhost:8080/"
        },
        "id": "neiC623BmSnZ",
        "outputId": "d8357b79-d379-4790-8a83-6f49ca2ce0e5"
      },
      "outputs": [
        {
          "name": "stdout",
          "output_type": "stream",
          "text": [
            "+-------+------+---------+--------------------------------------------------+--------------------------------------------------+\n",
            "|movieId|userId|rating   |title                                             |genres                                            |\n",
            "+-------+------+---------+--------------------------------------------------+--------------------------------------------------+\n",
            "|72226  |1     |6.4924927|Fantastic Mr. Fox (2009)                          |Adventure|Animation|Children|Comedy|Crime         |\n",
            "|31658  |1     |6.2336073|Howl's Moving Castle (Hauru no ugoku shiro) (2004)|Adventure|Animation|Fantasy|Romance               |\n",
            "|109487 |1     |5.75041  |Interstellar (2014)                               |Sci-Fi|IMAX                                       |\n",
            "|741    |1     |5.623687 |Ghost in the Shell (Kôkaku kidôtai) (1995)        |Animation|Sci-Fi                                  |\n",
            "|108932 |1     |5.619531 |The Lego Movie (2014)                             |Action|Adventure|Animation|Children|Comedy|Fantasy|\n",
            "|7444   |1     |5.5980353|13 Going on 30 (2004)                             |Comedy|Fantasy|Romance                            |\n",
            "|2761   |1     |5.5436683|Iron Giant, The (1999)                            |Adventure|Animation|Children|Drama|Sci-Fi         |\n",
            "|97225  |1     |5.542249 |Hotel Transylvania (2012)                         |Animation|Children|Comedy                         |\n",
            "|1073   |1     |5.5238175|Willy Wonka & the Chocolate Factory (1971)        |Children|Comedy|Fantasy|Musical                   |\n",
            "|92259  |1     |5.5186253|Intouchables (2011)                               |Comedy|Drama                                      |\n",
            "+-------+------+---------+--------------------------------------------------+--------------------------------------------------+\n",
            "\n"
          ]
        }
      ],
      "source": [
        "from pyspark.sql.functions import explode, col\n",
        "\n",
        "hints = userSubsetRecs\\\n",
        ".select(userSubsetRecs.userId, explode(userSubsetRecs.recommendations).alias('rec'))\\\n",
        ".select(col('userId'), col(\"rec.movieId\"), col(\"rec.rating\"))\n",
        "\n",
        "movies = sqlContext.read.option(\"header\", True).option(\"inferSchema\", True).csv(\"/content/movie-recommendation-system/movies.csv\")\n",
        "\n",
        "join = hints.join(movies, on=\"movieId\")\n",
        "join.show(truncate=False)"
      ]
    },
    {
      "cell_type": "code",
      "execution_count": null,
      "metadata": {
        "id": "U2aBvXM6oXBB"
      },
      "outputs": [],
      "source": []
    }
  ],
  "metadata": {
    "colab": {
      "provenance": []
    },
    "kernelspec": {
      "display_name": "Python 3 (ipykernel)",
      "language": "python",
      "name": "python3"
    },
    "language_info": {
      "codemirror_mode": {
        "name": "ipython",
        "version": 3
      },
      "file_extension": ".py",
      "mimetype": "text/x-python",
      "name": "python",
      "nbconvert_exporter": "python",
      "pygments_lexer": "ipython3",
      "version": "3.9.12"
    }
  },
  "nbformat": 4,
  "nbformat_minor": 0
}