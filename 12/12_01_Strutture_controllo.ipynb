{
  "nbformat": 4,
  "nbformat_minor": 0,
  "metadata": {
    "colab": {
      "provenance": []
    },
    "kernelspec": {
      "name": "python3",
      "display_name": "Python 3"
    },
    "language_info": {
      "name": "python"
    }
  },
  "cells": [
    {
      "cell_type": "markdown",
      "source": [
        "# Strutture di controllo\n",
        "Le strutture di controllo consentono di definire quando e quante volte deve essere eseguito un blocco di istruzioni.\n",
        "\n",
        "## If-elif-else\n",
        "In Python per decidere se eseguire un blocco di istruzioni o meno è disponibile solo il costrutto if-else come in altri linguaggi. Non esiste però il costrutto switch/case, presente ad esempio C/C++/Java.\n",
        "La sintassi è:\n",
        "```\n",
        "if <condizione booleana>:\n",
        "   <blocco di codice>\n",
        "elif <condizione booleana>:\n",
        "   <blocco di codice>\n",
        "elif <condizione booleana>:\n",
        "   <blocco di codice>\n",
        "…\n",
        "else:\n",
        "   <blocco di codice>\n",
        "```\n",
        "\n",
        "\n",
        "L'if consente di valutare un'espressione booleana (che ritorna solo vero o falso) e di eseguire un blocco di codice se questa è vera.\n",
        "L'espressione booleana può utilizzare gli operatori di confronto elencati:\n",
        "\n",
        "==\tUguaglianza\n",
        "\n",
        "!=\tDiverso\n",
        "\n",
        "\\>\tMaggiore\n",
        "\n",
        "\\>=\tMaggiore o uguale\n",
        "\n",
        "<\tMinore\n",
        "\n",
        "<=\tMinore o uguale\n",
        "\n",
        "===\tUguaglianza stretta, è vera se due variabili hanno stesso valore e stesso tipo di dato\n",
        "\n",
        "*in*\tControlla se un valore esiste all'interno di un elemento iterabile (tupla, lista, set)\n",
        "\n",
        "Più istruzioni semplici possono essere combinate con *and*, *or* e negate con *not*\n",
        "\n",
        "\n",
        "È possibile verificare più condizioni usando elif, ad esempio nel codice sotto se a > 0 allora esegue il primo blocco di codice, se a \\< 0 esegue il secondo, altrimenti esegue l'ultimo.\n",
        "\n",
        "Notare come un blocco di codice sia sempre rappresentato tramite indentazione."
      ],
      "metadata": {
        "id": "o7aLbqqFZStI"
      }
    },
    {
      "cell_type": "code",
      "source": [
        "a = input(\"Inserire un numero intero \")\n",
        "a = int(a)\n",
        "\n",
        "if a>0:\n",
        "    print('Numero maggiore di zero')\n",
        "elif a<0:\n",
        "    print('Numero minore di zero')\n",
        "else:\n",
        "   print('Il numero è zero')"
      ],
      "metadata": {
        "colab": {
          "base_uri": "https://localhost:8080/"
        },
        "id": "M_fBqVgnZZxO",
        "outputId": "d15ddbf7-91b8-4804-bcef-ac0f7c6adc17"
      },
      "execution_count": 4,
      "outputs": [
        {
          "output_type": "stream",
          "name": "stdout",
          "text": [
            "Inserire un numero intero 0\n",
            "Il numero è zero\n"
          ]
        }
      ]
    },
    {
      "cell_type": "markdown",
      "source": [
        "elif e else sono opzionali, si potrebbe anche usare solo l'if da solo.\n",
        "\n",
        "Ad esempio, l'operatore % esegue il modulo restituendo il resto della divisione.\n"
      ],
      "metadata": {
        "id": "ckBe3SnFaZi5"
      }
    },
    {
      "cell_type": "code",
      "source": [
        "a = input(\"Inserire un numero intero \")\n",
        "a = int(a)\n",
        "\n",
        "if a%2 == 0:\n",
        "    print('Il numero è pari')\n"
      ],
      "metadata": {
        "colab": {
          "base_uri": "https://localhost:8080/"
        },
        "id": "Js7dzg9TasEq",
        "outputId": "dffe6061-51d7-4065-fba3-5f6c7491290d"
      },
      "execution_count": 6,
      "outputs": [
        {
          "name": "stdout",
          "output_type": "stream",
          "text": [
            "Inserire un numero intero 5\n"
          ]
        }
      ]
    },
    {
      "cell_type": "markdown",
      "source": [
        "In Python è anche possibile scrivere espressioni condizionali su una singola linea. La sintassi è: `<risultato se vero> if <condizione booleana> else <risultato se falso>`"
      ],
      "metadata": {
        "id": "WN14Pb4-awqN"
      }
    },
    {
      "cell_type": "code",
      "source": [
        "valore = 80\n",
        "stato = \"acceso\" if valore > 50 else \"spento\"\n",
        "print(stato) # Visualizza acceso"
      ],
      "metadata": {
        "colab": {
          "base_uri": "https://localhost:8080/"
        },
        "id": "zsMX5m_Oa-nv",
        "outputId": "7f9dc6e6-1235-453e-d12b-a488c57e85ad"
      },
      "execution_count": 7,
      "outputs": [
        {
          "output_type": "stream",
          "name": "stdout",
          "text": [
            "acceso\n"
          ]
        }
      ]
    },
    {
      "cell_type": "markdown",
      "source": [
        "## Costrutto while\n",
        "Il costrutto while consente di ripetere un blocco di istruzioni sulla base di una condizione booleana fino a ché questa è vera.\n",
        "\n",
        "La sintassi è:\n",
        "```\n",
        "while <condizione>:\n",
        "   <blocco di codice>\n",
        "```"
      ],
      "metadata": {
        "id": "ijYQGNLabBgA"
      }
    },
    {
      "cell_type": "code",
      "source": [
        "i = 0\n",
        "while i < 10: #Ripeti il ciclo fino a ché i è minore di 10\n",
        "   print(i)\n",
        "   i+=1 # Incrementa i di 1"
      ],
      "metadata": {
        "colab": {
          "base_uri": "https://localhost:8080/"
        },
        "id": "yKxmWJXhbKLO",
        "outputId": "ae896d08-29ce-4e68-a21b-6ffc25ccbd12"
      },
      "execution_count": 9,
      "outputs": [
        {
          "output_type": "stream",
          "name": "stdout",
          "text": [
            "0\n",
            "1\n",
            "2\n",
            "3\n",
            "4\n",
            "5\n",
            "6\n",
            "7\n",
            "8\n",
            "9\n"
          ]
        }
      ]
    },
    {
      "cell_type": "markdown",
      "source": [
        "## Costrutto for\n",
        "In Python il costrutto for è utilizzato per scorrere le collezioni di elementi, quindi set, liste, stringhe (sono collezioni di caratteri), tuple, dizionari, range.\n",
        "\n",
        "La sintassi è:\n",
        "```\n",
        "for <variabile> in <collezione>:\n",
        "    <blocco di codice>\n",
        "```"
      ],
      "metadata": {
        "id": "Yx6gzyBObOIW"
      }
    },
    {
      "cell_type": "code",
      "source": [
        "nome = \"mario\"\n",
        "for c in nome: # Visualizza m a r i o\n",
        "   print(c)"
      ],
      "metadata": {
        "colab": {
          "base_uri": "https://localhost:8080/"
        },
        "id": "3s4zbv1XbYUG",
        "outputId": "f258737b-967d-4eda-d171-acb459d818e8"
      },
      "execution_count": 10,
      "outputs": [
        {
          "output_type": "stream",
          "name": "stdout",
          "text": [
            "m\n",
            "a\n",
            "r\n",
            "i\n",
            "o\n"
          ]
        }
      ]
    },
    {
      "cell_type": "code",
      "source": [
        "elenco = [1, 2, 3]\n",
        "for el in elenco: # Visualizza 1, 2, 3\n",
        "   print(el)"
      ],
      "metadata": {
        "colab": {
          "base_uri": "https://localhost:8080/"
        },
        "id": "7cTkfKe1bbM7",
        "outputId": "9f1c23ef-a359-4970-854d-91db4662248e"
      },
      "execution_count": 11,
      "outputs": [
        {
          "output_type": "stream",
          "name": "stdout",
          "text": [
            "1\n",
            "2\n",
            "3\n"
          ]
        }
      ]
    },
    {
      "cell_type": "code",
      "source": [
        "d = {'nome': 'Mario', 'cognome': 'Rossi'}\n",
        "for k in d: # Scorre le chiavi del dizionario\n",
        "   print(k) # Visualizza prima nome poi cognome\n",
        "   print(d[k]) # Visualizza prima mario poi rossi"
      ],
      "metadata": {
        "colab": {
          "base_uri": "https://localhost:8080/"
        },
        "id": "8DN4Fbfmbd96",
        "outputId": "1cf0d7b9-4100-40cd-f492-e1502ec3910e"
      },
      "execution_count": 12,
      "outputs": [
        {
          "output_type": "stream",
          "name": "stdout",
          "text": [
            "nome\n",
            "Mario\n",
            "cognome\n",
            "Rossi\n"
          ]
        }
      ]
    },
    {
      "cell_type": "code",
      "source": [
        "for i in range(2, 10, 2):\n",
        "  print(i)"
      ],
      "metadata": {
        "colab": {
          "base_uri": "https://localhost:8080/"
        },
        "id": "8omEQ98sbgwq",
        "outputId": "0f46e773-eb59-4f2c-c4e2-7894167f2c2c"
      },
      "execution_count": 14,
      "outputs": [
        {
          "output_type": "stream",
          "name": "stdout",
          "text": [
            "2\n",
            "4\n",
            "6\n",
            "8\n"
          ]
        }
      ]
    },
    {
      "cell_type": "code",
      "source": [
        "tupla = (\"Mario\", \"Rossi\", 20)\n",
        "for v in tupla:\n",
        "  print(v)"
      ],
      "metadata": {
        "colab": {
          "base_uri": "https://localhost:8080/"
        },
        "id": "imwspBJXbocV",
        "outputId": "485feacd-6e2c-4301-85f1-32e12c3a3771"
      },
      "execution_count": 15,
      "outputs": [
        {
          "output_type": "stream",
          "name": "stdout",
          "text": [
            "Mario\n",
            "Rossi\n",
            "20\n"
          ]
        }
      ]
    },
    {
      "cell_type": "code",
      "source": [
        "my_set = {1, 2, 3, 4}\n",
        "for s in my_set:\n",
        "  print(s)"
      ],
      "metadata": {
        "colab": {
          "base_uri": "https://localhost:8080/"
        },
        "id": "e_RRBWNYbsdm",
        "outputId": "d4f977ea-18f2-4171-8785-1a98086cf0ef"
      },
      "execution_count": 16,
      "outputs": [
        {
          "output_type": "stream",
          "name": "stdout",
          "text": [
            "1\n",
            "2\n",
            "3\n",
            "4\n"
          ]
        }
      ]
    }
  ]
}