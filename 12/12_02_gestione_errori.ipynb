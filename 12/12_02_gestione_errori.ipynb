{
  "nbformat": 4,
  "nbformat_minor": 0,
  "metadata": {
    "colab": {
      "provenance": []
    },
    "kernelspec": {
      "name": "python3",
      "display_name": "Python 3"
    },
    "language_info": {
      "name": "python"
    }
  },
  "cells": [
    {
      "cell_type": "markdown",
      "source": [
        "# Gestione degli errori\n",
        "\n",
        "Nel caso abbiamo un errore in Python e vogliamo gestirlo possiamo usare le istruzioni try/except/finally\n",
        "\n",
        "La sintassi è:\n",
        "```\n",
        "try:\n",
        "    <blocco di codice>\n",
        "except <tipo di eccezione da gestire>:\n",
        "   <blocco di codice>\n",
        "finally:\n",
        "   <blocco di codice>\n",
        "```\n",
        "Quello che succede è:\n",
        "viene eseguito il blocco di codice all'interno di try, se si verifica un errore allora viene eseguito il blocco di codice all'interno di except. Il blocco di codice finally viene eseguito sia che si verifichi un errore, sia che non si verifichi, è opzionale cioè possiamo usare anche solo try-except.\n",
        "All'interno di except è possibile indicare il tipo di eccezione che si vuole gestire, in generale se si inserisce Exception vengono catturate tutte, altrimenti si possono gestire separatamente le singole eccezioni.\n",
        "\n",
        "\n",
        "Esistono varie eccezioni riportate nella dispensa.\n",
        "\n",
        "Di seguito vediamo un esempio, nel blocco try viene aperto un file di testo, se questo non esiste allora verrà lanciata l'eccezione FileNotFoundError e causerà l'esecuzione del blocco except.\n"
      ],
      "metadata": {
        "id": "fd2iOPLPb5dP"
      }
    },
    {
      "cell_type": "code",
      "source": [
        "try:\n",
        "  pf = open(\"file.txt\", 'rt') # Apre un file di testo\n",
        "  for line in pf: # Legge le righe del testo e le visualizza\n",
        "     print(line)\n",
        "  pf.close() # Chiude il file\n",
        "except FileNotFoundError:\n",
        "  print('Il file non esiste')"
      ],
      "metadata": {
        "colab": {
          "base_uri": "https://localhost:8080/"
        },
        "id": "TKQUI9VJcFS9",
        "outputId": "1f71ca22-1e3c-4c48-adaa-a85863c899ce"
      },
      "execution_count": 2,
      "outputs": [
        {
          "output_type": "stream",
          "name": "stdout",
          "text": [
            "Il file non esiste\n"
          ]
        }
      ]
    },
    {
      "cell_type": "markdown",
      "source": [
        "È anche possibile assegnare un'eccezione ad una variabile con l'istruzione `<eccezione> as variabile`, in modo da accedervi e visualizzare l'errore.\n"
      ],
      "metadata": {
        "id": "5y2fOb1vcRRN"
      }
    },
    {
      "cell_type": "code",
      "source": [
        "try:\n",
        "  print(b) # b non è stata definita darà errore\n",
        "except Exception as e: # Catturiamo un'eccezione generica\n",
        "  print(\"Errore\")\n",
        "  print(e)"
      ],
      "metadata": {
        "colab": {
          "base_uri": "https://localhost:8080/"
        },
        "id": "-nQB9gmIcfht",
        "outputId": "effea473-92f7-4247-f915-aa74e8081156"
      },
      "execution_count": 8,
      "outputs": [
        {
          "output_type": "stream",
          "name": "stdout",
          "text": [
            "Errore\n",
            "name 'b' is not defined\n"
          ]
        }
      ]
    },
    {
      "cell_type": "markdown",
      "source": [
        "Gestione dei flussi nei cicli\n",
        "All'interno dei cicli (for e while) è possibile utilizzare delle istruzioni per gestire ulteriormente il flusso, in particolare abbiamo tre istruzioni:\n",
        "*\tBreak: interrompe l’esecuzione del ciclo;\n",
        "*\tContinue: interrompe l’esecuzione del ciclo corrente e continua al successivo;\n",
        "*\tPass: è un’istruzione che in realtà non fa nulla, può essere messa come placeholder nel caso in cui Python si aspetti un’istruzione.\n",
        "\n",
        "\n",
        "Supponiamo di voler ricercare la posizione di un elemento in una lista.\n",
        "Scorriamo gli elementi della lista usando un indice, se l’elemento è nella posizione attuale interrompiamo il ciclo, altrimenti proseguiamo.\n",
        "Alla fine del ciclo si può vedere se ha trovato o meno l’elemento.\n"
      ],
      "metadata": {
        "id": "wDV4gAgxcr-n"
      }
    },
    {
      "cell_type": "code",
      "source": [
        "lista = [2, 5, 4, 3, 8, 1]\n",
        "cercato = 3\n",
        "i = 0\n",
        "while i < len(lista):\n",
        "  if lista[i] == cercato:\n",
        "     break\n",
        "  i+=1\n",
        "\n",
        "if i >= len(lista):\n",
        "  print(\"Elemento non trovato\")\n",
        "else:\n",
        "  print(f\"Elemento trovato nella posizione {i}\")\n"
      ],
      "metadata": {
        "colab": {
          "base_uri": "https://localhost:8080/"
        },
        "id": "1lo8FaeRdJAc",
        "outputId": "45bc9a09-a355-4954-a68c-76ac41f5e1d5"
      },
      "execution_count": 17,
      "outputs": [
        {
          "output_type": "stream",
          "name": "stdout",
          "text": [
            "Elemento trovato nella posizione 3\n"
          ]
        }
      ]
    },
    {
      "cell_type": "markdown",
      "source": [
        "Supponiamo di avere un elenco di dizionari, non tutti i dizionari hanno le stesse chiavi, noi vogliamo visualizzare una chiave specifica. Se la chiave non c'è verrà lanciata un'eccezione, possiamo intercettarla e non fare nulla, proseguendo così all'elemento successivo."
      ],
      "metadata": {
        "id": "cBx0_wnVdQMu"
      }
    },
    {
      "cell_type": "code",
      "source": [
        "elencoDizionari = [\n",
        "    {'chiave': 1},\n",
        "    {'test': 2},\n",
        "    {'chiave': 3}\n",
        "]\n",
        "\n",
        "for d in elencoDizionari: # Scorre tutti i dizionari\n",
        "  try:\n",
        "     print(d['chiave'])   # Visualizza la chiave\n",
        "  except Exception:       # Se non c’è e viene lanciato\n",
        "     pass                 #l’errore, non fa nulla e lo ignora"
      ],
      "metadata": {
        "colab": {
          "base_uri": "https://localhost:8080/"
        },
        "id": "GOESY71qdrfe",
        "outputId": "22e773c9-9cce-422c-bb65-12ba35b4e654"
      },
      "execution_count": 18,
      "outputs": [
        {
          "output_type": "stream",
          "name": "stdout",
          "text": [
            "1\n",
            "3\n"
          ]
        }
      ]
    },
    {
      "cell_type": "markdown",
      "source": [
        "Supponiamo di voler visualizzare  numeri minori di 10 in una lista."
      ],
      "metadata": {
        "id": "yxQvT_f_d1jV"
      }
    },
    {
      "cell_type": "code",
      "source": [
        "lista = [10, 20, 1, 5, 8, 50, 100]\n",
        "\n",
        "for n in lista:\n",
        "   if n >= 10:  # Se n è maggiore di 10\n",
        "     continue  # Continua con l’elemento successivo\n",
        "   print(n)    # Se non fa continue, allora farà anche questa"
      ],
      "metadata": {
        "colab": {
          "base_uri": "https://localhost:8080/"
        },
        "id": "hAulgkNrd_1i",
        "outputId": "adf073e5-0425-4314-8f1a-2039302eae85"
      },
      "execution_count": 21,
      "outputs": [
        {
          "output_type": "stream",
          "name": "stdout",
          "text": [
            "1\n",
            "5\n",
            "8\n"
          ]
        }
      ]
    },
    {
      "cell_type": "markdown",
      "source": [
        "potremmo farlo semplicemente con un if in questo caso"
      ],
      "metadata": {
        "id": "bVJ3zY5ceHR9"
      }
    },
    {
      "cell_type": "code",
      "source": [
        "for n in lista:\n",
        "  if n < 10:\n",
        "    print(n)"
      ],
      "metadata": {
        "colab": {
          "base_uri": "https://localhost:8080/"
        },
        "id": "e8qMmKvxeOe9",
        "outputId": "842b3b23-7131-48de-fa9d-4de8344499fb"
      },
      "execution_count": 23,
      "outputs": [
        {
          "output_type": "stream",
          "name": "stdout",
          "text": [
            "1\n",
            "5\n",
            "8\n"
          ]
        }
      ]
    }
  ]
}