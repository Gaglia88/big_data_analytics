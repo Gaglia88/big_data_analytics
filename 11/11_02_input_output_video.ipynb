{
  "nbformat": 4,
  "nbformat_minor": 0,
  "metadata": {
    "colab": {
      "provenance": []
    },
    "kernelspec": {
      "name": "python3",
      "display_name": "Python 3"
    },
    "language_info": {
      "name": "python"
    }
  },
  "cells": [
    {
      "cell_type": "markdown",
      "source": [
        "# Input da tastiera / output a schermo\n",
        "\n",
        "L'input da tastiera si prende con la funzione input(\"testo da mostrare\") che restituisce ciò che ha inserito l'utente.\n",
        "Per visualizzare a schermo si usa la funzione print(testo/variabile da mostrare).\n"
      ],
      "metadata": {
        "id": "CRbCoqEeYdrd"
      }
    },
    {
      "cell_type": "code",
      "source": [
        "val = input(\"Inserisci un valore numerico: \")\n",
        "print(\"L'utente ha inserito:\")\n",
        "print(val)"
      ],
      "metadata": {
        "colab": {
          "base_uri": "https://localhost:8080/"
        },
        "id": "oTKO9esAYqAa",
        "outputId": "042efa4d-1cf9-48e6-8ebe-7bb018e52549"
      },
      "execution_count": 1,
      "outputs": [
        {
          "output_type": "stream",
          "name": "stdout",
          "text": [
            "Inserisci un valore numerico: 10\n",
            "L'utente ha inserito:\n",
            "10\n"
          ]
        }
      ]
    },
    {
      "cell_type": "markdown",
      "source": [
        "Per concatenare due stringhe in Python si usa l'operatore più (+).\n",
        "\n",
        "Se si cerca di concatenare una stringa con un altro tipo di dato viene dato errore.\n"
      ],
      "metadata": {
        "id": "58DPz61_YsH1"
      }
    },
    {
      "cell_type": "code",
      "source": [
        "val = 10\n",
        "# Questa istruzione darà errore perché non si può concatenare\n",
        "# una stringa con un intero\n",
        "print(\"Il valore è: \"+val)"
      ],
      "metadata": {
        "colab": {
          "base_uri": "https://localhost:8080/",
          "height": 176
        },
        "id": "bERxi5PbY3an",
        "outputId": "9832e39d-65fe-47b7-d012-b3d4f34d09c3"
      },
      "execution_count": 2,
      "outputs": [
        {
          "output_type": "error",
          "ename": "TypeError",
          "evalue": "can only concatenate str (not \"int\") to str",
          "traceback": [
            "\u001b[0;31m---------------------------------------------------------------------------\u001b[0m",
            "\u001b[0;31mTypeError\u001b[0m                                 Traceback (most recent call last)",
            "\u001b[0;32m/tmp/ipython-input-2-1042505399.py\u001b[0m in \u001b[0;36m<cell line: 0>\u001b[0;34m()\u001b[0m\n\u001b[1;32m      2\u001b[0m \u001b[0;31m# Questa istruzione darà errore perché non si può concatenare\u001b[0m\u001b[0;34m\u001b[0m\u001b[0;34m\u001b[0m\u001b[0m\n\u001b[1;32m      3\u001b[0m \u001b[0;31m# una stringa con un intero\u001b[0m\u001b[0;34m\u001b[0m\u001b[0;34m\u001b[0m\u001b[0m\n\u001b[0;32m----> 4\u001b[0;31m \u001b[0mprint\u001b[0m\u001b[0;34m(\u001b[0m\u001b[0;34m\"Il valore è: \"\u001b[0m\u001b[0;34m+\u001b[0m\u001b[0mval\u001b[0m\u001b[0;34m)\u001b[0m\u001b[0;34m\u001b[0m\u001b[0;34m\u001b[0m\u001b[0m\n\u001b[0m",
            "\u001b[0;31mTypeError\u001b[0m: can only concatenate str (not \"int\") to str"
          ]
        }
      ]
    },
    {
      "cell_type": "markdown",
      "source": [
        "Un elemento non stringa se concatenato a una stringa va prima convertito con la funzione str.\n",
        "Questo risulta importante quando si vuole visualizzare una variabile all'interno di un messaggio."
      ],
      "metadata": {
        "id": "V6WNGTVZY3so"
      }
    },
    {
      "cell_type": "code",
      "source": [
        "# Bisogna prima farne la conversione in stringa\n",
        "print(\"Il valore è: \"+str(val))"
      ],
      "metadata": {
        "colab": {
          "base_uri": "https://localhost:8080/"
        },
        "id": "XUt6NI56Y7KO",
        "outputId": "f60ed2cb-ae2b-4117-87bc-e19baca6a90e"
      },
      "execution_count": 4,
      "outputs": [
        {
          "output_type": "stream",
          "name": "stdout",
          "text": [
            "Il valore è: 10\n"
          ]
        }
      ]
    },
    {
      "cell_type": "markdown",
      "source": [
        "Un altro modo per inserire variabili in una stringa è usare la notazione f-strings (formatted strings).\n",
        "\n",
        "Consente di inserire variabili ed espressioni all'interno di una stringa inserendole tra parentesi graffe. Per indicare che una stringa deve essere prima valutata inserendo variabili/espressioni bisogna precederla con la lettera f.\n"
      ],
      "metadata": {
        "id": "K996dLGdZBvR"
      }
    },
    {
      "cell_type": "code",
      "source": [
        "val = 10\n",
        "print(f\"Il valore è: {val}\")"
      ],
      "metadata": {
        "colab": {
          "base_uri": "https://localhost:8080/"
        },
        "id": "9HjXXjP0ZKpo",
        "outputId": "28859664-9951-43f2-f82c-56cfd73ada53"
      },
      "execution_count": 5,
      "outputs": [
        {
          "output_type": "stream",
          "name": "stdout",
          "text": [
            "Il valore è: 10\n"
          ]
        }
      ]
    },
    {
      "cell_type": "markdown",
      "source": [
        "Possiamo formattare un valore numerico da visualizzare facendo val:specifier"
      ],
      "metadata": {
        "id": "ouLj3OYEZMxv"
      }
    },
    {
      "cell_type": "code",
      "source": [
        "a = 10/3\n",
        "print(f\"Il valore di a è {a}\")\n",
        "print(f\"Il valore di a è {a:.2f}\")"
      ],
      "metadata": {
        "colab": {
          "base_uri": "https://localhost:8080/"
        },
        "id": "Z_vvNHNwZujv",
        "outputId": "8815d1e0-6db5-4c63-9cf7-5fbf630a500b"
      },
      "execution_count": 9,
      "outputs": [
        {
          "output_type": "stream",
          "name": "stdout",
          "text": [
            "Il valore di a è 3.3333333333333335\n",
            "Il valore di a è 3.33\n"
          ]
        }
      ]
    }
  ]
}