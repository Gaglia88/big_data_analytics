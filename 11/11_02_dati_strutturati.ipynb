{
  "nbformat": 4,
  "nbformat_minor": 0,
  "metadata": {
    "colab": {
      "provenance": []
    },
    "kernelspec": {
      "name": "python3",
      "display_name": "Python 3"
    },
    "language_info": {
      "name": "python"
    }
  },
  "cells": [
    {
      "cell_type": "markdown",
      "source": [
        "#\tSequenze di valori\n",
        "Indicano sequenze di valori. A differenza di linguaggi come il C, in Python una sequenza di valori (es. un Array), può contenere tipi di dato differenti, non necessariamente dello stesso tipo.\n",
        "\n",
        "Abbiamo:\n",
        "*\tliste: indica delle liste mutabili (si possono aggiungere/modificare/rimuovere gli elementi). Le liste possono essere ordinate, si indicano riportando i valori tra parentesi quadre. Il tipo di dato è list.\n",
        "*\ttuple immutabili: indica un insieme di valori ordinato e non modificabile, i valori si indicano tra parentesi tonde. Il tipo di dato è tuple.\n",
        "*\trange: un range è un intervallo di valori numerici di tipo intero. Il tipo di dato è range.\n",
        "*\tset: insieme di valori non ordinato e non ordinabile che non può essere ripetuto. Il tipo di dato è set.\n",
        "*\tDizionari: insieme di coppie (chiave, valore). Le chiavi sono univoche (non ci possono essere due chiavi uguali). Il tipo di dato è dict."
      ],
      "metadata": {
        "id": "w-aJX54RTefy"
      }
    },
    {
      "cell_type": "markdown",
      "source": [
        "## Liste\n",
        "Una lista è un elenco di valori mutabile non necessariamente dello stesso tipo che possono ripetersi ed è ordinabile. All’inizio l’ordine è dato da come inseriamo gli elementi, ossia il primo elemento inserito sarà il primo e così via.\n",
        "Una lista si definisce con le parentesi quadre\n"
      ],
      "metadata": {
        "id": "Wt-hTUl5TxN7"
      }
    },
    {
      "cell_type": "code",
      "source": [
        "lst = []         # lst è di tipo list\n",
        "print(type(lst))\n",
        "lst2 = [1, 2, 3] # Altro esempio di lista contenente interi\n",
        "lst3 = [1, 'Prova', 1.4, False] # Lista con dati misti\n",
        "\n",
        "print(lst3)"
      ],
      "metadata": {
        "colab": {
          "base_uri": "https://localhost:8080/"
        },
        "id": "f2AbnlfpT6ST",
        "outputId": "029a7e15-c261-4cf1-f285-14f1242a9e6a"
      },
      "execution_count": 1,
      "outputs": [
        {
          "output_type": "stream",
          "name": "stdout",
          "text": [
            "<class 'list'>\n",
            "[1, 'Prova', 1.4, False]\n"
          ]
        }
      ]
    },
    {
      "cell_type": "markdown",
      "source": [
        "Si può calcolare la lunghezza di una lista con la funzione len(lista).\n",
        "\n",
        "In generale, la funzione len può esser utilizzata per calcolare il numero di elementi contenuti in un oggetto che contiene collezioni di valori, come ad esempio le stringhe.\n"
      ],
      "metadata": {
        "id": "QzfNV7yZUBa_"
      }
    },
    {
      "cell_type": "code",
      "source": [
        "print(len(lst2))"
      ],
      "metadata": {
        "colab": {
          "base_uri": "https://localhost:8080/"
        },
        "id": "NqrvE-06USbM",
        "outputId": "fe286c9a-dc75-4222-d37f-7392bf0a05e6"
      },
      "execution_count": 2,
      "outputs": [
        {
          "output_type": "stream",
          "name": "stdout",
          "text": [
            "3\n"
          ]
        }
      ]
    },
    {
      "cell_type": "markdown",
      "source": [
        "Si può accedere ad un elemento in una posizione i della lista lst scrivendo lst[i]. La numerazione parte dalla posizione 0. Se viene messo un numero negativo, si indica che si vuole l’i-mo elemento partendo dal fondo della lista."
      ],
      "metadata": {
        "id": "BemiiVlEUTrY"
      }
    },
    {
      "cell_type": "code",
      "source": [
        "lst3 = [1, 'Prova', 1.4, False] # Lista con dati misti\n",
        "print(lst3[0]) # Visualizza 1\n",
        "print(lst3[3]) # Visualizza False\n",
        "print(lst3[-1]) # Visualizza False\n",
        "print(lst3[-2]) # Visualizza 1.4"
      ],
      "metadata": {
        "colab": {
          "base_uri": "https://localhost:8080/"
        },
        "id": "UEh0jknzUVTP",
        "outputId": "27c07c17-b887-4664-e0c7-5c0b05ff269f"
      },
      "execution_count": 4,
      "outputs": [
        {
          "output_type": "stream",
          "name": "stdout",
          "text": [
            "1\n",
            "False\n",
            "False\n",
            "1.4\n"
          ]
        }
      ]
    },
    {
      "cell_type": "markdown",
      "source": [
        "Si può anche accedere a pezzi della lista usando la notazione lista[indice iniziale : indice finale].\n",
        "Questa prenderà gli elementi nell'intervallo maggiore o uguale indice iniziale e minore dell'indice finale.\n",
        "\n",
        "\n",
        "Anche in questo caso si possono usare indici negativi per indicare un intervallo che parte dal fondo (è come scrivere dimensione della lista – valore).\n",
        "\n",
        "Se l'indice iniziale viene omesso, è come mettere 0 (quindi l'inizio della lista), se viene omesso l'indice finale è come mettere la dimensione della lista (quindi includere l'ultimo elemento).\n"
      ],
      "metadata": {
        "id": "49RGHQyGUd_k"
      }
    },
    {
      "cell_type": "code",
      "source": [
        "lst3 = [1, 'Prova', 1.4, False] # Lista con dati misti\n",
        "print(lst3[0:2]) # Visualizza: 1, Prova\n",
        "print(lst3[:2])  # Visualizza: 1, Prova\n",
        "print(lst3[2:])  # Visualizza: 1.4, False\n",
        "print(lst3[1:-1])# Visualizza: Prova, 1.4"
      ],
      "metadata": {
        "colab": {
          "base_uri": "https://localhost:8080/"
        },
        "id": "uZjmlZHqUxEz",
        "outputId": "5db704f6-d09d-4b8d-e6a1-031b8da2653f"
      },
      "execution_count": 5,
      "outputs": [
        {
          "output_type": "stream",
          "name": "stdout",
          "text": [
            "[1, 'Prova']\n",
            "[1, 'Prova']\n",
            "[1.4, False]\n",
            "['Prova', 1.4]\n"
          ]
        }
      ]
    },
    {
      "cell_type": "markdown",
      "source": [
        "È possibile aggiungere valori ad una lista con i metodi lst.insert(pos, el) e lst.append(el). Il primo inserisce un nuovo elemento el nella posizione specificata da pos, il secondo aggiunge l’elemento el in coda alla lista."
      ],
      "metadata": {
        "id": "mpw3kZ1vUz4W"
      }
    },
    {
      "cell_type": "code",
      "source": [
        "lst = [1, 2, 3]\n",
        "lst.append(4)\n",
        "print(lst) # Visualizza: 1, 2, 3, 4\n",
        "lst.insert(0, 10)\n",
        "print(lst) # Visualizza: 10, 1, 2, 3, 4"
      ],
      "metadata": {
        "colab": {
          "base_uri": "https://localhost:8080/"
        },
        "id": "QF0ANCmBU-AM",
        "outputId": "22239527-ed60-4cf4-c190-414f0452070c"
      },
      "execution_count": 6,
      "outputs": [
        {
          "output_type": "stream",
          "name": "stdout",
          "text": [
            "[1, 2, 3, 4]\n",
            "[10, 1, 2, 3, 4]\n"
          ]
        }
      ]
    },
    {
      "cell_type": "markdown",
      "source": [
        "È possibile rimuovere elementi da una lista con i metodi:\n",
        "*\tlst.remove(val) rimuove la prima occorrenza di val. Quindi se val è ripetuto non elimina tutte le occorrenze.\n",
        "*\tlst.pop(pos) rimuove l'elemento nella posizione i-ma;\n",
        "*\tlst.clear() rimuove tutti gli elementi dalla lista.\n"
      ],
      "metadata": {
        "id": "59tKNwGvVA3z"
      }
    },
    {
      "cell_type": "code",
      "source": [
        "lst = [1, 2, 1, 3]\n",
        "lst.remove(1) # Rimuove tutte le occorrenze di 1\n",
        "print(lst) # Visualizza: 2, 1, 3\n",
        "lst.pop(2) # Rimuove l'elemento in posizione 2\n",
        "print(lst) # Visualizza: 2, 1"
      ],
      "metadata": {
        "colab": {
          "base_uri": "https://localhost:8080/"
        },
        "id": "5Eh0eACaVL4T",
        "outputId": "3f7c3e72-a53e-41c6-ad91-4e6e029081e8"
      },
      "execution_count": 7,
      "outputs": [
        {
          "output_type": "stream",
          "name": "stdout",
          "text": [
            "[2, 1, 3]\n",
            "[2, 1]\n"
          ]
        }
      ]
    },
    {
      "cell_type": "markdown",
      "source": [
        "Una lista può essere ordinata con il metodo list.sort([key=fn, reverse=False]).\n",
        "Nella sua forma base il metodo può essere passato senza parametri per ottenere un ordinamento crescente di default. Se si vuole un ordinamento in ordine decrescente, bisogna aggiungere il parametro reverse=False.\n",
        "Key consente di passare una funzione che dice su cosa ordinare. Ad esempio, se abbiamo una lista di oggetti con varie proprietà, potremmo implementare una funzione che estrae una specifica proprietà da ogni oggetto e la usa per ordinare. Vedremo questa funzionalità in dettaglio più avanti.\n"
      ],
      "metadata": {
        "id": "6gLnnF7ZVPt7"
      }
    },
    {
      "cell_type": "code",
      "source": [
        "lst = [1, 2, 1, 3]\n",
        "lst.sort()\n",
        "print(lst) # Visualizza: 1, 1, 2, 3\n",
        "lst.sort(reverse=True)\n",
        "print(lst) # Visualizza: 3, 2, 1, 1"
      ],
      "metadata": {
        "colab": {
          "base_uri": "https://localhost:8080/"
        },
        "id": "-kdvEHP-Ve41",
        "outputId": "f081b470-a1f9-4562-8e17-be059031a466"
      },
      "execution_count": 8,
      "outputs": [
        {
          "output_type": "stream",
          "name": "stdout",
          "text": [
            "[1, 1, 2, 3]\n",
            "[3, 2, 1, 1]\n"
          ]
        }
      ]
    },
    {
      "cell_type": "markdown",
      "source": [
        "Possiamo unire due liste usando l'operatore +"
      ],
      "metadata": {
        "id": "jMEOmmYBVjql"
      }
    },
    {
      "cell_type": "code",
      "source": [
        "lst1 = [1, 2]\n",
        "lst2 = [3, 4]\n",
        "lst3 = lst1 + lst2\n",
        "print(lst3) # Visualizza: 1, 2, 3, 4"
      ],
      "metadata": {
        "colab": {
          "base_uri": "https://localhost:8080/"
        },
        "id": "3ASJ9pzZVrwE",
        "outputId": "0b059129-c77d-4316-a7e5-5f88df3854df"
      },
      "execution_count": 9,
      "outputs": [
        {
          "output_type": "stream",
          "name": "stdout",
          "text": [
            "[1, 2, 3, 4]\n"
          ]
        }
      ]
    },
    {
      "cell_type": "markdown",
      "source": [
        "## Tuple\n",
        "Una tupla è un elenco ordinato di valori non modificabile. Si definisce elencando i valori, non necessariamente dello stesso tipo, tra parentesi tonde.\n",
        "L'accesso agli elementi è indicizzato come per le liste.\n"
      ],
      "metadata": {
        "id": "i2ZxaCqtV0e8"
      }
    },
    {
      "cell_type": "code",
      "source": [
        "mr = (1, \"Mario\", \"Rossi\", \"Milano\") # Esempio di tupla\n",
        "print(mr[0])# Visualizza: 1\n",
        "print(mr[-1])# Visualizza: Milano\n",
        "print(mr[0:2]) # Visualizza: 1, Mario\n",
        "print(mr[:2])  # Visualizza: 1, Mario\n",
        "print(mr[1:-1])# Visualizza: Mario, Rossi"
      ],
      "metadata": {
        "colab": {
          "base_uri": "https://localhost:8080/"
        },
        "id": "9oRxFA-ZV906",
        "outputId": "03745e80-7df2-4865-837e-90c8a6f6d5b3"
      },
      "execution_count": 10,
      "outputs": [
        {
          "output_type": "stream",
          "name": "stdout",
          "text": [
            "1\n",
            "Milano\n",
            "(1, 'Mario')\n",
            "(1, 'Mario')\n",
            "('Mario', 'Rossi')\n"
          ]
        }
      ]
    },
    {
      "cell_type": "markdown",
      "source": [
        "## Range\n",
        "Un range è un elenco di valori interi, viene calcolato solo in fase di utilizzo. Si può definire in tre modi:\n",
        "*\trange(valoreMax): calcola un range di valori da 0 a rangeMax-1, con un incremento di 1;\n",
        "*\trange(valoreMin, valoreMax): calcola un range di valori da valoreMin a valoreMax-1 con un incremento di 1;\n",
        "*\trange(valoreMin, valoreMax, incremento): calcola un range di valori da valoreMin a valoreMax-1 con un certo incremento da un valore all’altro.\n",
        "\n",
        "\n",
        "Se si vuole visualizzare il contenuto di un range (cioè i valori veri e propri) questo va convertito prima in una lista.\n"
      ],
      "metadata": {
        "id": "glXI8hbgV-Yl"
      }
    },
    {
      "cell_type": "code",
      "source": [
        "r = range(5)    # Range che conterrà 0, 1, 2, 3, 4\n",
        "print(r)        # Visualizza range(0, 5)\n",
        "print(list(r))  # Visualizza 0, 1, 2, 3, 4\n",
        "r = range(2, 5) # Range che conterrà 2, 3, 4\n",
        "print(list(r))\n",
        "r = range(0, 8, 2) #Range che conterrà 0, 2, 4, 6\n",
        "print(list(r))"
      ],
      "metadata": {
        "colab": {
          "base_uri": "https://localhost:8080/"
        },
        "id": "zzJvtaAwWIYh",
        "outputId": "b32a9074-873e-48a2-ec0b-62f4839a6c24"
      },
      "execution_count": 12,
      "outputs": [
        {
          "output_type": "stream",
          "name": "stdout",
          "text": [
            "range(0, 5)\n",
            "[0, 1, 2, 3, 4]\n",
            "[2, 3, 4]\n",
            "[0, 2, 4, 6]\n"
          ]
        }
      ]
    },
    {
      "cell_type": "markdown",
      "source": [
        "## Set\n",
        "Un set è un elenco di valori, non necessariamente dello stesso tipo, senza ripetizione non ordinato. Non essendo ordinato non si può accedere agli elementi di un set tramite indice.\n",
        "Un set si definisce elencando i valori tra parentesi graffe oppure con l'istruzione specifica set.\n"
      ],
      "metadata": {
        "id": "e9n4MuvHWMXj"
      }
    },
    {
      "cell_type": "code",
      "source": [
        "s = {1, 2, 3, 1, 2}\n",
        "print(s) # Visualizza 1, 2, 3 perché i duplicati sono rimossi\n",
        "\n",
        "s = set([1, 2, 3, 1, 2]) # Altro modo per definire un set\n",
        "print(s)"
      ],
      "metadata": {
        "colab": {
          "base_uri": "https://localhost:8080/"
        },
        "id": "klodn5gcWdJ2",
        "outputId": "b234cbf6-09d3-484b-bc08-3a9a87ab0e70"
      },
      "execution_count": 13,
      "outputs": [
        {
          "output_type": "stream",
          "name": "stdout",
          "text": [
            "{1, 2, 3}\n",
            "{1, 2, 3}\n"
          ]
        }
      ]
    },
    {
      "cell_type": "markdown",
      "source": [
        "Si può verificare se un elemento esiste in un set con l’operatore in (può anche essere usato su liste/tuple), oppure se non esiste con not in."
      ],
      "metadata": {
        "id": "OJpq6fVzWhAo"
      }
    },
    {
      "cell_type": "code",
      "source": [
        "s = {1, 2, 3, 1, 2}\n",
        "print(1 in s)     # Ritornerà True\n",
        "print(10 in s)    # Ritornerà False\n",
        "print(5 not in s) # Ritornerà True"
      ],
      "metadata": {
        "colab": {
          "base_uri": "https://localhost:8080/"
        },
        "id": "zy6jArp6Wsg8",
        "outputId": "ca091d7e-a392-4f82-8268-a28e38398586"
      },
      "execution_count": 14,
      "outputs": [
        {
          "output_type": "stream",
          "name": "stdout",
          "text": [
            "True\n",
            "False\n",
            "True\n"
          ]
        }
      ]
    },
    {
      "cell_type": "markdown",
      "source": [
        "## Si possono aggiungere elementi in un set con il metodo s.add(el)."
      ],
      "metadata": {
        "id": "NnQ-8DsGW2ML"
      }
    },
    {
      "cell_type": "code",
      "source": [
        "s = {1, 2, 3}\n",
        "s.add(4)\n",
        "print(s) # Visualizzerà 1, 2, 3, 4"
      ],
      "metadata": {
        "colab": {
          "base_uri": "https://localhost:8080/"
        },
        "id": "6E-JpcErW5qV",
        "outputId": "2c0781ff-d034-4ef8-869c-ebd7e83e6f1f"
      },
      "execution_count": 15,
      "outputs": [
        {
          "output_type": "stream",
          "name": "stdout",
          "text": [
            "{1, 2, 3, 4}\n"
          ]
        }
      ]
    },
    {
      "cell_type": "markdown",
      "source": [
        "Si può eliminare un elemento specifico con s.remove(el). Si può anche recuperare un elemento rimuovendolo dal set con s.pop(), che preleva un elemento in modo casuale dal set e lo rimuove."
      ],
      "metadata": {
        "id": "QhedNj7MW78L"
      }
    },
    {
      "cell_type": "code",
      "source": [
        "s = {1, 2, 3}\n",
        "s.remove(2)\n",
        "print(s) # Visualizzerà 1, 3"
      ],
      "metadata": {
        "colab": {
          "base_uri": "https://localhost:8080/"
        },
        "id": "nwPCqZooW_lh",
        "outputId": "9cc4a3f0-0e18-49be-cc5e-5774feb3f7dc"
      },
      "execution_count": 16,
      "outputs": [
        {
          "output_type": "stream",
          "name": "stdout",
          "text": [
            "{1, 3}\n"
          ]
        }
      ]
    },
    {
      "cell_type": "code",
      "source": [
        "s = {1, 2, 3}\n",
        "el = s.pop() # Rimuove un elemento dal set in modo casuale\n",
        "print(el)\n",
        "print(s)"
      ],
      "metadata": {
        "colab": {
          "base_uri": "https://localhost:8080/"
        },
        "id": "yMpgvK4CXIsF",
        "outputId": "b0e6e9b9-f15e-4ac1-9de2-6594a71f8774"
      },
      "execution_count": 17,
      "outputs": [
        {
          "output_type": "stream",
          "name": "stdout",
          "text": [
            "1\n",
            "{2, 3}\n"
          ]
        }
      ]
    },
    {
      "cell_type": "markdown",
      "source": [
        "È possibile fare unione, intersezione e differenza tra set. Unione e intersezione sono commutative, la differenza no."
      ],
      "metadata": {
        "id": "1AwQC-x_XTaS"
      }
    },
    {
      "cell_type": "code",
      "source": [
        "s1 = {1, 2, 3}\n",
        "s2 = {2, 3, 4}\n",
        "print(s1.union(s2)) # Unisce s1 con s2, visualizza 1, 2, 3, 4\n",
        "print(s1.intersection(s2)) #Intersezione, visualizza: 2, 3\n",
        "print(s1.difference(s2)) #s1 meno s2, visualizza: 1\n",
        "print(s2.difference(s1)) #s2 meno s1, visualizza: 4"
      ],
      "metadata": {
        "colab": {
          "base_uri": "https://localhost:8080/"
        },
        "id": "HdKZQv41XY9Y",
        "outputId": "6f152df2-2ff1-4ba7-81f8-cc7ba1b25ce4"
      },
      "execution_count": 18,
      "outputs": [
        {
          "output_type": "stream",
          "name": "stdout",
          "text": [
            "{1, 2, 3, 4}\n",
            "{2, 3}\n",
            "{1}\n",
            "{4}\n"
          ]
        }
      ]
    },
    {
      "cell_type": "markdown",
      "source": [
        "## Dizionari\n",
        "Un dizionario rappresenta coppie (chiave, valore), ad ogni chiave è associato un valore.\n",
        "\n",
        "Si può definire imponendo una variabile di tipo dict() e poi definendo una nuova chiave come dict[chiave] = valore.\n",
        "\n",
        "Un dictionary può essere anche definito con le parentesi graffe come per i set.\n"
      ],
      "metadata": {
        "id": "lyDsYIOnXchh"
      }
    },
    {
      "cell_type": "code",
      "source": [
        "d = dict() # d è un dictionary\n",
        "d['mela'] = 1 # Inseriamo una chiave mela con valore 1\n",
        "d['pera'] = 2 # Inseriamo una chiave pera con valore 2\n",
        "\n",
        "print(d)\n",
        "\n",
        "# Altro modo per definire un dictionary\n",
        "d1 = {'banana': 3, 'mela': 1, 'pera': 2}\n",
        "print(d1)"
      ],
      "metadata": {
        "colab": {
          "base_uri": "https://localhost:8080/"
        },
        "id": "xPU8jNlHX89w",
        "outputId": "48c6530d-bd7a-4c5d-8556-f66826ea53e6"
      },
      "execution_count": 19,
      "outputs": [
        {
          "output_type": "stream",
          "name": "stdout",
          "text": [
            "{'mela': 1, 'pera': 2}\n",
            "{'banana': 3, 'mela': 1, 'pera': 2}\n"
          ]
        }
      ]
    },
    {
      "cell_type": "markdown",
      "source": [
        "Si può accedere a tutte le chiavi contenute in un dictionary con il metodo .keys(), mentre a tutti i valori con il metodo .values()"
      ],
      "metadata": {
        "id": "eql994OSYBGq"
      }
    },
    {
      "cell_type": "code",
      "source": [
        "d = dict() # d è un dictionary\n",
        "d['mela'] = 1 # Inseriamo una chiave mela con valore 1\n",
        "d['pera'] = 2 # Inseriamo una chiave pera con valore 2\n",
        "\n",
        "print(d.values())# Visualizzerà [1, 2]\n",
        "print(d.keys()) # Visualizzerà ['mela', 'pera']"
      ],
      "metadata": {
        "colab": {
          "base_uri": "https://localhost:8080/"
        },
        "id": "o4alE0-TYEJn",
        "outputId": "9844ad1b-6720-4220-aaaa-dfbf0b2f6cc1"
      },
      "execution_count": 20,
      "outputs": [
        {
          "output_type": "stream",
          "name": "stdout",
          "text": [
            "dict_values([1, 2])\n",
            "dict_keys(['mela', 'pera'])\n"
          ]
        }
      ]
    },
    {
      "cell_type": "markdown",
      "source": [
        "Si può rimuovere una chiave da un dictionary con il metodo .pop(chiave) che ritornerà anche il valore associato alla chiave."
      ],
      "metadata": {
        "id": "om4hq2lzYGrw"
      }
    },
    {
      "cell_type": "code",
      "source": [
        "d = dict() # d è un dictionary\n",
        "d['mela'] = 1 # Inseriamo una chiave mela con valore 1\n",
        "d['pera'] = 2 # Inseriamo una chiave pera con valore 2\n",
        "\n",
        "v = d.pop('pera') # Rimuove la chiave pera dal dictionary\n",
        "print(v) # Visualizza 2\n",
        "print(d)"
      ],
      "metadata": {
        "colab": {
          "base_uri": "https://localhost:8080/"
        },
        "id": "KMApCbPiYKaJ",
        "outputId": "c35548dd-04d8-471f-bb21-4fa6e0bc6112"
      },
      "execution_count": 22,
      "outputs": [
        {
          "output_type": "stream",
          "name": "stdout",
          "text": [
            "2\n",
            "{'mela': 1}\n"
          ]
        }
      ]
    }
  ]
}